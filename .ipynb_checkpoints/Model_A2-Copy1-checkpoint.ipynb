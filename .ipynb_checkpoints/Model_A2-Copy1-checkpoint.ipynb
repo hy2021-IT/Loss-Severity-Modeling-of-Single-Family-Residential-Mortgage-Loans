{
 "cells": [
  {
   "cell_type": "code",
   "execution_count": 1,
   "id": "1e62049e",
   "metadata": {},
   "outputs": [],
   "source": [
    "import pandas as pd\n",
    "import numpy as np\n",
    "import statsmodels.api as sm\n",
    "\n",
    "import seaborn as sns                       #visualisation\n",
    "import matplotlib.pyplot as plt             #visualisation\n",
    "\n",
    "\n",
    "%matplotlib inline"
   ]
  },
  {
   "cell_type": "markdown",
   "id": "0c75c17e",
   "metadata": {},
   "source": [
    "# 1. Data Collection from fannie mae source"
   ]
  },
  {
   "cell_type": "code",
   "execution_count": 135,
   "id": "5b3d274f",
   "metadata": {
    "scrolled": true
   },
   "outputs": [
    {
     "name": "stdout",
     "output_type": "stream",
     "text": [
      "2003Q1 (17364, 67)\n",
      "2003Q2 (23921, 67)\n"
     ]
    },
    {
     "name": "stderr",
     "output_type": "stream",
     "text": [
      "C:\\Users\\prith\\AppData\\Local\\Temp\\ipykernel_22776\\2666492242.py:7: DtypeWarning: Columns (64) have mixed types. Specify dtype option on import or set low_memory=False.\n",
      "  data2 = pd.read_csv(\"../Data_files/\"+ year + quarter +\".csv\")\n"
     ]
    },
    {
     "name": "stdout",
     "output_type": "stream",
     "text": [
      "2003Q3 (27929, 67)\n",
      "2003Q4 (17857, 67)\n",
      "2004Q1 (12137, 67)\n",
      "2004Q2 (16300, 67)\n",
      "2004Q3 (12402, 67)\n",
      "2004Q4 (14121, 67)\n",
      "2005Q1 (12887, 67)\n",
      "2005Q2 (17228, 67)\n"
     ]
    },
    {
     "name": "stderr",
     "output_type": "stream",
     "text": [
      "C:\\Users\\prith\\AppData\\Local\\Temp\\ipykernel_22776\\2666492242.py:7: DtypeWarning: Columns (64) have mixed types. Specify dtype option on import or set low_memory=False.\n",
      "  data2 = pd.read_csv(\"../Data_files/\"+ year + quarter +\".csv\")\n"
     ]
    },
    {
     "name": "stdout",
     "output_type": "stream",
     "text": [
      "2005Q3 (26075, 67)\n",
      "2005Q4 (25542, 67)\n",
      "2006Q1 (19104, 67)\n",
      "2006Q2 (23000, 67)\n",
      "2006Q3 (21439, 67)\n",
      "2006Q4 (23838, 67)\n",
      "2007Q1 (21592, 67)\n"
     ]
    },
    {
     "name": "stderr",
     "output_type": "stream",
     "text": [
      "C:\\Users\\prith\\AppData\\Local\\Temp\\ipykernel_22776\\2666492242.py:7: DtypeWarning: Columns (64) have mixed types. Specify dtype option on import or set low_memory=False.\n",
      "  data2 = pd.read_csv(\"../Data_files/\"+ year + quarter +\".csv\")\n"
     ]
    },
    {
     "name": "stdout",
     "output_type": "stream",
     "text": [
      "2007Q2 (24627, 67)\n",
      "2007Q3 (26399, 67)\n",
      "2007Q4 (38510, 67)\n",
      "2008Q1 (28258, 67)\n",
      "2008Q2 (24050, 67)\n",
      "2008Q3 (17103, 67)\n",
      "2008Q4 (10973, 67)\n"
     ]
    }
   ],
   "source": [
    "appended_data = []\n",
    "#change here to switch between before crisis and after crisis\n",
    "years = list(map(str, range(2003, 2009)))\n",
    "quarters = [ 'Q1', 'Q2', 'Q3', 'Q4']\n",
    "for year in years: \n",
    "    for quarter in quarters:\n",
    "        data2 = pd.read_csv(\"../Data_files/\"+ year + quarter +\".csv\")\n",
    "        print(year + quarter, data2.shape)\n",
    "        appended_data.append(data2)\n",
    "        \n",
    "data = pd.concat(appended_data)\n",
    "    \n",
    "# Some basic formating  \n",
    "data.reset_index(inplace = True)\n",
    "data.drop('index', axis=1, inplace=True)"
   ]
  },
  {
   "cell_type": "code",
   "execution_count": 136,
   "id": "125b2044",
   "metadata": {
    "scrolled": true
   },
   "outputs": [
    {
     "name": "stdout",
     "output_type": "stream",
     "text": [
      "SERVICER                                  502656\n",
      "CURR_RATE                                 492727\n",
      "LOAN_AGE                                  502656\n",
      "REM_MONTHS                                502656\n",
      "ADJ_REM_MONTHS                            502656\n",
      "MATR_DT                                   502656\n",
      "PMT_HISTORY                               502656\n",
      "MOD_FLAG                                  493693\n",
      "TOT_SCHD_PRNCPL                           492800\n",
      "NON_INTEREST_BEARING_UPB                  496958\n",
      "PRINCIPAL_FORGIVENESS_AMOUNT              496900\n",
      "SERV_IND                                  502656\n",
      "FORECLOSURE_PRINCIPAL_WRITE_OFF_AMOUNT    496640\n",
      "FORBEARANCE_INDICATOR                     492720\n",
      "ADR_TYPE                                  492720\n",
      "ADR_COUNT                                 502299\n",
      "ADR_UPB                                   502301\n",
      "dtype: int64\n"
     ]
    }
   ],
   "source": [
    "# Removing all columns which contain more than 90% null values\n",
    "null_count = data.isnull().sum()\n",
    "null_columns = null_count[null_count > data.shape[0]*(0.9)]\n",
    "print(null_columns)\n",
    "remove_columns = list(set(null_columns.index) - set(['CURR_RATE', 'NON_INTEREST_BEARING_UPB']))\n",
    "data.drop(remove_columns , axis=1, inplace=True)"
   ]
  },
  {
   "cell_type": "code",
   "execution_count": 137,
   "id": "79368671",
   "metadata": {},
   "outputs": [
    {
     "name": "stdout",
     "output_type": "stream",
     "text": [
      "ORIG_DATE\n",
      "LAST_PAID_INSTALLMENT_DATE\n",
      "FORECLOSURE_DATE\n",
      "DISPOSITION_DATE\n",
      "FIRST_PAY\n",
      "ZB_DTE\n"
     ]
    }
   ],
   "source": [
    "date_cols = ['ORIG_DATE', 'LAST_PAID_INSTALLMENT_DATE', 'FORECLOSURE_DATE', 'DISPOSITION_DATE', 'FIRST_PAY', 'ZB_DTE']\n",
    "for date_col in date_cols:\n",
    "    print(date_col)\n",
    "    #data[date_col] = data[date_col].astype('Int64').astype(str)\n",
    "    data[date_col+'_m'] =  pd.to_numeric(data[date_col].astype('Int64').astype(str).str[:-4], errors='coerce')\n",
    "    data[date_col+'_y'] =  pd.to_numeric(data[date_col].astype('Int64').astype(str).str[-4:], errors='coerce') \n",
    "    \n",
    "# dropping the original date columns at the end of macroeconomic variables integration in Model_A2"
   ]
  },
  {
   "cell_type": "code",
   "execution_count": 138,
   "id": "43f305f7",
   "metadata": {},
   "outputs": [],
   "source": [
    "date_colsF= ['ORIG_DATE_m', 'ORIG_DATE_y', 'LAST_PAID_INSTALLMENT_DATE_m',\n",
    "       'LAST_PAID_INSTALLMENT_DATE_y', 'FORECLOSURE_DATE_m',\n",
    "       'FORECLOSURE_DATE_y', 'DISPOSITION_DATE_m', 'DISPOSITION_DATE_y', \n",
    "      'FIRST_PAY_m', 'FIRST_PAY_y', 'ZB_DTE_m', 'ZB_DTE_y']\n",
    "\n",
    "for dt_col in date_colsF:\n",
    "    data[dt_col] = data[dt_col].astype('Int64')"
   ]
  },
  {
   "cell_type": "code",
   "execution_count": 139,
   "id": "8c9c2153",
   "metadata": {},
   "outputs": [],
   "source": [
    "# the columns CURR_RATE and NON_INTEREST_BEARING_UPB have high null value\n",
    "\n",
    "#The NON_INTEREST_BEARING_UPB can be made zero for Nan value\n",
    "#Substitute CURR_RATE with Origination_rate\n",
    "#Substituting Disposition_date with Zero_balance_effective_date\n",
    "data['NON_INTEREST_BEARING_UPB'] = data['NON_INTEREST_BEARING_UPB'].fillna(0)\n",
    "data['DISPOSITION_DATE_y'] = data['DISPOSITION_DATE_y'].fillna(data['FORECLOSURE_DATE_y'])"
   ]
  },
  {
   "cell_type": "code",
   "execution_count": 140,
   "id": "cc70e83c",
   "metadata": {},
   "outputs": [],
   "source": [
    "data['ACCRUED_INT'] =  (data['DISPOSITION_DATE_y'] * 12 + data['DISPOSITION_DATE_m']- \\\n",
    "                    data['LAST_PAID_INSTALLMENT_DATE_y'] * 12 - data['LAST_PAID_INSTALLMENT_DATE_m']) * \\\n",
    "                    (((data['ORIG_RATE'] / 100) - 0.0035) / 12) * (data['LAST_UPB'] - data['NON_INTEREST_BEARING_UPB'])\n",
    "data['ACCRUED_INT'] = data['ACCRUED_INT'].fillna(0)\n",
    "data['ACCRUED_INT'] = data['ACCRUED_INT'].apply(lambda x: x if x > 0 else 0)"
   ]
  },
  {
   "cell_type": "code",
   "execution_count": 141,
   "id": "2d230d1d",
   "metadata": {},
   "outputs": [
    {
     "data": {
      "text/plain": [
       "LAST_UPB                                           0\n",
       "FORECLOSURE_COSTS                               9220\n",
       "PROPERTY_PRESERVATION_AND_REPAIR_COSTS         57524\n",
       "ASSET_RECOVERY_COSTS                          105885\n",
       "MISCELLANEOUS_HOLDING_EXPENSES_AND_CREDITS     28300\n",
       "ASSOCIATED_TAXES_FOR_HOLDING_PROPERTY          36916\n",
       "NET_SALES_PROCEEDS                              8808\n",
       "CREDIT_ENHANCEMENT_PROCEEDS                   152626\n",
       "OTHER_FORECLOSURE_PROCEEDS                    104780\n",
       "Zero_Bal_Code                                      0\n",
       "dtype: int64"
      ]
     },
     "execution_count": 141,
     "metadata": {},
     "output_type": "execute_result"
    }
   ],
   "source": [
    "#Loss calculation\n",
    "loss_calculation_cols = ['LAST_UPB', 'FORECLOSURE_COSTS', 'PROPERTY_PRESERVATION_AND_REPAIR_COSTS', 'ASSET_RECOVERY_COSTS', \n",
    "               'MISCELLANEOUS_HOLDING_EXPENSES_AND_CREDITS', 'ASSOCIATED_TAXES_FOR_HOLDING_PROPERTY',\n",
    "     'NET_SALES_PROCEEDS', 'CREDIT_ENHANCEMENT_PROCEEDS', 'OTHER_FORECLOSURE_PROCEEDS', 'Zero_Bal_Code']\n",
    "data[loss_calculation_cols].isnull().sum()"
   ]
  },
  {
   "cell_type": "code",
   "execution_count": 142,
   "id": "54ce770e",
   "metadata": {},
   "outputs": [
    {
     "data": {
      "text/plain": [
       "<AxesSubplot:>"
      ]
     },
     "execution_count": 142,
     "metadata": {},
     "output_type": "execute_result"
    },
    {
     "data": {
      "image/png": "[encoded data removed]",
      "text/plain": [
       "<Figure size 640x480 with 1 Axes>"
      ]
     },
     "metadata": {},
     "output_type": "display_data"
    }
   ],
   "source": [
    "#Visualising last unpaid balance column\n",
    "data['LAST_UPB'].hist(bins=80)"
   ]
  },
  {
   "cell_type": "code",
   "execution_count": 143,
   "id": "3c468201",
   "metadata": {},
   "outputs": [],
   "source": [
    "# We are not considering the data having loss up to $100\n",
    "data = data[data['LAST_UPB']> 100.0]\n",
    "\n",
    "for col in loss_calculation_cols:\n",
    "    data[col].fillna(0, inplace=True)\n",
    "    \n",
    "data['LOSS'] = (data['LAST_UPB'] \\\n",
    "               +data['FORECLOSURE_COSTS']  \\\n",
    "               +data['PROPERTY_PRESERVATION_AND_REPAIR_COSTS'] \\\n",
    "               +data['ASSET_RECOVERY_COSTS']  \\\n",
    "               +data['MISCELLANEOUS_HOLDING_EXPENSES_AND_CREDITS']  \\\n",
    "               +data['ASSOCIATED_TAXES_FOR_HOLDING_PROPERTY']  \\\n",
    "                +data['ACCRUED_INT'] \\\n",
    "               -data['NET_SALES_PROCEEDS']  \\\n",
    "               -data['CREDIT_ENHANCEMENT_PROCEEDS'] \\\n",
    "               -data['OTHER_FORECLOSURE_PROCEEDS'])\n",
    "data['LOSS'] = data['LOSS'].round(2)"
   ]
  },
  {
   "cell_type": "code",
   "execution_count": 144,
   "id": "b4e198a1",
   "metadata": {},
   "outputs": [
    {
     "data": {
      "text/plain": [
       "<AxesSubplot:>"
      ]
     },
     "execution_count": 144,
     "metadata": {},
     "output_type": "execute_result"
    },
    {
     "data": {
      "image/png": "[encoded data removed]",
      "text/plain": [
       "<Figure size 640x480 with 1 Axes>"
      ]
     },
     "metadata": {},
     "output_type": "display_data"
    }
   ],
   "source": [
    "data['LOSS'].hist(bins=200)"
   ]
  },
  {
   "cell_type": "markdown",
   "id": "21d467ea",
   "metadata": {},
   "source": [
    "# 2. integrate the macroeconomic & state wise variables"
   ]
  },
  {
   "cell_type": "code",
   "execution_count": 145,
   "id": "eca59cd4",
   "metadata": {},
   "outputs": [
    {
     "data": {
      "text/plain": [
       "\"macro_date_cols = ['ZB_DTE', 'DISPOSITION_DATE', 'ORIG_DATE']\\nfor date_col in macro_date_cols:\\n    print(date_col)\\n    data[date_col] = data[date_col].astype('Int64')\""
      ]
     },
     "execution_count": 145,
     "metadata": {},
     "output_type": "execute_result"
    }
   ],
   "source": [
    "#no need to run this\n",
    "'''macro_date_cols = ['ZB_DTE', 'DISPOSITION_DATE', 'ORIG_DATE']\n",
    "for date_col in macro_date_cols:\n",
    "    print(date_col)\n",
    "    data[date_col] = data[date_col].astype('Int64')'''"
   ]
  },
  {
   "cell_type": "code",
   "execution_count": 146,
   "id": "91a305d2",
   "metadata": {},
   "outputs": [],
   "source": [
    "FHA30yr_data = pd.read_csv(\"./MacroEconomicToMerge/FHA30YearRate.csv\")\n",
    "FHA30yr_data.drop(\"DATE\", axis = 1, inplace=True)\n",
    "\n",
    "Unemployment_data = pd.read_csv(\"./MacroEconomicToMerge/UnemploymentRate.csv\", index_col=0)\n",
    "\n",
    "State_HPI = pd.read_csv(\"./MacroEconomicToMerge/State_HPI.csv\", index_col=0)\n",
    "State_HPI2 = pd.read_csv(\"./MacroEconomicToMerge/State_HPI.csv\", index_col=0)\n",
    "\n",
    "State_HPI = State_HPI.rename(columns = {'DATE' : 'ORIG_DATE', 'HPI' : 'Orig_HPI', 'State' : 'STATE'})\n",
    "State_HPI2 = State_HPI2.rename(columns = {'DATE' : 'DISPOSITION_DATE', 'HPI' : 'Disp_HPI', 'State' : 'STATE'})\n"
   ]
  },
  {
   "cell_type": "code",
   "execution_count": 147,
   "id": "439e0bf2",
   "metadata": {},
   "outputs": [],
   "source": [
    "data = data.merge(FHA30yr_data, on = 'ZB_DTE', how='left')\n",
    "\n",
    "Unemployment_data = Unemployment_data.rename({'DATE': 'ZB_DTE'}, axis = 1)\n",
    "data = data.merge(Unemployment_data, on = 'ZB_DTE', how='left')\n",
    "\n",
    "data = data.merge(State_HPI, on = ['ORIG_DATE', 'STATE'], how='left')\n",
    "data = data.merge(State_HPI2, on = ['DISPOSITION_DATE', 'STATE'], how='left')\n"
   ]
  },
  {
   "cell_type": "code",
   "execution_count": 148,
   "id": "296423ce",
   "metadata": {},
   "outputs": [],
   "source": [
    "data['MTM_LTV'] = data['LAST_UPB']/(data['ORIG_UPB']/data['OLTV']/data['Orig_HPI']*data['Disp_HPI'])\n"
   ]
  },
  {
   "cell_type": "code",
   "execution_count": 149,
   "id": "02d74730",
   "metadata": {},
   "outputs": [],
   "source": [
    "from state_foreclosure import method_of_foreclosure_and_time\n",
    "\n",
    "method_of_foreclosure_and_time = pd.DataFrame(method_of_foreclosure_and_time, columns=['STATE', 'method_of_foreclosurer', 'time_to_foreclose'])\n",
    "\n",
    "data = data.merge(method_of_foreclosure_and_time, on = 'STATE', how='left')"
   ]
  },
  {
   "cell_type": "code",
   "execution_count": 150,
   "id": "523d68c0",
   "metadata": {},
   "outputs": [],
   "source": [
    "#removing the unrequired date  columns here\n",
    "data.drop(date_cols, axis= 1, inplace=True)"
   ]
  },
  {
   "cell_type": "code",
   "execution_count": 151,
   "id": "358b31e3",
   "metadata": {},
   "outputs": [],
   "source": [
    "# Comment the first line after running this, Uncomment the second line for regaining checkpoint\n",
    "#data_check = data.copy(deep=True)\n",
    "#data = data_check.copy()"
   ]
  },
  {
   "cell_type": "code",
   "execution_count": null,
   "id": "bbcdc224",
   "metadata": {},
   "outputs": [],
   "source": []
  },
  {
   "cell_type": "markdown",
   "id": "f3a3f4ef",
   "metadata": {},
   "source": [
    "# 3. Final data formatting and selection of columns as predictors"
   ]
  },
  {
   "cell_type": "code",
   "execution_count": 152,
   "id": "aed9f677",
   "metadata": {},
   "outputs": [],
   "source": [
    "data.rename({'HIGH_BALANCE_LOAN_INDICATOR': 'HIGH_BAl',\n",
    "             'method_of_foreclosurer' : 'method_fore',\n",
    "             'FORECLOSURE_PRINCIPAL_WRITE_OFF_AMOUNT': 'principal_writeoff'\n",
    "            }, axis=1, inplace=True)"
   ]
  },
  {
   "cell_type": "code",
   "execution_count": 153,
   "id": "172dd722",
   "metadata": {},
   "outputs": [],
   "source": [
    "data = pd.get_dummies(data, columns=['PURPOSE', 'HIGH_BAl', 'method_fore'], drop_first=True)"
   ]
  },
  {
   "cell_type": "code",
   "execution_count": 156,
   "id": "e7e70beb",
   "metadata": {
    "scrolled": true
   },
   "outputs": [],
   "source": [
    "# ID is a non-predictor column, SELLER is too-much varialble right now\n",
    "# State column has been used by macroeconomic variable- method_of_foreclosurer\n",
    "unwanted_cols = set(loss_calculation_cols + ['LOAN_ID', 'SELLER', 'STATE']) - set(['LAST_UPB'])\n",
    "\n",
    "#new variable for data declared\n",
    "wdata = data.drop(unwanted_cols, axis = 1)"
   ]
  },
  {
   "cell_type": "code",
   "execution_count": 157,
   "id": "287a4b4f",
   "metadata": {},
   "outputs": [
    {
     "name": "stdout",
     "output_type": "stream",
     "text": [
      "CURR_RATE                          492712\n",
      "CSCORE_C                           336562\n",
      "MI_PCT                             350215\n",
      "IO                                  80323\n",
      "REPURCHASES_MAKE_WHOLE_PROCEEDS    188860\n",
      "MI_TYPE                            350215\n",
      "dtype: int64\n"
     ]
    }
   ],
   "source": [
    "# max amount of data we can loose = 10%\n",
    "max_loose = 0.1\n",
    "\n",
    "nulls_final = wdata.isnull().sum(axis = 0)\n",
    "tobe_removed = nulls_final[nulls_final > data.shape[0]*max_loose]\n",
    "print(tobe_removed)\n",
    "wdata.drop(list(tobe_removed.index), axis=1, inplace=True)"
   ]
  },
  {
   "cell_type": "code",
   "execution_count": 158,
   "id": "42517f84",
   "metadata": {
    "scrolled": true
   },
   "outputs": [
    {
     "data": {
      "text/html": [
       "<div>\n",
       "<style scoped>\n",
       "    .dataframe tbody tr th:only-of-type {\n",
       "        vertical-align: middle;\n",
       "    }\n",
       "\n",
       "    .dataframe tbody tr th {\n",
       "        vertical-align: top;\n",
       "    }\n",
       "\n",
       "    .dataframe thead th {\n",
       "        text-align: right;\n",
       "    }\n",
       "</style>\n",
       "<table border=\"1\" class=\"dataframe\">\n",
       "  <thead>\n",
       "    <tr style=\"text-align: right;\">\n",
       "      <th></th>\n",
       "      <th>ACT_PERIOD</th>\n",
       "      <th>CHANNEL</th>\n",
       "      <th>ORIG_RATE</th>\n",
       "      <th>ORIG_UPB</th>\n",
       "      <th>CURRENT_UPB</th>\n",
       "      <th>ORIG_TERM</th>\n",
       "      <th>OLTV</th>\n",
       "      <th>OCLTV</th>\n",
       "      <th>NUM_BO</th>\n",
       "      <th>DTI</th>\n",
       "      <th>...</th>\n",
       "      <th>Orig_HPI</th>\n",
       "      <th>Disp_HPI</th>\n",
       "      <th>MTM_LTV</th>\n",
       "      <th>time_to_foreclose</th>\n",
       "      <th>PURPOSE_P</th>\n",
       "      <th>PURPOSE_R</th>\n",
       "      <th>PURPOSE_U</th>\n",
       "      <th>method_fore_Judicial</th>\n",
       "      <th>method_fore_Power-of-Sale</th>\n",
       "      <th>method_fore_Strict Foreclosure</th>\n",
       "    </tr>\n",
       "  </thead>\n",
       "  <tbody>\n",
       "    <tr>\n",
       "      <th>0</th>\n",
       "      <td>122011</td>\n",
       "      <td>C</td>\n",
       "      <td>6.500</td>\n",
       "      <td>72000.0</td>\n",
       "      <td>0.0</td>\n",
       "      <td>360</td>\n",
       "      <td>60</td>\n",
       "      <td>60.0</td>\n",
       "      <td>2.0</td>\n",
       "      <td>17.0</td>\n",
       "      <td>...</td>\n",
       "      <td>286.67</td>\n",
       "      <td>299.38</td>\n",
       "      <td>46.585631</td>\n",
       "      <td>630.0</td>\n",
       "      <td>0</td>\n",
       "      <td>1</td>\n",
       "      <td>0</td>\n",
       "      <td>1</td>\n",
       "      <td>0</td>\n",
       "      <td>0</td>\n",
       "    </tr>\n",
       "    <tr>\n",
       "      <th>1</th>\n",
       "      <td>12014</td>\n",
       "      <td>C</td>\n",
       "      <td>5.875</td>\n",
       "      <td>104000.0</td>\n",
       "      <td>0.0</td>\n",
       "      <td>360</td>\n",
       "      <td>90</td>\n",
       "      <td>90.0</td>\n",
       "      <td>2.0</td>\n",
       "      <td>33.0</td>\n",
       "      <td>...</td>\n",
       "      <td>183.11</td>\n",
       "      <td>245.84</td>\n",
       "      <td>57.555854</td>\n",
       "      <td>540.0</td>\n",
       "      <td>0</td>\n",
       "      <td>0</td>\n",
       "      <td>0</td>\n",
       "      <td>1</td>\n",
       "      <td>0</td>\n",
       "      <td>0</td>\n",
       "    </tr>\n",
       "    <tr>\n",
       "      <th>2</th>\n",
       "      <td>22011</td>\n",
       "      <td>C</td>\n",
       "      <td>5.500</td>\n",
       "      <td>90000.0</td>\n",
       "      <td>0.0</td>\n",
       "      <td>360</td>\n",
       "      <td>75</td>\n",
       "      <td>75.0</td>\n",
       "      <td>1.0</td>\n",
       "      <td>30.0</td>\n",
       "      <td>...</td>\n",
       "      <td>289.42</td>\n",
       "      <td>225.61</td>\n",
       "      <td>84.417459</td>\n",
       "      <td>390.0</td>\n",
       "      <td>0</td>\n",
       "      <td>0</td>\n",
       "      <td>0</td>\n",
       "      <td>0</td>\n",
       "      <td>1</td>\n",
       "      <td>0</td>\n",
       "    </tr>\n",
       "    <tr>\n",
       "      <th>3</th>\n",
       "      <td>122010</td>\n",
       "      <td>C</td>\n",
       "      <td>6.125</td>\n",
       "      <td>124000.0</td>\n",
       "      <td>0.0</td>\n",
       "      <td>360</td>\n",
       "      <td>97</td>\n",
       "      <td>97.0</td>\n",
       "      <td>1.0</td>\n",
       "      <td>23.0</td>\n",
       "      <td>...</td>\n",
       "      <td>243.54</td>\n",
       "      <td>341.96</td>\n",
       "      <td>62.443259</td>\n",
       "      <td>450.0</td>\n",
       "      <td>1</td>\n",
       "      <td>0</td>\n",
       "      <td>0</td>\n",
       "      <td>0</td>\n",
       "      <td>1</td>\n",
       "      <td>0</td>\n",
       "    </tr>\n",
       "    <tr>\n",
       "      <th>4</th>\n",
       "      <td>32014</td>\n",
       "      <td>R</td>\n",
       "      <td>6.125</td>\n",
       "      <td>45000.0</td>\n",
       "      <td>0.0</td>\n",
       "      <td>240</td>\n",
       "      <td>67</td>\n",
       "      <td>67.0</td>\n",
       "      <td>1.0</td>\n",
       "      <td>39.0</td>\n",
       "      <td>...</td>\n",
       "      <td>242.49</td>\n",
       "      <td>243.44</td>\n",
       "      <td>46.494219</td>\n",
       "      <td>510.0</td>\n",
       "      <td>0</td>\n",
       "      <td>1</td>\n",
       "      <td>0</td>\n",
       "      <td>1</td>\n",
       "      <td>0</td>\n",
       "      <td>0</td>\n",
       "    </tr>\n",
       "    <tr>\n",
       "      <th>...</th>\n",
       "      <td>...</td>\n",
       "      <td>...</td>\n",
       "      <td>...</td>\n",
       "      <td>...</td>\n",
       "      <td>...</td>\n",
       "      <td>...</td>\n",
       "      <td>...</td>\n",
       "      <td>...</td>\n",
       "      <td>...</td>\n",
       "      <td>...</td>\n",
       "      <td>...</td>\n",
       "      <td>...</td>\n",
       "      <td>...</td>\n",
       "      <td>...</td>\n",
       "      <td>...</td>\n",
       "      <td>...</td>\n",
       "      <td>...</td>\n",
       "      <td>...</td>\n",
       "      <td>...</td>\n",
       "      <td>...</td>\n",
       "      <td>...</td>\n",
       "    </tr>\n",
       "    <tr>\n",
       "      <th>502615</th>\n",
       "      <td>42010</td>\n",
       "      <td>C</td>\n",
       "      <td>7.000</td>\n",
       "      <td>96000.0</td>\n",
       "      <td>0.0</td>\n",
       "      <td>360</td>\n",
       "      <td>80</td>\n",
       "      <td>80.0</td>\n",
       "      <td>1.0</td>\n",
       "      <td>50.0</td>\n",
       "      <td>...</td>\n",
       "      <td>517.30</td>\n",
       "      <td>445.70</td>\n",
       "      <td>92.150509</td>\n",
       "      <td>900.0</td>\n",
       "      <td>0</td>\n",
       "      <td>1</td>\n",
       "      <td>0</td>\n",
       "      <td>1</td>\n",
       "      <td>0</td>\n",
       "      <td>0</td>\n",
       "    </tr>\n",
       "    <tr>\n",
       "      <th>502616</th>\n",
       "      <td>72013</td>\n",
       "      <td>R</td>\n",
       "      <td>6.250</td>\n",
       "      <td>116000.0</td>\n",
       "      <td>0.0</td>\n",
       "      <td>360</td>\n",
       "      <td>80</td>\n",
       "      <td>80.0</td>\n",
       "      <td>2.0</td>\n",
       "      <td>62.0</td>\n",
       "      <td>...</td>\n",
       "      <td>344.63</td>\n",
       "      <td>303.16</td>\n",
       "      <td>87.742573</td>\n",
       "      <td>810.0</td>\n",
       "      <td>1</td>\n",
       "      <td>0</td>\n",
       "      <td>0</td>\n",
       "      <td>1</td>\n",
       "      <td>0</td>\n",
       "      <td>0</td>\n",
       "    </tr>\n",
       "    <tr>\n",
       "      <th>502617</th>\n",
       "      <td>42014</td>\n",
       "      <td>C</td>\n",
       "      <td>6.625</td>\n",
       "      <td>112000.0</td>\n",
       "      <td>0.0</td>\n",
       "      <td>360</td>\n",
       "      <td>70</td>\n",
       "      <td>70.0</td>\n",
       "      <td>1.0</td>\n",
       "      <td>37.0</td>\n",
       "      <td>...</td>\n",
       "      <td>300.93</td>\n",
       "      <td>278.57</td>\n",
       "      <td>71.963301</td>\n",
       "      <td>420.0</td>\n",
       "      <td>0</td>\n",
       "      <td>1</td>\n",
       "      <td>0</td>\n",
       "      <td>0</td>\n",
       "      <td>1</td>\n",
       "      <td>0</td>\n",
       "    </tr>\n",
       "    <tr>\n",
       "      <th>502618</th>\n",
       "      <td>22012</td>\n",
       "      <td>B</td>\n",
       "      <td>6.750</td>\n",
       "      <td>153000.0</td>\n",
       "      <td>0.0</td>\n",
       "      <td>360</td>\n",
       "      <td>90</td>\n",
       "      <td>90.0</td>\n",
       "      <td>1.0</td>\n",
       "      <td>58.0</td>\n",
       "      <td>...</td>\n",
       "      <td>444.73</td>\n",
       "      <td>399.33</td>\n",
       "      <td>98.159220</td>\n",
       "      <td>480.0</td>\n",
       "      <td>1</td>\n",
       "      <td>0</td>\n",
       "      <td>0</td>\n",
       "      <td>0</td>\n",
       "      <td>1</td>\n",
       "      <td>0</td>\n",
       "    </tr>\n",
       "    <tr>\n",
       "      <th>502619</th>\n",
       "      <td>32011</td>\n",
       "      <td>C</td>\n",
       "      <td>5.875</td>\n",
       "      <td>287000.0</td>\n",
       "      <td>0.0</td>\n",
       "      <td>360</td>\n",
       "      <td>58</td>\n",
       "      <td>84.0</td>\n",
       "      <td>1.0</td>\n",
       "      <td>50.0</td>\n",
       "      <td>...</td>\n",
       "      <td>364.28</td>\n",
       "      <td>305.01</td>\n",
       "      <td>70.150645</td>\n",
       "      <td>540.0</td>\n",
       "      <td>0</td>\n",
       "      <td>1</td>\n",
       "      <td>0</td>\n",
       "      <td>0</td>\n",
       "      <td>1</td>\n",
       "      <td>0</td>\n",
       "    </tr>\n",
       "  </tbody>\n",
       "</table>\n",
       "<p>502620 rows × 52 columns</p>\n",
       "</div>"
      ],
      "text/plain": [
       "        ACT_PERIOD CHANNEL  ORIG_RATE  ORIG_UPB  CURRENT_UPB  ORIG_TERM  OLTV  \\\n",
       "0           122011       C      6.500   72000.0          0.0        360    60   \n",
       "1            12014       C      5.875  104000.0          0.0        360    90   \n",
       "2            22011       C      5.500   90000.0          0.0        360    75   \n",
       "3           122010       C      6.125  124000.0          0.0        360    97   \n",
       "4            32014       R      6.125   45000.0          0.0        240    67   \n",
       "...            ...     ...        ...       ...          ...        ...   ...   \n",
       "502615       42010       C      7.000   96000.0          0.0        360    80   \n",
       "502616       72013       R      6.250  116000.0          0.0        360    80   \n",
       "502617       42014       C      6.625  112000.0          0.0        360    70   \n",
       "502618       22012       B      6.750  153000.0          0.0        360    90   \n",
       "502619       32011       C      5.875  287000.0          0.0        360    58   \n",
       "\n",
       "        OCLTV  NUM_BO   DTI  ...  Orig_HPI Disp_HPI    MTM_LTV  \\\n",
       "0        60.0     2.0  17.0  ...    286.67   299.38  46.585631   \n",
       "1        90.0     2.0  33.0  ...    183.11   245.84  57.555854   \n",
       "2        75.0     1.0  30.0  ...    289.42   225.61  84.417459   \n",
       "3        97.0     1.0  23.0  ...    243.54   341.96  62.443259   \n",
       "4        67.0     1.0  39.0  ...    242.49   243.44  46.494219   \n",
       "...       ...     ...   ...  ...       ...      ...        ...   \n",
       "502615   80.0     1.0  50.0  ...    517.30   445.70  92.150509   \n",
       "502616   80.0     2.0  62.0  ...    344.63   303.16  87.742573   \n",
       "502617   70.0     1.0  37.0  ...    300.93   278.57  71.963301   \n",
       "502618   90.0     1.0  58.0  ...    444.73   399.33  98.159220   \n",
       "502619   84.0     1.0  50.0  ...    364.28   305.01  70.150645   \n",
       "\n",
       "        time_to_foreclose PURPOSE_P  PURPOSE_R  PURPOSE_U  \\\n",
       "0                   630.0         0          1          0   \n",
       "1                   540.0         0          0          0   \n",
       "2                   390.0         0          0          0   \n",
       "3                   450.0         1          0          0   \n",
       "4                   510.0         0          1          0   \n",
       "...                   ...       ...        ...        ...   \n",
       "502615              900.0         0          1          0   \n",
       "502616              810.0         1          0          0   \n",
       "502617              420.0         0          1          0   \n",
       "502618              480.0         1          0          0   \n",
       "502619              540.0         0          1          0   \n",
       "\n",
       "       method_fore_Judicial method_fore_Power-of-Sale  \\\n",
       "0                         1                         0   \n",
       "1                         1                         0   \n",
       "2                         0                         1   \n",
       "3                         0                         1   \n",
       "4                         1                         0   \n",
       "...                     ...                       ...   \n",
       "502615                    1                         0   \n",
       "502616                    1                         0   \n",
       "502617                    0                         1   \n",
       "502618                    0                         1   \n",
       "502619                    0                         1   \n",
       "\n",
       "       method_fore_Strict Foreclosure  \n",
       "0                                   0  \n",
       "1                                   0  \n",
       "2                                   0  \n",
       "3                                   0  \n",
       "4                                   0  \n",
       "...                               ...  \n",
       "502615                              0  \n",
       "502616                              0  \n",
       "502617                              0  \n",
       "502618                              0  \n",
       "502619                              0  \n",
       "\n",
       "[502620 rows x 52 columns]"
      ]
     },
     "execution_count": 158,
     "metadata": {},
     "output_type": "execute_result"
    }
   ],
   "source": [
    "wdata"
   ]
  },
  {
   "cell_type": "markdown",
   "id": "3746fe8c",
   "metadata": {},
   "source": [
    "# OLS"
   ]
  },
  {
   "cell_type": "code",
   "execution_count": 159,
   "id": "30001ea1",
   "metadata": {},
   "outputs": [],
   "source": [
    "from math import log\n",
    "from sklearn.model_selection import train_test_split, cross_val_score, RepeatedKFold\n",
    "from sklearn.linear_model import LinearRegression\n",
    "from sklearn.metrics import r2_score, mean_squared_error\n",
    "from sklearn.preprocessing import StandardScaler\n",
    "\n",
    "from pyearth import Earth"
   ]
  },
  {
   "cell_type": "code",
   "execution_count": 160,
   "id": "6596aaed",
   "metadata": {},
   "outputs": [
    {
     "name": "stderr",
     "output_type": "stream",
     "text": [
      "C:\\Users\\prith\\AppData\\Local\\Temp\\ipykernel_22776\\4233065074.py:2: FutureWarning: In a future version of pandas all arguments of DataFrame.dropna will be keyword-only.\n",
      "  wdata.dropna(0, inplace=True)\n"
     ]
    },
    {
     "name": "stdout",
     "output_type": "stream",
     "text": [
      "(475757, 52)\n"
     ]
    }
   ],
   "source": [
    "# important before starting regression\n",
    "wdata.dropna(0, inplace=True)\n",
    "print(wdata.shape)"
   ]
  },
  {
   "cell_type": "code",
   "execution_count": 161,
   "id": "ef23058f",
   "metadata": {},
   "outputs": [
    {
     "data": {
      "text/plain": [
       "<AxesSubplot:>"
      ]
     },
     "execution_count": 161,
     "metadata": {},
     "output_type": "execute_result"
    },
    {
     "data": {
      "image/png": "[encoded data removed]",
      "text/plain": [
       "<Figure size 640x480 with 1 Axes>"
      ]
     },
     "metadata": {},
     "output_type": "display_data"
    }
   ],
   "source": [
    "wdata['Lossper_GD'] = (wdata['LOSS']/wdata['LAST_UPB'])*100\n",
    "wdata['Lossper_GD'].hist(bins=200)"
   ]
  },
  {
   "cell_type": "code",
   "execution_count": 162,
   "id": "bc4403b7",
   "metadata": {},
   "outputs": [
    {
     "data": {
      "text/plain": [
       "Index(['ACT_PERIOD', 'CHANNEL', 'ORIG_RATE', 'ORIG_UPB', 'CURRENT_UPB',\n",
       "       'ORIG_TERM', 'OLTV', 'OCLTV', 'NUM_BO', 'DTI', 'CSCORE_B', 'FIRST_FLAG',\n",
       "       'PROP', 'NO_UNITS', 'OCC_STAT', 'MSA', 'ZIP', 'PRODUCT', 'PPMT_FLG',\n",
       "       'DLQ_STATUS', 'LAST_UPB', 'NON_INTEREST_BEARING_UPB',\n",
       "       'HOMEREADY_PROGRAM_INDICATOR', 'RELOCATION_MORTGAGE_INDICATOR',\n",
       "       'HIGH_LOAN_TO_VALUE_HLTV_REFINANCE_OPTION_INDICATOR', 'RE_PROCS_FLAG',\n",
       "       'ORIG_DATE_m', 'ORIG_DATE_y', 'LAST_PAID_INSTALLMENT_DATE_m',\n",
       "       'LAST_PAID_INSTALLMENT_DATE_y', 'FORECLOSURE_DATE_m',\n",
       "       'FORECLOSURE_DATE_y', 'DISPOSITION_DATE_m', 'DISPOSITION_DATE_y',\n",
       "       'FIRST_PAY_m', 'FIRST_PAY_y', 'ZB_DTE_m', 'ZB_DTE_y', 'ACCRUED_INT',\n",
       "       'LOSS', 'FHA_Mean', 'UNEmpRate', 'Orig_HPI', 'Disp_HPI', 'MTM_LTV',\n",
       "       'time_to_foreclose', 'PURPOSE_P', 'PURPOSE_R', 'PURPOSE_U',\n",
       "       'method_fore_Judicial', 'method_fore_Power-of-Sale',\n",
       "       'method_fore_Strict Foreclosure', 'Lossper_GD'],\n",
       "      dtype='object')"
      ]
     },
     "execution_count": 162,
     "metadata": {},
     "output_type": "execute_result"
    }
   ],
   "source": [
    "wdata.columns"
   ]
  },
  {
   "cell_type": "markdown",
   "id": "d040d883",
   "metadata": {},
   "source": [
    "LOSS/LGD Prediction"
   ]
  },
  {
   "cell_type": "code",
   "execution_count": 163,
   "id": "e0005c11",
   "metadata": {},
   "outputs": [],
   "source": [
    "# Doing a random split now, \n",
    "#can be converted into time based split later\n",
    "#set.seed()\n",
    "train, evaluate = train_test_split(wdata, test_size=0.2)"
   ]
  },
  {
   "cell_type": "code",
   "execution_count": 164,
   "id": "9262030c",
   "metadata": {},
   "outputs": [],
   "source": [
    "#switch here between LOSS and Lossper_GD\n",
    "output = 'L'\n",
    "\n",
    "\n",
    "predictors= ['ORIG_RATE',  'ORIG_TERM', 'ORIG_UPB', 'OLTV', 'CSCORE_B','ORIG_DATE_m', 'ORIG_DATE_y',\n",
    "           'UNEmpRate', 'time_to_foreclose', 'PURPOSE_P',\n",
    "       'PURPOSE_R', 'method_fore_Judicial',\n",
    "       'method_fore_Power-of-Sale', 'method_fore_Strict Foreclosure',\n",
    "       'LAST_PAID_INSTALLMENT_DATE_m', 'LAST_PAID_INSTALLMENT_DATE_y',\n",
    "       'FORECLOSURE_DATE_m', 'FORECLOSURE_DATE_y', 'DISPOSITION_DATE_m',\n",
    "       'DISPOSITION_DATE_y']\n",
    "\n",
    "Y_train = train[output]\n",
    "#'HIGH_BAl_Y' - May not be present because it has unique value\n",
    "X_train = train[predictors]\n",
    "\n",
    "Y_eval = evaluate[output]\n",
    "X_eval = evaluate[predictors]"
   ]
  },
  {
   "cell_type": "code",
   "execution_count": 165,
   "id": "bd7e201a",
   "metadata": {},
   "outputs": [],
   "source": [
    "# calculate aic for regression\n",
    "def calculate_aic(n, mse, num_params):\n",
    " aic = n * log(mse) + 2 * num_params\n",
    " return aic\n",
    "# calculate bic for regression\n",
    "def calculate_bic(n, mse, num_params):\n",
    " bic = n * log(mse) + num_params * log(n)\n",
    " return bic"
   ]
  },
  {
   "cell_type": "code",
   "execution_count": 168,
   "id": "04a35230",
   "metadata": {},
   "outputs": [
    {
     "data": {
      "text/plain": [
       "ORIG_RATE                         float64\n",
       "ORIG_TERM                           int64\n",
       "ORIG_UPB                          float64\n",
       "OLTV                                int64\n",
       "CSCORE_B                          float64\n",
       "ORIG_DATE_m                         Int64\n",
       "ORIG_DATE_y                         Int64\n",
       "UNEmpRate                         float64\n",
       "time_to_foreclose                 float64\n",
       "PURPOSE_P                           uint8\n",
       "PURPOSE_R                           uint8\n",
       "method_fore_Judicial                uint8\n",
       "method_fore_Power-of-Sale           uint8\n",
       "method_fore_Strict Foreclosure      uint8\n",
       "LAST_PAID_INSTALLMENT_DATE_m        Int64\n",
       "LAST_PAID_INSTALLMENT_DATE_y        Int64\n",
       "FORECLOSURE_DATE_m                  Int64\n",
       "FORECLOSURE_DATE_y                  Int64\n",
       "DISPOSITION_DATE_m                  Int64\n",
       "DISPOSITION_DATE_y                  Int64\n",
       "dtype: object"
      ]
     },
     "execution_count": 168,
     "metadata": {},
     "output_type": "execute_result"
    }
   ],
   "source": [
    "X_train.dtypes"
   ]
  },
  {
   "cell_type": "code",
   "execution_count": 169,
   "id": "c8a62bdd",
   "metadata": {},
   "outputs": [],
   "source": [
    "X_train_ = sm.add_constant(X_train)\n",
    "model = sm.OLS(Y_train,X_train_.astype(float))\n",
    "results = model.fit()"
   ]
  },
  {
   "cell_type": "code",
   "execution_count": 170,
   "id": "ec5ecfe3",
   "metadata": {},
   "outputs": [
    {
     "data": {
      "text/html": [
       "<table class=\"simpletable\">\n",
       "<caption>OLS Regression Results</caption>\n",
       "<tr>\n",
       "  <th>Dep. Variable:</th>          <td>LOSS</td>       <th>  R-squared:         </th>  <td>   0.486</td>  \n",
       "</tr>\n",
       "<tr>\n",
       "  <th>Model:</th>                   <td>OLS</td>       <th>  Adj. R-squared:    </th>  <td>   0.486</td>  \n",
       "</tr>\n",
       "<tr>\n",
       "  <th>Method:</th>             <td>Least Squares</td>  <th>  F-statistic:       </th>  <td>1.801e+04</td> \n",
       "</tr>\n",
       "<tr>\n",
       "  <th>Date:</th>             <td>Wed, 29 Nov 2023</td> <th>  Prob (F-statistic):</th>   <td>  0.00</td>   \n",
       "</tr>\n",
       "<tr>\n",
       "  <th>Time:</th>                 <td>18:26:17</td>     <th>  Log-Likelihood:    </th> <td>-4.6276e+06</td>\n",
       "</tr>\n",
       "<tr>\n",
       "  <th>No. Observations:</th>      <td>380605</td>      <th>  AIC:               </th>  <td>9.255e+06</td> \n",
       "</tr>\n",
       "<tr>\n",
       "  <th>Df Residuals:</th>          <td>380584</td>      <th>  BIC:               </th>  <td>9.255e+06</td> \n",
       "</tr>\n",
       "<tr>\n",
       "  <th>Df Model:</th>              <td>    20</td>      <th>                     </th>      <td> </td>     \n",
       "</tr>\n",
       "<tr>\n",
       "  <th>Covariance Type:</th>      <td>nonrobust</td>    <th>                     </th>      <td> </td>     \n",
       "</tr>\n",
       "</table>\n",
       "<table class=\"simpletable\">\n",
       "<tr>\n",
       "                 <td></td>                   <th>coef</th>     <th>std err</th>      <th>t</th>      <th>P>|t|</th>  <th>[0.025</th>    <th>0.975]</th>  \n",
       "</tr>\n",
       "<tr>\n",
       "  <th>const</th>                          <td>-4.882e+06</td> <td> 1.13e+05</td> <td>  -43.033</td> <td> 0.000</td> <td> -5.1e+06</td> <td>-4.66e+06</td>\n",
       "</tr>\n",
       "<tr>\n",
       "  <th>ORIG_RATE</th>                      <td> 1.557e+04</td> <td>  170.034</td> <td>   91.550</td> <td> 0.000</td> <td> 1.52e+04</td> <td> 1.59e+04</td>\n",
       "</tr>\n",
       "<tr>\n",
       "  <th>ORIG_TERM</th>                      <td>   58.8380</td> <td>    1.747</td> <td>   33.688</td> <td> 0.000</td> <td>   55.415</td> <td>   62.261</td>\n",
       "</tr>\n",
       "<tr>\n",
       "  <th>ORIG_UPB</th>                       <td>    0.3177</td> <td>    0.001</td> <td>  342.076</td> <td> 0.000</td> <td>    0.316</td> <td>    0.319</td>\n",
       "</tr>\n",
       "<tr>\n",
       "  <th>OLTV</th>                           <td>  -41.2091</td> <td>    7.218</td> <td>   -5.709</td> <td> 0.000</td> <td>  -55.357</td> <td>  -27.062</td>\n",
       "</tr>\n",
       "<tr>\n",
       "  <th>CSCORE_B</th>                       <td>   10.9057</td> <td>    1.393</td> <td>    7.829</td> <td> 0.000</td> <td>    8.175</td> <td>   13.636</td>\n",
       "</tr>\n",
       "<tr>\n",
       "  <th>ORIG_DATE_m</th>                    <td>  253.2249</td> <td>   22.821</td> <td>   11.096</td> <td> 0.000</td> <td>  208.497</td> <td>  297.953</td>\n",
       "</tr>\n",
       "<tr>\n",
       "  <th>ORIG_DATE_y</th>                    <td> 3749.2887</td> <td>   55.192</td> <td>   67.932</td> <td> 0.000</td> <td> 3641.114</td> <td> 3857.463</td>\n",
       "</tr>\n",
       "<tr>\n",
       "  <th>UNEmpRate</th>                      <td> 4205.5625</td> <td>   49.708</td> <td>   84.606</td> <td> 0.000</td> <td> 4108.137</td> <td> 4302.988</td>\n",
       "</tr>\n",
       "<tr>\n",
       "  <th>time_to_foreclose</th>              <td>   17.2690</td> <td>    0.332</td> <td>   52.086</td> <td> 0.000</td> <td>   16.619</td> <td>   17.919</td>\n",
       "</tr>\n",
       "<tr>\n",
       "  <th>PURPOSE_P</th>                      <td>-1.639e+04</td> <td>  195.656</td> <td>  -83.755</td> <td> 0.000</td> <td>-1.68e+04</td> <td> -1.6e+04</td>\n",
       "</tr>\n",
       "<tr>\n",
       "  <th>PURPOSE_R</th>                      <td>-4475.8957</td> <td>  194.692</td> <td>  -22.990</td> <td> 0.000</td> <td>-4857.487</td> <td>-4094.305</td>\n",
       "</tr>\n",
       "<tr>\n",
       "  <th>method_fore_Judicial</th>           <td> 1.467e+04</td> <td> 1230.027</td> <td>   11.930</td> <td> 0.000</td> <td> 1.23e+04</td> <td> 1.71e+04</td>\n",
       "</tr>\n",
       "<tr>\n",
       "  <th>method_fore_Power-of-Sale</th>      <td> 1.173e+04</td> <td> 1245.268</td> <td>    9.422</td> <td> 0.000</td> <td> 9292.088</td> <td> 1.42e+04</td>\n",
       "</tr>\n",
       "<tr>\n",
       "  <th>method_fore_Strict Foreclosure</th> <td> 1.945e+04</td> <td> 1422.249</td> <td>   13.677</td> <td> 0.000</td> <td> 1.67e+04</td> <td> 2.22e+04</td>\n",
       "</tr>\n",
       "<tr>\n",
       "  <th>LAST_PAID_INSTALLMENT_DATE_m</th>   <td>-1282.6653</td> <td>   22.871</td> <td>  -56.084</td> <td> 0.000</td> <td>-1327.491</td> <td>-1237.840</td>\n",
       "</tr>\n",
       "<tr>\n",
       "  <th>LAST_PAID_INSTALLMENT_DATE_y</th>   <td>-1.532e+04</td> <td>   68.516</td> <td> -223.646</td> <td> 0.000</td> <td>-1.55e+04</td> <td>-1.52e+04</td>\n",
       "</tr>\n",
       "<tr>\n",
       "  <th>FORECLOSURE_DATE_m</th>             <td> -786.3226</td> <td>   26.612</td> <td>  -29.548</td> <td> 0.000</td> <td> -838.481</td> <td> -734.164</td>\n",
       "</tr>\n",
       "<tr>\n",
       "  <th>FORECLOSURE_DATE_y</th>             <td>-8323.0894</td> <td>  170.299</td> <td>  -48.873</td> <td> 0.000</td> <td>-8656.871</td> <td>-7989.308</td>\n",
       "</tr>\n",
       "<tr>\n",
       "  <th>DISPOSITION_DATE_m</th>             <td> 1771.4789</td> <td>   26.250</td> <td>   67.484</td> <td> 0.000</td> <td> 1720.029</td> <td> 1822.929</td>\n",
       "</tr>\n",
       "<tr>\n",
       "  <th>DISPOSITION_DATE_y</th>             <td> 2.224e+04</td> <td>  150.935</td> <td>  147.375</td> <td> 0.000</td> <td> 2.19e+04</td> <td> 2.25e+04</td>\n",
       "</tr>\n",
       "</table>\n",
       "<table class=\"simpletable\">\n",
       "<tr>\n",
       "  <th>Omnibus:</th>       <td>63218.650</td> <th>  Durbin-Watson:     </th>  <td>   2.002</td> \n",
       "</tr>\n",
       "<tr>\n",
       "  <th>Prob(Omnibus):</th>  <td> 0.000</td>   <th>  Jarque-Bera (JB):  </th> <td>561698.286</td>\n",
       "</tr>\n",
       "<tr>\n",
       "  <th>Skew:</th>           <td> 0.542</td>   <th>  Prob(JB):          </th>  <td>    0.00</td> \n",
       "</tr>\n",
       "<tr>\n",
       "  <th>Kurtosis:</th>       <td> 8.852</td>   <th>  Cond. No.          </th>  <td>2.97e+08</td> \n",
       "</tr>\n",
       "</table><br/><br/>Notes:<br/>[1] Standard Errors assume that the covariance matrix of the errors is correctly specified.<br/>[2] The condition number is large, 2.97e+08. This might indicate that there are<br/>strong multicollinearity or other numerical problems."
      ],
      "text/plain": [
       "<class 'statsmodels.iolib.summary.Summary'>\n",
       "\"\"\"\n",
       "                            OLS Regression Results                            \n",
       "==============================================================================\n",
       "Dep. Variable:                   LOSS   R-squared:                       0.486\n",
       "Model:                            OLS   Adj. R-squared:                  0.486\n",
       "Method:                 Least Squares   F-statistic:                 1.801e+04\n",
       "Date:                Wed, 29 Nov 2023   Prob (F-statistic):               0.00\n",
       "Time:                        18:26:17   Log-Likelihood:            -4.6276e+06\n",
       "No. Observations:              380605   AIC:                         9.255e+06\n",
       "Df Residuals:                  380584   BIC:                         9.255e+06\n",
       "Df Model:                          20                                         \n",
       "Covariance Type:            nonrobust                                         \n",
       "==================================================================================================\n",
       "                                     coef    std err          t      P>|t|      [0.025      0.975]\n",
       "--------------------------------------------------------------------------------------------------\n",
       "const                          -4.882e+06   1.13e+05    -43.033      0.000    -5.1e+06   -4.66e+06\n",
       "ORIG_RATE                       1.557e+04    170.034     91.550      0.000    1.52e+04    1.59e+04\n",
       "ORIG_TERM                         58.8380      1.747     33.688      0.000      55.415      62.261\n",
       "ORIG_UPB                           0.3177      0.001    342.076      0.000       0.316       0.319\n",
       "OLTV                             -41.2091      7.218     -5.709      0.000     -55.357     -27.062\n",
       "CSCORE_B                          10.9057      1.393      7.829      0.000       8.175      13.636\n",
       "ORIG_DATE_m                      253.2249     22.821     11.096      0.000     208.497     297.953\n",
       "ORIG_DATE_y                     3749.2887     55.192     67.932      0.000    3641.114    3857.463\n",
       "UNEmpRate                       4205.5625     49.708     84.606      0.000    4108.137    4302.988\n",
       "time_to_foreclose                 17.2690      0.332     52.086      0.000      16.619      17.919\n",
       "PURPOSE_P                      -1.639e+04    195.656    -83.755      0.000   -1.68e+04    -1.6e+04\n",
       "PURPOSE_R                      -4475.8957    194.692    -22.990      0.000   -4857.487   -4094.305\n",
       "method_fore_Judicial            1.467e+04   1230.027     11.930      0.000    1.23e+04    1.71e+04\n",
       "method_fore_Power-of-Sale       1.173e+04   1245.268      9.422      0.000    9292.088    1.42e+04\n",
       "method_fore_Strict Foreclosure  1.945e+04   1422.249     13.677      0.000    1.67e+04    2.22e+04\n",
       "LAST_PAID_INSTALLMENT_DATE_m   -1282.6653     22.871    -56.084      0.000   -1327.491   -1237.840\n",
       "LAST_PAID_INSTALLMENT_DATE_y   -1.532e+04     68.516   -223.646      0.000   -1.55e+04   -1.52e+04\n",
       "FORECLOSURE_DATE_m              -786.3226     26.612    -29.548      0.000    -838.481    -734.164\n",
       "FORECLOSURE_DATE_y             -8323.0894    170.299    -48.873      0.000   -8656.871   -7989.308\n",
       "DISPOSITION_DATE_m              1771.4789     26.250     67.484      0.000    1720.029    1822.929\n",
       "DISPOSITION_DATE_y              2.224e+04    150.935    147.375      0.000    2.19e+04    2.25e+04\n",
       "==============================================================================\n",
       "Omnibus:                    63218.650   Durbin-Watson:                   2.002\n",
       "Prob(Omnibus):                  0.000   Jarque-Bera (JB):           561698.286\n",
       "Skew:                           0.542   Prob(JB):                         0.00\n",
       "Kurtosis:                       8.852   Cond. No.                     2.97e+08\n",
       "==============================================================================\n",
       "\n",
       "Notes:\n",
       "[1] Standard Errors assume that the covariance matrix of the errors is correctly specified.\n",
       "[2] The condition number is large, 2.97e+08. This might indicate that there are\n",
       "strong multicollinearity or other numerical problems.\n",
       "\"\"\""
      ]
     },
     "execution_count": 170,
     "metadata": {},
     "output_type": "execute_result"
    }
   ],
   "source": [
    "#publish these\n",
    "results.summary()"
   ]
  },
  {
   "cell_type": "code",
   "execution_count": 171,
   "id": "d9e50008",
   "metadata": {},
   "outputs": [
    {
     "data": {
      "text/html": [
       "<style>#sk-container-id-1 {color: black;background-color: white;}#sk-container-id-1 pre{padding: 0;}#sk-container-id-1 div.sk-toggleable {background-color: white;}#sk-container-id-1 label.sk-toggleable__label {cursor: pointer;display: block;width: 100%;margin-bottom: 0;padding: 0.3em;box-sizing: border-box;text-align: center;}#sk-container-id-1 label.sk-toggleable__label-arrow:before {content: \"▸\";float: left;margin-right: 0.25em;color: #696969;}#sk-container-id-1 label.sk-toggleable__label-arrow:hover:before {color: black;}#sk-container-id-1 div.sk-estimator:hover label.sk-toggleable__label-arrow:before {color: black;}#sk-container-id-1 div.sk-toggleable__content {max-height: 0;max-width: 0;overflow: hidden;text-align: left;background-color: #f0f8ff;}#sk-container-id-1 div.sk-toggleable__content pre {margin: 0.2em;color: black;border-radius: 0.25em;background-color: #f0f8ff;}#sk-container-id-1 input.sk-toggleable__control:checked~div.sk-toggleable__content {max-height: 200px;max-width: 100%;overflow: auto;}#sk-container-id-1 input.sk-toggleable__control:checked~label.sk-toggleable__label-arrow:before {content: \"▾\";}#sk-container-id-1 div.sk-estimator input.sk-toggleable__control:checked~label.sk-toggleable__label {background-color: #d4ebff;}#sk-container-id-1 div.sk-label input.sk-toggleable__control:checked~label.sk-toggleable__label {background-color: #d4ebff;}#sk-container-id-1 input.sk-hidden--visually {border: 0;clip: rect(1px 1px 1px 1px);clip: rect(1px, 1px, 1px, 1px);height: 1px;margin: -1px;overflow: hidden;padding: 0;position: absolute;width: 1px;}#sk-container-id-1 div.sk-estimator {font-family: monospace;background-color: #f0f8ff;border: 1px dotted black;border-radius: 0.25em;box-sizing: border-box;margin-bottom: 0.5em;}#sk-container-id-1 div.sk-estimator:hover {background-color: #d4ebff;}#sk-container-id-1 div.sk-parallel-item::after {content: \"\";width: 100%;border-bottom: 1px solid gray;flex-grow: 1;}#sk-container-id-1 div.sk-label:hover label.sk-toggleable__label {background-color: #d4ebff;}#sk-container-id-1 div.sk-serial::before {content: \"\";position: absolute;border-left: 1px solid gray;box-sizing: border-box;top: 0;bottom: 0;left: 50%;z-index: 0;}#sk-container-id-1 div.sk-serial {display: flex;flex-direction: column;align-items: center;background-color: white;padding-right: 0.2em;padding-left: 0.2em;position: relative;}#sk-container-id-1 div.sk-item {position: relative;z-index: 1;}#sk-container-id-1 div.sk-parallel {display: flex;align-items: stretch;justify-content: center;background-color: white;position: relative;}#sk-container-id-1 div.sk-item::before, #sk-container-id-1 div.sk-parallel-item::before {content: \"\";position: absolute;border-left: 1px solid gray;box-sizing: border-box;top: 0;bottom: 0;left: 50%;z-index: -1;}#sk-container-id-1 div.sk-parallel-item {display: flex;flex-direction: column;z-index: 1;position: relative;background-color: white;}#sk-container-id-1 div.sk-parallel-item:first-child::after {align-self: flex-end;width: 50%;}#sk-container-id-1 div.sk-parallel-item:last-child::after {align-self: flex-start;width: 50%;}#sk-container-id-1 div.sk-parallel-item:only-child::after {width: 0;}#sk-container-id-1 div.sk-dashed-wrapped {border: 1px dashed gray;margin: 0 0.4em 0.5em 0.4em;box-sizing: border-box;padding-bottom: 0.4em;background-color: white;}#sk-container-id-1 div.sk-label label {font-family: monospace;font-weight: bold;display: inline-block;line-height: 1.2em;}#sk-container-id-1 div.sk-label-container {text-align: center;}#sk-container-id-1 div.sk-container {/* jupyter's `normalize.less` sets `[hidden] { display: none; }` but bootstrap.min.css set `[hidden] { display: none !important; }` so we also need the `!important` here to be able to override the default hidden behavior on the sphinx rendered scikit-learn.org. See: https://github.com/scikit-learn/scikit-learn/issues/21755 */display: inline-block !important;position: relative;}#sk-container-id-1 div.sk-text-repr-fallback {display: none;}</style><div id=\"sk-container-id-1\" class=\"sk-top-container\"><div class=\"sk-text-repr-fallback\"><pre>LinearRegression()</pre><b>In a Jupyter environment, please rerun this cell to show the HTML representation or trust the notebook. <br />On GitHub, the HTML representation is unable to render, please try loading this page with nbviewer.org.</b></div><div class=\"sk-container\" hidden><div class=\"sk-item\"><div class=\"sk-estimator sk-toggleable\"><input class=\"sk-toggleable__control sk-hidden--visually\" id=\"sk-estimator-id-1\" type=\"checkbox\" checked><label for=\"sk-estimator-id-1\" class=\"sk-toggleable__label sk-toggleable__label-arrow\">LinearRegression</label><div class=\"sk-toggleable__content\"><pre>LinearRegression()</pre></div></div></div></div></div>"
      ],
      "text/plain": [
       "LinearRegression()"
      ]
     },
     "execution_count": 171,
     "metadata": {},
     "output_type": "execute_result"
    }
   ],
   "source": [
    "# Sklearn learning and predictions on evaluation set\n",
    "OLreg = LinearRegression()\n",
    "OLreg.fit(X_train, Y_train)"
   ]
  },
  {
   "cell_type": "code",
   "execution_count": 172,
   "id": "b908f1f3",
   "metadata": {},
   "outputs": [
    {
     "name": "stdout",
     "output_type": "stream",
     "text": [
      "R^2 : 0.4864852023105599\n"
     ]
    }
   ],
   "source": [
    "Y_pred = OLreg.predict(X_eval)\n",
    "print(\"R^2 :\", r2_score(Y_eval, Y_pred))"
   ]
  },
  {
   "cell_type": "code",
   "execution_count": 33,
   "id": "dbf984f7",
   "metadata": {},
   "outputs": [],
   "source": [
    "# Sklearn learning and predictions \n",
    "OLsplines = Earth(max_terms = 90)\n",
    "OLsplines.fit(X_train, Y_train)"
   ]
  },
  {
   "cell_type": "code",
   "execution_count": 39,
   "id": "eaa0b292",
   "metadata": {},
   "outputs": [
    {
     "name": "stdout",
     "output_type": "stream",
     "text": [
      "Untrained Earth Model\n"
     ]
    }
   ],
   "source": [
    "#Print the model\n",
    "print(OLsplines.trace())\n",
    "print(OLsplines.summary())"
   ]
  },
  {
   "cell_type": "code",
   "execution_count": null,
   "id": "ae913f67",
   "metadata": {},
   "outputs": [],
   "source": [
    "Y_pred = OLsplines.predict(X_eval)\n",
    "print(\"R^2 :\", r2_score(Y_eval, Y_pred))"
   ]
  },
  {
   "cell_type": "code",
   "execution_count": null,
   "id": "515a72e5",
   "metadata": {},
   "outputs": [],
   "source": []
  }
 ],
 "metadata": {
  "kernelspec": {
   "display_name": "Python 3 (ipykernel)",
   "language": "python",
   "name": "python3"
  },
  "language_info": {
   "codemirror_mode": {
    "name": "ipython",
    "version": 3
   },
   "file_extension": ".py",
   "mimetype": "text/x-python",
   "name": "python",
   "nbconvert_exporter": "python",
   "pygments_lexer": "ipython3",
   "version": "3.11.4"
  }
 },
 "nbformat": 4,
 "nbformat_minor": 5
}
