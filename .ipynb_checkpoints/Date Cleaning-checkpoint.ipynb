{
 "cells": [
  {
   "cell_type": "code",
   "execution_count": 1,
   "id": "initial_id",
   "metadata": {
    "ExecuteTime": {
     "end_time": "2023-10-16T22:52:45.886841Z",
     "start_time": "2023-10-16T22:52:45.852926Z"
    }
   },
   "outputs": [],
   "source": [
    "import pandas as pd\n",
    "import matplotlib.pyplot as plt"
   ]
  },
  {
   "cell_type": "code",
   "execution_count": 2,
   "id": "c2fc010c23f3d8da",
   "metadata": {
    "ExecuteTime": {
     "end_time": "2023-10-16T22:52:46.235312Z",
     "start_time": "2023-10-16T22:52:45.861075Z"
    },
    "scrolled": true
   },
   "outputs": [
    {
     "name": "stderr",
     "output_type": "stream",
     "text": [
      "/var/folders/wf/1wryhxv16msbfwf6r2xklkbm0000gn/T/ipykernel_2586/3235749867.py:1: DtypeWarning: Columns (64) have mixed types. Specify dtype option on import or set low_memory=False.\n",
      "  data = pd.read_csv(\"New_Data/2007Q1_ft.csv\")\n"
     ]
    }
   ],
   "source": [
    "data = pd.read_csv(\"New_Data/2007Q1_ft.csv\")\n",
    "initial_claims = pd.read_csv(\"MacroEconomicVariables/InitialClaims.csv\")\n",
    "mortgage_FHA = pd.read_csv(\"MacroEconomicVariables/Mortgage.csv\")\n",
    "national_HPI = pd.read_csv(\"MacroEconomicVariables/National_HPI.csv\")\n",
    "state_HPI = pd.read_csv(\"MacroEconomicVariables/States_HPI.csv\")"
   ]
  },
  {
   "cell_type": "markdown",
   "id": "88cb69c9d8eb53fd",
   "metadata": {},
   "source": [
    "Date transformation in Data"
   ]
  },
  {
   "cell_type": "code",
   "execution_count": 3,
   "id": "90f8068e28dde1a7",
   "metadata": {
    "ExecuteTime": {
     "end_time": "2023-10-16T22:52:46.280027Z",
     "start_time": "2023-10-16T22:52:46.232119Z"
    }
   },
   "outputs": [
    {
     "data": {
      "text/plain": [
       "0       2013-08-01\n",
       "1       2010-03-01\n",
       "2       2012-10-01\n",
       "3       2007-12-01\n",
       "4       2016-03-01\n",
       "           ...    \n",
       "35103   2010-09-01\n",
       "35104   2021-11-01\n",
       "35105   2013-01-01\n",
       "35106   2012-06-01\n",
       "35107   2014-12-01\n",
       "Name: ACT_PERIOD, Length: 35108, dtype: datetime64[ns]"
      ]
     },
     "execution_count": 3,
     "metadata": {},
     "output_type": "execute_result"
    }
   ],
   "source": [
    "data['ZB_DTE'] = data['ZB_DTE'].astype('Int64').astype(int)\n",
    "data['ZB_DTE'] = pd.to_datetime(data['ZB_DTE'], format='%m%Y')\n",
    "data['FIRST_PAY'] = pd.to_datetime(data['FIRST_PAY'], format='%m%Y')\n",
    "data['ORIG_DATE'] = pd.to_datetime(data['ORIG_DATE'], format='%m%Y')\n",
    "data['ACT_PERIOD'] = pd.to_datetime(data['ACT_PERIOD'], format='%m%Y')\n",
    "data['ACT_PERIOD']"
   ]
  },
  {
   "cell_type": "markdown",
   "id": "50e9b521cef79a4c",
   "metadata": {},
   "source": [
    "Initial Unemployment Claims Data Cleaning"
   ]
  },
  {
   "cell_type": "code",
   "execution_count": 4,
   "id": "92cc2410eccc0544",
   "metadata": {
    "ExecuteTime": {
     "end_time": "2023-10-16T22:52:46.289892Z",
     "start_time": "2023-10-16T22:52:46.277870Z"
    }
   },
   "outputs": [
    {
     "data": {
      "text/plain": [
       "Year_Month\n",
       "1967-01     836000\n",
       "1967-02     916000\n",
       "1967-03    1043000\n",
       "1967-04    1315000\n",
       "1967-05     943000\n",
       "            ...   \n",
       "2023-06    1027000\n",
       "2023-07    1162000\n",
       "2023-08     951000\n",
       "2023-09    1054000\n",
       "2023-10     209000\n",
       "Freq: M, Name: ICSA, Length: 682, dtype: int64"
      ]
     },
     "execution_count": 4,
     "metadata": {},
     "output_type": "execute_result"
    }
   ],
   "source": [
    "initial_claims['DATE'] = pd.to_datetime(initial_claims['DATE'])\n",
    "initial_claims['Year_Month'] = initial_claims['DATE'].dt.to_period('M')\n",
    "monthly_claims = initial_claims.groupby(['Year_Month'])['ICSA'].sum()\n",
    "monthly_claims"
   ]
  },
  {
   "cell_type": "markdown",
   "id": "bfb39ca7ac8436b3",
   "metadata": {},
   "source": [
    "Mortgage FHA Cleaning"
   ]
  },
  {
   "cell_type": "code",
   "execution_count": 5,
   "id": "3794486f29a77eb6",
   "metadata": {
    "ExecuteTime": {
     "end_time": "2023-10-16T22:52:46.298647Z",
     "start_time": "2023-10-16T22:52:46.292922Z"
    }
   },
   "outputs": [],
   "source": [
    "mortgage_FHA['DATE'] = pd.to_datetime(mortgage_FHA['DATE'])\n",
    "mortgage_FHA = mortgage_FHA.groupby(['DATE'])['MORTGAGE30US'].mean()"
   ]
  },
  {
   "cell_type": "markdown",
   "id": "2ce87b5dfa79d878",
   "metadata": {},
   "source": [
    "National HPI Cleaning"
   ]
  },
  {
   "cell_type": "code",
   "execution_count": 6,
   "id": "6c0a2d6c5574447",
   "metadata": {
    "ExecuteTime": {
     "end_time": "2023-10-16T22:52:46.314588Z",
     "start_time": "2023-10-16T22:52:46.304270Z"
    }
   },
   "outputs": [],
   "source": [
    "national_HPI['DATE'] = pd.to_datetime(national_HPI['DATE'])"
   ]
  },
  {
   "cell_type": "markdown",
   "id": "9254731d8dc86348",
   "metadata": {},
   "source": [
    "State HPI Cleaning"
   ]
  },
  {
   "cell_type": "code",
   "execution_count": 7,
   "id": "f5a0f40bc2271cb8",
   "metadata": {
    "ExecuteTime": {
     "end_time": "2023-10-16T22:52:46.315275Z",
     "start_time": "2023-10-16T22:52:46.310648Z"
    }
   },
   "outputs": [],
   "source": [
    "# state_HPI['DATE'] = pd.to_datetime(national_HPI['DATE'])\n",
    "new_column_names = ['DATE'] + [col[:2] for col in state_HPI.columns[1:]]\n",
    "state_HPI.columns = new_column_names"
   ]
  },
  {
   "cell_type": "code",
   "execution_count": null,
   "id": "5c780e26",
   "metadata": {},
   "outputs": [],
   "source": []
  }
 ],
 "metadata": {
  "kernelspec": {
   "display_name": "Python 3 (ipykernel)",
   "language": "python",
   "name": "python3"
  },
  "language_info": {
   "codemirror_mode": {
    "name": "ipython",
    "version": 3
   },
   "file_extension": ".py",
   "mimetype": "text/x-python",
   "name": "python",
   "nbconvert_exporter": "python",
   "pygments_lexer": "ipython3",
   "version": "3.11.4"
  }
 },
 "nbformat": 4,
 "nbformat_minor": 5
}
