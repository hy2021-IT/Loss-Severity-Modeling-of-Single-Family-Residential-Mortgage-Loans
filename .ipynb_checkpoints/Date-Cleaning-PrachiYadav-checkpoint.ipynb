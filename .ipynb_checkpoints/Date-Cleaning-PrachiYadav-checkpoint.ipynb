{
 "cells": [
  {
   "cell_type": "code",
   "execution_count": 2,
   "id": "33e9069b",
   "metadata": {},
   "outputs": [],
   "source": [
    "import pandas as pd"
   ]
  },
  {
   "cell_type": "code",
   "execution_count": 4,
   "id": "2ef50c1f",
   "metadata": {},
   "outputs": [],
   "source": [
    "dataset = pd.read_csv(\"New_Data/2007Q1_ft.csv\", header=0,\n",
    "                 usecols=[\"ZB_DTE\", \"SELLER\", \"STATE\", \"FORECLOSURE_DATE\", \"FORECLOSURE_COSTS\"])"
   ]
  },
  {
   "cell_type": "code",
   "execution_count": 9,
   "id": "610f0528",
   "metadata": {},
   "outputs": [
    {
     "name": "stdout",
     "output_type": "stream",
     "text": [
      "<class 'pandas.core.frame.DataFrame'>\n",
      "RangeIndex: 35108 entries, 0 to 35107\n",
      "Data columns (total 5 columns):\n",
      " #   Column             Non-Null Count  Dtype  \n",
      "---  ------             --------------  -----  \n",
      " 0   SELLER             35108 non-null  object \n",
      " 1   STATE              35108 non-null  object \n",
      " 2   ZB_DTE             35108 non-null  float64\n",
      " 3   FORECLOSURE_DATE   21584 non-null  float64\n",
      " 4   FORECLOSURE_COSTS  21364 non-null  float64\n",
      "dtypes: float64(3), object(2)\n",
      "memory usage: 1.3+ MB\n",
      "Index(['SELLER', 'STATE', 'ZB_DTE', 'FORECLOSURE_DATE', 'FORECLOSURE_COSTS'], dtype='object')\n",
      "                   SELLER STATE    ZB_DTE  FORECLOSURE_DATE  FORECLOSURE_COSTS\n",
      "0          Pnc Bank, N.A.    MI   82013.0           82013.0             4545.8\n",
      "1  Suntrust Mortgage Inc.    GA   32010.0               NaN                NaN\n",
      "2      Citimortgage, Inc.    IN  102012.0               NaN                NaN\n"
     ]
    }
   ],
   "source": [
    "dataset.info()\n",
    "print(dataset.columns)\n",
    "print(dataset.head(3))"
   ]
  },
  {
   "cell_type": "code",
   "execution_count": 10,
   "id": "19592f1d",
   "metadata": {},
   "outputs": [
    {
     "name": "stdout",
     "output_type": "stream",
     "text": [
      "                                              SELLER STATE  FORECLOSURE_DATE  \\\n",
      "MonthYear                                                                      \n",
      "82013                                 Pnc Bank, N.A.    MI             82013   \n",
      "32010                         Suntrust Mortgage Inc.    GA                 0   \n",
      "102012                            Citimortgage, Inc.    IN                 0   \n",
      "122007                         Bank Of America, N.A.    MA                 0   \n",
      "32016                             Gmac Mortgage, Llc    CA                 0   \n",
      "...                                              ...   ...               ...   \n",
      "92010                          Bank Of America, N.A.    OH             92010   \n",
      "112021                         Bank of America, N.A.    MD            112021   \n",
      "12013      Jpmorgan Chase Bank, National Association    IN             12013   \n",
      "62012                                 Pnc Bank, N.A.    GA             62012   \n",
      "122014     First Tennessee Bank National Association    MO            122014   \n",
      "\n",
      "           FORECLOSURE_COSTS  \n",
      "MonthYear                     \n",
      "82013                4545.80  \n",
      "32010                   0.00  \n",
      "102012                  0.00  \n",
      "122007                  0.00  \n",
      "32016                   0.00  \n",
      "...                      ...  \n",
      "92010                5736.24  \n",
      "112021              12857.00  \n",
      "12013                3072.05  \n",
      "62012                4036.39  \n",
      "122014               3759.21  \n",
      "\n",
      "[35108 rows x 4 columns]\n"
     ]
    }
   ],
   "source": [
    "dataset['MonthYear'] = dataset['ZB_DTE'].fillna(0.0).astype(int)\n",
    "dataset['FORECLOSURE_DATE'] = dataset['FORECLOSURE_DATE'].fillna(0.0).astype(int)\n",
    "dataset['FORECLOSURE_COSTS'] = dataset['FORECLOSURE_COSTS'].fillna(0.0).astype(float)\n",
    "colnames = [\"MonthYear\", \"SELLER\", \"STATE\", \"FORECLOSURE_DATE\", \"FORECLOSURE_COSTS\"]\n",
    "zbdataset = pd.DataFrame(dataset,  columns=colnames)\n",
    "indexed_zbdataset = zbdataset.set_index(['MonthYear'])\n",
    "print(indexed_zbdataset)"
   ]
  },
  {
   "cell_type": "code",
   "execution_count": 11,
   "id": "ee16d01a",
   "metadata": {},
   "outputs": [],
   "source": [
    "initial_claims = pd.read_csv(\"MacroEconomicVariables/InitialClaims.csv\")\n",
    "##initial_claims['DATE'] = pd.to_numeric(initial_claims['DATE'].str.replace('/',''))\n",
    "##initial_claims['DATE'] = pd.to_datetime(initial_claims['DATE'])\n",
    "initial_claims['MonthYear'] = pd.to_datetime(initial_claims['DATE']).dt.to_period('M')\n",
    "initial_claims['MonthYear'] = initial_claims['MonthYear'].map(lambda x: x.strftime('%m%Y'))\n",
    "initial_claims['MonthYear'] = initial_claims['MonthYear'].fillna(0.0).astype(int)\n",
    "monthly_claims = initial_claims.groupby(['MonthYear'])['ICSA'].sum()\n",
    "##print(monthly_claims)"
   ]
  },
  {
   "cell_type": "code",
   "execution_count": 12,
   "id": "c98f8375",
   "metadata": {},
   "outputs": [
    {
     "name": "stdout",
     "output_type": "stream",
     "text": [
      "   MonthYear                 SELLER STATE  FORECLOSURE_DATE  \\\n",
      "0      82013         Pnc Bank, N.A.    MI             82013   \n",
      "1      82013     Gmac Mortgage, Llc    MA                 0   \n",
      "2      82013  Bank Of America, N.A.    IL                 0   \n",
      "\n",
      "   FORECLOSURE_COSTS     ICSA  \n",
      "0             4545.8  1667000  \n",
      "1                0.0  1667000  \n",
      "2                0.0  1667000  \n"
     ]
    }
   ],
   "source": [
    "pd.set_option('display.max_columns', 12)\n",
    "merged_dataset = pd.merge(zbdataset, monthly_claims, on=['MonthYear'], how='inner')\n",
    "print(merged_dataset.head(3))"
   ]
  },
  {
   "cell_type": "code",
   "execution_count": 3,
   "id": "e337330c",
   "metadata": {},
   "outputs": [],
   "source": [
    "pd.set_option('display.max_columns', 20)\n",
    "\n",
    "## read foreclosure file for foreclosure date is not null\n",
    "## it will read only given list of columns; add mmore columns if needed\n",
    "foreclosure_dataset = pd.read_csv(\"New_Data/2007Q1_ft.csv\", header=0,\n",
    "                 usecols=[\"ORIG_DATE\", \"FORECLOSURE_DATE\", \"STATE\", \"FORECLOSURE_COSTS\"])\n",
    "foreclosure_dataset = foreclosure_dataset.loc[foreclosure_dataset['FORECLOSURE_DATE'].notnull()]"
   ]
  },
  {
   "cell_type": "code",
   "execution_count": 4,
   "id": "1fb9f85f",
   "metadata": {},
   "outputs": [],
   "source": [
    "## split year and month from the foreclosure date column\n",
    "foreclosure_dataset['YEAR'] = foreclosure_dataset['FORECLOSURE_DATE'].fillna(0.0).astype(int) % 10000\n",
    "foreclosure_dataset['MONTH'] = foreclosure_dataset['FORECLOSURE_DATE'].fillna(0.0).astype(int) // 10000"
   ]
  },
  {
   "cell_type": "code",
   "execution_count": 5,
   "id": "99d3ae34",
   "metadata": {},
   "outputs": [
    {
     "name": "stdout",
     "output_type": "stream",
     "text": [
      "STATE  YEAR\n",
      "AK     2008    14087.68\n",
      "       2010     4603.84\n",
      "       2011    11574.90\n",
      "       2012    18833.71\n",
      "       2015     8886.89\n",
      "                 ...   \n",
      "WY     2013     6184.09\n",
      "       2016     4762.58\n",
      "       2017     7370.05\n",
      "       2018     6001.59\n",
      "       2020        0.00\n",
      "Name: FORECLOSURE_COSTS, Length: 732, dtype: float64\n"
     ]
    }
   ],
   "source": [
    "## printing top 3 rows; checking how data looks like\n",
    "##print(foreclosure_dataset.head(3))\n",
    "foreclosure_dataset = foreclosure_dataset.drop(columns=['ORIG_DATE', 'FORECLOSURE_DATE'])\n",
    "##foreclosure_dataset['ORIG_DATE'] = foreclosure_dataset['ORIG_DATE'].fillna(0.0).astype(int)\n",
    "foreclosure_dataset['FORECLOSURE_COSTS'] = foreclosure_dataset['FORECLOSURE_COSTS'].fillna(0.0).astype(float)\n",
    "fc_cost_state_yearly = foreclosure_dataset.groupby(['STATE', 'YEAR'])['FORECLOSURE_COSTS'].sum()\n",
    "print(fc_cost_state_yearly)"
   ]
  },
  {
   "cell_type": "code",
   "execution_count": 6,
   "id": "f3f7c139",
   "metadata": {},
   "outputs": [
    {
     "name": "stdout",
     "output_type": "stream",
     "text": [
      "          AL      AR      AZ      CA      CO      CT\n",
      "YEAR                                                \n",
      "2016  293.07  261.65  342.42  559.57  465.09  388.15\n",
      "2017  301.88  270.88  368.18  596.18  507.20  390.32\n",
      "2018  314.23  280.85  397.22  634.88  549.62  394.70\n",
      "2019  329.92  291.54  423.68  655.38  576.66  405.52\n",
      "2020  349.05  303.74  458.52  683.18  604.56  423.52\n",
      "2021  394.54  342.98  559.14  779.18  696.85  482.16\n",
      "\n",
      "\n"
     ]
    }
   ],
   "source": [
    "## read state housing price index file and extract year part out of date column\n",
    "state_hpi = pd.read_csv(\"MacroEconomicVariables/States_HPI.csv\").tail(90)\n",
    "state_hpi['YEAR'] = pd.to_datetime(state_hpi['DATE']).dt.to_period('Y')\n",
    "state_hpi = state_hpi.drop('DATE', axis=1)\n",
    "## rename state hpi headers with 2 letters state name\n",
    "state_hpi.columns = pd.Index(map(lambda x : str(x)[:2], state_hpi.columns))\n",
    "## rename state hpi ye column back to year; it was shortened to 2 letters in previous step\n",
    "state_hpi = state_hpi.rename(columns={c: 'YEAR' for c in state_hpi.columns if c in ['YE']})\n",
    "##print(state_hpi.columns)\n",
    "hpi_mean_dataset = state_hpi.groupby(['YEAR']).mean().round(2)\n",
    "## print last 5 rows and 7 columns of data\n",
    "print(hpi_mean_dataset.iloc[15:21, :6])\n",
    "print('\\n')"
   ]
  },
  {
   "cell_type": "code",
   "execution_count": 7,
   "id": "875afcca",
   "metadata": {},
   "outputs": [
    {
     "name": "stdout",
     "output_type": "stream",
     "text": [
      "YEAR\n",
      "1967    226942\n",
      "1968    197057\n",
      "1969    196384\n",
      "1970    296557\n",
      "1971    295730\n",
      "1972    263056\n",
      "Name: ICSA, dtype: int64\n"
     ]
    }
   ],
   "source": [
    "initial_claims = pd.read_csv(\"MacroEconomicVariables/InitialClaims.csv\")\n",
    "initial_claims['YEAR'] = pd.to_datetime(initial_claims['DATE']).dt.to_period('Y').astype(str)\n",
    "yearly_claims = initial_claims.groupby(['YEAR'])['ICSA'].mean().astype(int)\n",
    "print(yearly_claims.head(6))"
   ]
  },
  {
   "cell_type": "code",
   "execution_count": null,
   "id": "82cc0c08",
   "metadata": {},
   "outputs": [],
   "source": []
  }
 ],
 "metadata": {
  "kernelspec": {
   "display_name": "Python 3 (ipykernel)",
   "language": "python",
   "name": "python3"
  },
  "language_info": {
   "codemirror_mode": {
    "name": "ipython",
    "version": 3
   },
   "file_extension": ".py",
   "mimetype": "text/x-python",
   "name": "python",
   "nbconvert_exporter": "python",
   "pygments_lexer": "ipython3",
   "version": "3.11.4"
  }
 },
 "nbformat": 4,
 "nbformat_minor": 5
}
