{
 "cells": [
  {
   "cell_type": "code",
   "execution_count": 37,
   "id": "initial_id",
   "metadata": {
    "ExecuteTime": {
     "end_time": "2023-10-16T22:52:45.886841Z",
     "start_time": "2023-10-16T22:52:45.852926Z"
    }
   },
   "outputs": [],
   "source": [
    "import pandas as pd"
   ]
  },
  {
   "cell_type": "code",
   "execution_count": 38,
   "id": "c2fc010c23f3d8da",
   "metadata": {
    "ExecuteTime": {
     "end_time": "2023-10-16T22:52:46.235312Z",
     "start_time": "2023-10-16T22:52:45.861075Z"
    }
   },
   "outputs": [
    {
     "name": "stderr",
     "output_type": "stream",
     "text": [
      "C:\\Users\\Admin\\AppData\\Local\\Temp\\ipykernel_16764\\3235749867.py:1: DtypeWarning: Columns (64) have mixed types. Specify dtype option on import or set low_memory=False.\n",
      "  data = pd.read_csv(\"New_Data/2007Q1_ft.csv\")\n"
     ]
    }
   ],
   "source": [
    "data = pd.read_csv(\"New_Data/2007Q1_ft.csv\")\n",
    "initial_claims = pd.read_csv(\"MacroEconomicVariables/InitialClaims.csv\")\n",
    "mortgage_FHA = pd.read_csv(\"MacroEconomicVariables/Mortgage.csv\")\n",
    "national_HPI = pd.read_csv(\"MacroEconomicVariables/National_HPI.csv\")\n",
    "state_HPI = pd.read_csv(\"MacroEconomicVariables/States_HPI.csv\")"
   ]
  },
  {
   "cell_type": "code",
   "execution_count": 39,
   "id": "aee9c915",
   "metadata": {},
   "outputs": [
    {
     "data": {
      "text/plain": [
       "0         82013.0\n",
       "1         32010.0\n",
       "2        102012.0\n",
       "3        122007.0\n",
       "4         32016.0\n",
       "           ...   \n",
       "35103     92010.0\n",
       "35104    112021.0\n",
       "35105     12013.0\n",
       "35106     62012.0\n",
       "35107    122014.0\n",
       "Name: ZB_DTE, Length: 35108, dtype: float64"
      ]
     },
     "execution_count": 39,
     "metadata": {},
     "output_type": "execute_result"
    }
   ],
   "source": [
    "data['ZB_DTE']"
   ]
  },
  {
   "cell_type": "markdown",
   "id": "88cb69c9d8eb53fd",
   "metadata": {},
   "source": [
    "Date transformation in Data"
   ]
  },
  {
   "cell_type": "code",
   "execution_count": 40,
   "id": "90f8068e28dde1a7",
   "metadata": {
    "ExecuteTime": {
     "end_time": "2023-10-16T22:52:46.280027Z",
     "start_time": "2023-10-16T22:52:46.232119Z"
    }
   },
   "outputs": [],
   "source": [
    "data['ZB_DTE'] = data['ZB_DTE'].astype('Int64')\n",
    "data['ZB_DTE'] = pd.to_datetime(data['ZB_DTE'], format='%m%Y')\n",
    "data['ZB_DTE'] = data['ZB_DTE'].dt.to_period('M')\n",
    "data['FIRST_PAY'] = pd.to_datetime(data['FIRST_PAY'], format='%m%Y')\n",
    "data['FIRST_PAY'] = data['FIRST_PAY'].dt.to_period('M')\n",
    "data['ORIG_DATE'] = pd.to_datetime(data['ORIG_DATE'], format='%m%Y')\n",
    "data['ORIG_DATE'] = data['ORIG_DATE'].dt.to_period('M')\n",
    "data['ACT_PERIOD'] = pd.to_datetime(data['ACT_PERIOD'], format='%m%Y')\n",
    "data['ACT_PERIOD'] = data['ACT_PERIOD'].dt.to_period('M')"
   ]
  },
  {
   "cell_type": "markdown",
   "id": "50e9b521cef79a4c",
   "metadata": {},
   "source": [
    "Initial Unemployment Claims Data Cleaning"
   ]
  },
  {
   "cell_type": "code",
   "execution_count": 41,
   "id": "e2280b1e",
   "metadata": {},
   "outputs": [
    {
     "data": {
      "text/plain": [
       "0        2007-03\n",
       "1        2007-04\n",
       "2        2007-03\n",
       "3        2007-02\n",
       "4        2007-03\n",
       "          ...   \n",
       "35103    2007-03\n",
       "35104    2007-02\n",
       "35105    2007-02\n",
       "35106    2007-01\n",
       "35107    2007-02\n",
       "Name: FIRST_PAY, Length: 35108, dtype: period[M]"
      ]
     },
     "execution_count": 41,
     "metadata": {},
     "output_type": "execute_result"
    }
   ],
   "source": [
    "data['FIRST_PAY']"
   ]
  },
  {
   "cell_type": "code",
   "execution_count": 42,
   "id": "4bf8a501",
   "metadata": {},
   "outputs": [
    {
     "data": {
      "text/plain": [
       "0        2007-03\n",
       "1        2007-04\n",
       "2        2007-03\n",
       "3        2007-02\n",
       "4        2007-03\n",
       "          ...   \n",
       "35103    2007-03\n",
       "35104    2007-02\n",
       "35105    2007-02\n",
       "35106    2007-01\n",
       "35107    2007-02\n",
       "Name: FIRST_PAY, Length: 35108, dtype: period[M]"
      ]
     },
     "execution_count": 42,
     "metadata": {},
     "output_type": "execute_result"
    }
   ],
   "source": [
    "data['FIRST_PAY']"
   ]
  },
  {
   "cell_type": "code",
   "execution_count": 43,
   "id": "92cc2410eccc0544",
   "metadata": {
    "ExecuteTime": {
     "end_time": "2023-10-16T22:52:46.289892Z",
     "start_time": "2023-10-16T22:52:46.277870Z"
    }
   },
   "outputs": [
    {
     "data": {
      "text/plain": [
       "Year_Month\n",
       "1967-01-01     836000\n",
       "1967-02-01     916000\n",
       "1967-03-01    1043000\n",
       "1967-04-01    1315000\n",
       "1967-05-01     943000\n",
       "               ...   \n",
       "2023-06-01    1027000\n",
       "2023-07-01    1162000\n",
       "2023-08-01     951000\n",
       "2023-09-01    1054000\n",
       "2023-10-01     209000\n",
       "Name: ICSA, Length: 682, dtype: int64"
      ]
     },
     "execution_count": 43,
     "metadata": {},
     "output_type": "execute_result"
    }
   ],
   "source": [
    "initial_claims['DATE'] = pd.to_datetime(initial_claims['DATE'])\n",
    "initial_claims['Year_Month'] = initial_claims['DATE'].dt.to_period('M')\n",
    "monthly_claims = initial_claims.groupby(['Year_Month'])['ICSA'].sum()\n",
    "\n",
    "initial_claims['Year_Month'] = initial_claims['Year_Month'].astype(str)\n",
    "initial_claims['Year_Month'] = initial_claims['Year_Month']+\"-01\"\n",
    "\n",
    "initial_claims_Date = initial_claims['Year_Month'].unique()\n",
    "\n",
    "monthly_claims = initial_claims.groupby(['Year_Month'])['ICSA'].sum()\n",
    "monthly_claims"
   ]
  },
  {
   "cell_type": "code",
   "execution_count": 44,
   "id": "f260e8d8",
   "metadata": {},
   "outputs": [
    {
     "data": {
      "text/html": [
       "<div>\n",
       "<style scoped>\n",
       "    .dataframe tbody tr th:only-of-type {\n",
       "        vertical-align: middle;\n",
       "    }\n",
       "\n",
       "    .dataframe tbody tr th {\n",
       "        vertical-align: top;\n",
       "    }\n",
       "\n",
       "    .dataframe thead th {\n",
       "        text-align: right;\n",
       "    }\n",
       "</style>\n",
       "<table border=\"1\" class=\"dataframe\">\n",
       "  <thead>\n",
       "    <tr style=\"text-align: right;\">\n",
       "      <th></th>\n",
       "      <th>ZB_DTE</th>\n",
       "      <th>claim_sum</th>\n",
       "    </tr>\n",
       "    <tr>\n",
       "      <th>Year_Month</th>\n",
       "      <th></th>\n",
       "      <th></th>\n",
       "    </tr>\n",
       "  </thead>\n",
       "  <tbody>\n",
       "    <tr>\n",
       "      <th>1967-01-01</th>\n",
       "      <td>1967-01-01</td>\n",
       "      <td>836000</td>\n",
       "    </tr>\n",
       "    <tr>\n",
       "      <th>1967-02-01</th>\n",
       "      <td>1967-02-01</td>\n",
       "      <td>916000</td>\n",
       "    </tr>\n",
       "    <tr>\n",
       "      <th>1967-03-01</th>\n",
       "      <td>1967-03-01</td>\n",
       "      <td>1043000</td>\n",
       "    </tr>\n",
       "    <tr>\n",
       "      <th>1967-04-01</th>\n",
       "      <td>1967-04-01</td>\n",
       "      <td>1315000</td>\n",
       "    </tr>\n",
       "    <tr>\n",
       "      <th>1967-05-01</th>\n",
       "      <td>1967-05-01</td>\n",
       "      <td>943000</td>\n",
       "    </tr>\n",
       "    <tr>\n",
       "      <th>...</th>\n",
       "      <td>...</td>\n",
       "      <td>...</td>\n",
       "    </tr>\n",
       "    <tr>\n",
       "      <th>2023-06-01</th>\n",
       "      <td>2023-06-01</td>\n",
       "      <td>1027000</td>\n",
       "    </tr>\n",
       "    <tr>\n",
       "      <th>2023-07-01</th>\n",
       "      <td>2023-07-01</td>\n",
       "      <td>1162000</td>\n",
       "    </tr>\n",
       "    <tr>\n",
       "      <th>2023-08-01</th>\n",
       "      <td>2023-08-01</td>\n",
       "      <td>951000</td>\n",
       "    </tr>\n",
       "    <tr>\n",
       "      <th>2023-09-01</th>\n",
       "      <td>2023-09-01</td>\n",
       "      <td>1054000</td>\n",
       "    </tr>\n",
       "    <tr>\n",
       "      <th>2023-10-01</th>\n",
       "      <td>2023-10-01</td>\n",
       "      <td>209000</td>\n",
       "    </tr>\n",
       "  </tbody>\n",
       "</table>\n",
       "<p>682 rows × 2 columns</p>\n",
       "</div>"
      ],
      "text/plain": [
       "                ZB_DTE  claim_sum\n",
       "Year_Month                       \n",
       "1967-01-01  1967-01-01     836000\n",
       "1967-02-01  1967-02-01     916000\n",
       "1967-03-01  1967-03-01    1043000\n",
       "1967-04-01  1967-04-01    1315000\n",
       "1967-05-01  1967-05-01     943000\n",
       "...                ...        ...\n",
       "2023-06-01  2023-06-01    1027000\n",
       "2023-07-01  2023-07-01    1162000\n",
       "2023-08-01  2023-08-01     951000\n",
       "2023-09-01  2023-09-01    1054000\n",
       "2023-10-01  2023-10-01     209000\n",
       "\n",
       "[682 rows x 2 columns]"
      ]
     },
     "execution_count": 44,
     "metadata": {},
     "output_type": "execute_result"
    }
   ],
   "source": [
    "# create a dict for monthly_claims\n",
    "monthly_claims_dict = {'ZB_DTE': initial_claims_Date, \"claim_sum\": monthly_claims}\n",
    "\n",
    "monthly_claims_df = pd.DataFrame(monthly_claims_dict)\n",
    "\n",
    "monthly_claims_df"
   ]
  },
  {
   "cell_type": "code",
   "execution_count": 45,
   "id": "713ee6d9",
   "metadata": {},
   "outputs": [],
   "source": [
    "data['ZB_DTE'] = data['ZB_DTE'].astype(str)\n",
    "data['ZB_DTE'] = data['ZB_DTE'] + '-01'"
   ]
  },
  {
   "cell_type": "code",
   "execution_count": 46,
   "id": "da350f24",
   "metadata": {},
   "outputs": [],
   "source": [
    "data = data.merge(monthly_claims_df, on = 'ZB_DTE', how = 'left')"
   ]
  },
  {
   "cell_type": "markdown",
   "id": "bfb39ca7ac8436b3",
   "metadata": {},
   "source": [
    "Mortgage FHA Cleaning"
   ]
  },
  {
   "cell_type": "code",
   "execution_count": 47,
   "id": "99e11575",
   "metadata": {},
   "outputs": [
    {
     "name": "stderr",
     "output_type": "stream",
     "text": [
      "C:\\Users\\Admin\\AppData\\Local\\Temp\\ipykernel_16764\\3592622961.py:2: SettingWithCopyWarning: \n",
      "A value is trying to be set on a copy of a slice from a DataFrame\n",
      "\n",
      "See the caveats in the documentation: https://pandas.pydata.org/pandas-docs/stable/user_guide/indexing.html#returning-a-view-versus-a-copy\n",
      "  mortgage_FHA.DATE[i] = mortgage_FHA.DATE[i][:-3]\n",
      "C:\\Users\\Admin\\AppData\\Local\\Temp\\ipykernel_16764\\3592622961.py:3: SettingWithCopyWarning: \n",
      "A value is trying to be set on a copy of a slice from a DataFrame\n",
      "\n",
      "See the caveats in the documentation: https://pandas.pydata.org/pandas-docs/stable/user_guide/indexing.html#returning-a-view-versus-a-copy\n",
      "  mortgage_FHA.DATE[i] = mortgage_FHA.DATE[i]+\"-01\"\n"
     ]
    }
   ],
   "source": [
    "for i in range(len(mortgage_FHA.DATE)):\n",
    "    mortgage_FHA.DATE[i] = mortgage_FHA.DATE[i][:-3]\n",
    "    mortgage_FHA.DATE[i] = mortgage_FHA.DATE[i]+\"-01\"\n",
    "    \n",
    "mortgage_FHA_Date = mortgage_FHA.DATE.unique()\n"
   ]
  },
  {
   "cell_type": "code",
   "execution_count": 48,
   "id": "3794486f29a77eb6",
   "metadata": {
    "ExecuteTime": {
     "end_time": "2023-10-16T22:52:46.298647Z",
     "start_time": "2023-10-16T22:52:46.292922Z"
    }
   },
   "outputs": [
    {
     "data": {
      "text/plain": [
       "DATE\n",
       "1971-04-01    7.3100\n",
       "1971-05-01    7.4250\n",
       "1971-06-01    7.5300\n",
       "1971-07-01    7.6040\n",
       "1971-08-01    7.6975\n",
       "               ...  \n",
       "2023-06-01    6.7140\n",
       "2023-07-01    6.8400\n",
       "2023-08-01    7.0720\n",
       "2023-09-01    7.2000\n",
       "2023-10-01    7.5300\n",
       "Name: MORTGAGE30US, Length: 631, dtype: float64"
      ]
     },
     "execution_count": 48,
     "metadata": {},
     "output_type": "execute_result"
    }
   ],
   "source": [
    "mortgage_FHA['DATE'] = pd.to_datetime(mortgage_FHA['DATE'])\n",
    "#mortgage_FHA['Year_Month'] = mortgage_FHA['DATE'].dt.to_period('M')\n",
    "mortgage_FHA = mortgage_FHA.groupby(['DATE'])['MORTGAGE30US'].mean()\n",
    "\n",
    "mortgage_FHA"
   ]
  },
  {
   "cell_type": "code",
   "execution_count": 49,
   "id": "ee6559f6",
   "metadata": {},
   "outputs": [
    {
     "data": {
      "text/html": [
       "<div>\n",
       "<style scoped>\n",
       "    .dataframe tbody tr th:only-of-type {\n",
       "        vertical-align: middle;\n",
       "    }\n",
       "\n",
       "    .dataframe tbody tr th {\n",
       "        vertical-align: top;\n",
       "    }\n",
       "\n",
       "    .dataframe thead th {\n",
       "        text-align: right;\n",
       "    }\n",
       "</style>\n",
       "<table border=\"1\" class=\"dataframe\">\n",
       "  <thead>\n",
       "    <tr style=\"text-align: right;\">\n",
       "      <th></th>\n",
       "      <th>ZB_DTE</th>\n",
       "      <th>FHA_Mean</th>\n",
       "    </tr>\n",
       "    <tr>\n",
       "      <th>DATE</th>\n",
       "      <th></th>\n",
       "      <th></th>\n",
       "    </tr>\n",
       "  </thead>\n",
       "  <tbody>\n",
       "    <tr>\n",
       "      <th>1971-04-01</th>\n",
       "      <td>1971-04-01</td>\n",
       "      <td>7.3100</td>\n",
       "    </tr>\n",
       "    <tr>\n",
       "      <th>1971-05-01</th>\n",
       "      <td>1971-05-01</td>\n",
       "      <td>7.4250</td>\n",
       "    </tr>\n",
       "    <tr>\n",
       "      <th>1971-06-01</th>\n",
       "      <td>1971-06-01</td>\n",
       "      <td>7.5300</td>\n",
       "    </tr>\n",
       "    <tr>\n",
       "      <th>1971-07-01</th>\n",
       "      <td>1971-07-01</td>\n",
       "      <td>7.6040</td>\n",
       "    </tr>\n",
       "    <tr>\n",
       "      <th>1971-08-01</th>\n",
       "      <td>1971-08-01</td>\n",
       "      <td>7.6975</td>\n",
       "    </tr>\n",
       "    <tr>\n",
       "      <th>...</th>\n",
       "      <td>...</td>\n",
       "      <td>...</td>\n",
       "    </tr>\n",
       "    <tr>\n",
       "      <th>2023-06-01</th>\n",
       "      <td>2023-06-01</td>\n",
       "      <td>6.7140</td>\n",
       "    </tr>\n",
       "    <tr>\n",
       "      <th>2023-07-01</th>\n",
       "      <td>2023-07-01</td>\n",
       "      <td>6.8400</td>\n",
       "    </tr>\n",
       "    <tr>\n",
       "      <th>2023-08-01</th>\n",
       "      <td>2023-08-01</td>\n",
       "      <td>7.0720</td>\n",
       "    </tr>\n",
       "    <tr>\n",
       "      <th>2023-09-01</th>\n",
       "      <td>2023-09-01</td>\n",
       "      <td>7.2000</td>\n",
       "    </tr>\n",
       "    <tr>\n",
       "      <th>2023-10-01</th>\n",
       "      <td>2023-10-01</td>\n",
       "      <td>7.5300</td>\n",
       "    </tr>\n",
       "  </tbody>\n",
       "</table>\n",
       "<p>631 rows × 2 columns</p>\n",
       "</div>"
      ],
      "text/plain": [
       "                ZB_DTE  FHA_Mean\n",
       "DATE                            \n",
       "1971-04-01  1971-04-01    7.3100\n",
       "1971-05-01  1971-05-01    7.4250\n",
       "1971-06-01  1971-06-01    7.5300\n",
       "1971-07-01  1971-07-01    7.6040\n",
       "1971-08-01  1971-08-01    7.6975\n",
       "...                ...       ...\n",
       "2023-06-01  2023-06-01    6.7140\n",
       "2023-07-01  2023-07-01    6.8400\n",
       "2023-08-01  2023-08-01    7.0720\n",
       "2023-09-01  2023-09-01    7.2000\n",
       "2023-10-01  2023-10-01    7.5300\n",
       "\n",
       "[631 rows x 2 columns]"
      ]
     },
     "execution_count": 49,
     "metadata": {},
     "output_type": "execute_result"
    }
   ],
   "source": [
    "# create a dict for mortgage_FHA\n",
    "mortgage_dict = {'ZB_DTE': mortgage_FHA_Date, \"FHA_Mean\": mortgage_FHA}\n",
    "\n",
    "mortgage_FHA_df = pd.DataFrame(mortgage_dict)\n",
    "\n",
    "mortgage_FHA_df"
   ]
  },
  {
   "cell_type": "code",
   "execution_count": 50,
   "id": "2255c8c8",
   "metadata": {},
   "outputs": [
    {
     "data": {
      "text/plain": [
       "'1971-04-01'"
      ]
     },
     "execution_count": 50,
     "metadata": {},
     "output_type": "execute_result"
    }
   ],
   "source": [
    "mortgage_FHA_df.iloc[0,0]"
   ]
  },
  {
   "cell_type": "code",
   "execution_count": 51,
   "id": "a4bf8188",
   "metadata": {},
   "outputs": [],
   "source": [
    "data = data.merge(mortgage_FHA_df, on = 'ZB_DTE', how = 'left')"
   ]
  },
  {
   "cell_type": "code",
   "execution_count": 52,
   "id": "ad3d6616",
   "metadata": {},
   "outputs": [
    {
     "data": {
      "text/plain": [
       "DATE\n",
       "1971-04-01    7.3100\n",
       "1971-05-01    7.4250\n",
       "1971-06-01    7.5300\n",
       "1971-07-01    7.6040\n",
       "1971-08-01    7.6975\n",
       "               ...  \n",
       "2023-06-01    6.7140\n",
       "2023-07-01    6.8400\n",
       "2023-08-01    7.0720\n",
       "2023-09-01    7.2000\n",
       "2023-10-01    7.5300\n",
       "Name: MORTGAGE30US, Length: 631, dtype: float64"
      ]
     },
     "execution_count": 52,
     "metadata": {},
     "output_type": "execute_result"
    }
   ],
   "source": [
    "mortgage_FHA"
   ]
  },
  {
   "cell_type": "markdown",
   "id": "2ce87b5dfa79d878",
   "metadata": {},
   "source": [
    "National HPI Cleaning"
   ]
  },
  {
   "cell_type": "code",
   "execution_count": 53,
   "id": "6c0a2d6c5574447",
   "metadata": {
    "ExecuteTime": {
     "end_time": "2023-10-16T22:52:46.314588Z",
     "start_time": "2023-10-16T22:52:46.304270Z"
    }
   },
   "outputs": [],
   "source": [
    "national_HPI['DATE'] = pd.to_datetime(national_HPI['DATE'])\n",
    "national_HPI['Year_Month'] = national_HPI['DATE'].dt.to_period('M')"
   ]
  },
  {
   "cell_type": "markdown",
   "id": "9254731d8dc86348",
   "metadata": {},
   "source": [
    "State HPI Cleaning"
   ]
  },
  {
   "cell_type": "code",
   "execution_count": 54,
   "id": "f5a0f40bc2271cb8",
   "metadata": {
    "ExecuteTime": {
     "end_time": "2023-10-16T22:52:46.315275Z",
     "start_time": "2023-10-16T22:52:46.310648Z"
    }
   },
   "outputs": [],
   "source": [
    "# state_HPI['DATE'] = pd.to_datetime(national_HPI['DATE'])\n",
    "new_column_names = ['DATE'] + [col[:2] for col in state_HPI.columns[1:]]\n",
    "state_HPI.columns = new_column_names"
   ]
  },
  {
   "cell_type": "code",
   "execution_count": 55,
   "id": "9fc13f91",
   "metadata": {},
   "outputs": [
    {
     "data": {
      "text/html": [
       "<div>\n",
       "<style scoped>\n",
       "    .dataframe tbody tr th:only-of-type {\n",
       "        vertical-align: middle;\n",
       "    }\n",
       "\n",
       "    .dataframe tbody tr th {\n",
       "        vertical-align: top;\n",
       "    }\n",
       "\n",
       "    .dataframe thead th {\n",
       "        text-align: right;\n",
       "    }\n",
       "</style>\n",
       "<table border=\"1\" class=\"dataframe\">\n",
       "  <thead>\n",
       "    <tr style=\"text-align: right;\">\n",
       "      <th></th>\n",
       "      <th>DATE</th>\n",
       "      <th>CSUSHPISA</th>\n",
       "      <th>Year_Month</th>\n",
       "    </tr>\n",
       "  </thead>\n",
       "  <tbody>\n",
       "    <tr>\n",
       "      <th>0</th>\n",
       "      <td>1987-01-01</td>\n",
       "      <td>63.964</td>\n",
       "      <td>1987-01</td>\n",
       "    </tr>\n",
       "    <tr>\n",
       "      <th>1</th>\n",
       "      <td>1987-02-01</td>\n",
       "      <td>64.424</td>\n",
       "      <td>1987-02</td>\n",
       "    </tr>\n",
       "    <tr>\n",
       "      <th>2</th>\n",
       "      <td>1987-03-01</td>\n",
       "      <td>64.736</td>\n",
       "      <td>1987-03</td>\n",
       "    </tr>\n",
       "    <tr>\n",
       "      <th>3</th>\n",
       "      <td>1987-04-01</td>\n",
       "      <td>65.132</td>\n",
       "      <td>1987-04</td>\n",
       "    </tr>\n",
       "    <tr>\n",
       "      <th>4</th>\n",
       "      <td>1987-05-01</td>\n",
       "      <td>65.563</td>\n",
       "      <td>1987-05</td>\n",
       "    </tr>\n",
       "    <tr>\n",
       "      <th>...</th>\n",
       "      <td>...</td>\n",
       "      <td>...</td>\n",
       "      <td>...</td>\n",
       "    </tr>\n",
       "    <tr>\n",
       "      <th>434</th>\n",
       "      <td>2023-03-01</td>\n",
       "      <td>298.396</td>\n",
       "      <td>2023-03</td>\n",
       "    </tr>\n",
       "    <tr>\n",
       "      <th>435</th>\n",
       "      <td>2023-04-01</td>\n",
       "      <td>300.208</td>\n",
       "      <td>2023-04</td>\n",
       "    </tr>\n",
       "    <tr>\n",
       "      <th>436</th>\n",
       "      <td>2023-05-01</td>\n",
       "      <td>302.685</td>\n",
       "      <td>2023-05</td>\n",
       "    </tr>\n",
       "    <tr>\n",
       "      <th>437</th>\n",
       "      <td>2023-06-01</td>\n",
       "      <td>304.741</td>\n",
       "      <td>2023-06</td>\n",
       "    </tr>\n",
       "    <tr>\n",
       "      <th>438</th>\n",
       "      <td>2023-07-01</td>\n",
       "      <td>306.720</td>\n",
       "      <td>2023-07</td>\n",
       "    </tr>\n",
       "  </tbody>\n",
       "</table>\n",
       "<p>439 rows × 3 columns</p>\n",
       "</div>"
      ],
      "text/plain": [
       "          DATE  CSUSHPISA Year_Month\n",
       "0   1987-01-01     63.964    1987-01\n",
       "1   1987-02-01     64.424    1987-02\n",
       "2   1987-03-01     64.736    1987-03\n",
       "3   1987-04-01     65.132    1987-04\n",
       "4   1987-05-01     65.563    1987-05\n",
       "..         ...        ...        ...\n",
       "434 2023-03-01    298.396    2023-03\n",
       "435 2023-04-01    300.208    2023-04\n",
       "436 2023-05-01    302.685    2023-05\n",
       "437 2023-06-01    304.741    2023-06\n",
       "438 2023-07-01    306.720    2023-07\n",
       "\n",
       "[439 rows x 3 columns]"
      ]
     },
     "execution_count": 55,
     "metadata": {},
     "output_type": "execute_result"
    }
   ],
   "source": [
    "national_HPI"
   ]
  },
  {
   "cell_type": "code",
   "execution_count": 56,
   "id": "e446494c",
   "metadata": {},
   "outputs": [
    {
     "data": {
      "text/html": [
       "<div>\n",
       "<style scoped>\n",
       "    .dataframe tbody tr th:only-of-type {\n",
       "        vertical-align: middle;\n",
       "    }\n",
       "\n",
       "    .dataframe tbody tr th {\n",
       "        vertical-align: top;\n",
       "    }\n",
       "\n",
       "    .dataframe thead th {\n",
       "        text-align: right;\n",
       "    }\n",
       "</style>\n",
       "<table border=\"1\" class=\"dataframe\">\n",
       "  <thead>\n",
       "    <tr style=\"text-align: right;\">\n",
       "      <th></th>\n",
       "      <th>DATE</th>\n",
       "      <th>AL</th>\n",
       "      <th>AR</th>\n",
       "      <th>AZ</th>\n",
       "      <th>CA</th>\n",
       "      <th>CO</th>\n",
       "      <th>CT</th>\n",
       "      <th>DC</th>\n",
       "      <th>DE</th>\n",
       "      <th>FL</th>\n",
       "      <th>...</th>\n",
       "      <th>SD</th>\n",
       "      <th>TN</th>\n",
       "      <th>TX</th>\n",
       "      <th>UT</th>\n",
       "      <th>VA</th>\n",
       "      <th>VT</th>\n",
       "      <th>WA</th>\n",
       "      <th>WI</th>\n",
       "      <th>WV</th>\n",
       "      <th>WY</th>\n",
       "    </tr>\n",
       "  </thead>\n",
       "  <tbody>\n",
       "    <tr>\n",
       "      <th>0</th>\n",
       "      <td>1975-01-01</td>\n",
       "      <td>75.22</td>\n",
       "      <td>66.55</td>\n",
       "      <td>60.51</td>\n",
       "      <td>41.69</td>\n",
       "      <td>54.41</td>\n",
       "      <td>62.21</td>\n",
       "      <td>47.85</td>\n",
       "      <td>77.03</td>\n",
       "      <td>65.93</td>\n",
       "      <td>...</td>\n",
       "      <td>74.98</td>\n",
       "      <td>68.01</td>\n",
       "      <td>55.82</td>\n",
       "      <td>55.15</td>\n",
       "      <td>69.75</td>\n",
       "      <td>77.37</td>\n",
       "      <td>46.26</td>\n",
       "      <td>61.77</td>\n",
       "      <td>50.45</td>\n",
       "      <td>49.59</td>\n",
       "    </tr>\n",
       "    <tr>\n",
       "      <th>1</th>\n",
       "      <td>1975-04-01</td>\n",
       "      <td>72.22</td>\n",
       "      <td>60.23</td>\n",
       "      <td>59.82</td>\n",
       "      <td>42.75</td>\n",
       "      <td>54.85</td>\n",
       "      <td>62.72</td>\n",
       "      <td>47.60</td>\n",
       "      <td>89.61</td>\n",
       "      <td>83.46</td>\n",
       "      <td>...</td>\n",
       "      <td>70.42</td>\n",
       "      <td>68.82</td>\n",
       "      <td>58.59</td>\n",
       "      <td>58.70</td>\n",
       "      <td>66.78</td>\n",
       "      <td>76.93</td>\n",
       "      <td>47.25</td>\n",
       "      <td>62.79</td>\n",
       "      <td>65.55</td>\n",
       "      <td>47.87</td>\n",
       "    </tr>\n",
       "    <tr>\n",
       "      <th>2</th>\n",
       "      <td>1975-07-01</td>\n",
       "      <td>74.62</td>\n",
       "      <td>64.93</td>\n",
       "      <td>59.36</td>\n",
       "      <td>44.32</td>\n",
       "      <td>54.81</td>\n",
       "      <td>61.80</td>\n",
       "      <td>47.32</td>\n",
       "      <td>115.70</td>\n",
       "      <td>66.80</td>\n",
       "      <td>...</td>\n",
       "      <td>65.00</td>\n",
       "      <td>67.75</td>\n",
       "      <td>56.15</td>\n",
       "      <td>55.17</td>\n",
       "      <td>67.53</td>\n",
       "      <td>67.12</td>\n",
       "      <td>49.72</td>\n",
       "      <td>64.48</td>\n",
       "      <td>66.40</td>\n",
       "      <td>50.11</td>\n",
       "    </tr>\n",
       "    <tr>\n",
       "      <th>3</th>\n",
       "      <td>1975-10-01</td>\n",
       "      <td>71.70</td>\n",
       "      <td>62.81</td>\n",
       "      <td>56.24</td>\n",
       "      <td>45.76</td>\n",
       "      <td>55.00</td>\n",
       "      <td>61.81</td>\n",
       "      <td>54.69</td>\n",
       "      <td>71.67</td>\n",
       "      <td>68.20</td>\n",
       "      <td>...</td>\n",
       "      <td>63.85</td>\n",
       "      <td>70.93</td>\n",
       "      <td>59.32</td>\n",
       "      <td>59.91</td>\n",
       "      <td>67.77</td>\n",
       "      <td>72.88</td>\n",
       "      <td>48.06</td>\n",
       "      <td>69.05</td>\n",
       "      <td>66.92</td>\n",
       "      <td>53.53</td>\n",
       "    </tr>\n",
       "    <tr>\n",
       "      <th>4</th>\n",
       "      <td>1976-01-01</td>\n",
       "      <td>77.10</td>\n",
       "      <td>66.91</td>\n",
       "      <td>58.93</td>\n",
       "      <td>47.80</td>\n",
       "      <td>55.10</td>\n",
       "      <td>64.74</td>\n",
       "      <td>53.10</td>\n",
       "      <td>79.54</td>\n",
       "      <td>67.97</td>\n",
       "      <td>...</td>\n",
       "      <td>62.85</td>\n",
       "      <td>70.30</td>\n",
       "      <td>58.46</td>\n",
       "      <td>61.80</td>\n",
       "      <td>69.37</td>\n",
       "      <td>117.03</td>\n",
       "      <td>50.36</td>\n",
       "      <td>65.49</td>\n",
       "      <td>61.75</td>\n",
       "      <td>54.31</td>\n",
       "    </tr>\n",
       "    <tr>\n",
       "      <th>...</th>\n",
       "      <td>...</td>\n",
       "      <td>...</td>\n",
       "      <td>...</td>\n",
       "      <td>...</td>\n",
       "      <td>...</td>\n",
       "      <td>...</td>\n",
       "      <td>...</td>\n",
       "      <td>...</td>\n",
       "      <td>...</td>\n",
       "      <td>...</td>\n",
       "      <td>...</td>\n",
       "      <td>...</td>\n",
       "      <td>...</td>\n",
       "      <td>...</td>\n",
       "      <td>...</td>\n",
       "      <td>...</td>\n",
       "      <td>...</td>\n",
       "      <td>...</td>\n",
       "      <td>...</td>\n",
       "      <td>...</td>\n",
       "      <td>...</td>\n",
       "    </tr>\n",
       "    <tr>\n",
       "      <th>189</th>\n",
       "      <td>2022-04-01</td>\n",
       "      <td>460.45</td>\n",
       "      <td>402.61</td>\n",
       "      <td>693.14</td>\n",
       "      <td>922.93</td>\n",
       "      <td>835.95</td>\n",
       "      <td>555.13</td>\n",
       "      <td>1104.96</td>\n",
       "      <td>642.21</td>\n",
       "      <td>734.87</td>\n",
       "      <td>...</td>\n",
       "      <td>555.62</td>\n",
       "      <td>603.15</td>\n",
       "      <td>492.95</td>\n",
       "      <td>813.04</td>\n",
       "      <td>641.55</td>\n",
       "      <td>695.62</td>\n",
       "      <td>974.27</td>\n",
       "      <td>498.90</td>\n",
       "      <td>298.05</td>\n",
       "      <td>440.17</td>\n",
       "    </tr>\n",
       "    <tr>\n",
       "      <th>190</th>\n",
       "      <td>2022-07-01</td>\n",
       "      <td>474.78</td>\n",
       "      <td>416.73</td>\n",
       "      <td>702.91</td>\n",
       "      <td>917.43</td>\n",
       "      <td>827.46</td>\n",
       "      <td>565.42</td>\n",
       "      <td>1095.05</td>\n",
       "      <td>645.59</td>\n",
       "      <td>766.55</td>\n",
       "      <td>...</td>\n",
       "      <td>567.29</td>\n",
       "      <td>622.57</td>\n",
       "      <td>503.65</td>\n",
       "      <td>808.48</td>\n",
       "      <td>649.62</td>\n",
       "      <td>730.56</td>\n",
       "      <td>966.19</td>\n",
       "      <td>509.61</td>\n",
       "      <td>303.63</td>\n",
       "      <td>451.63</td>\n",
       "    </tr>\n",
       "    <tr>\n",
       "      <th>191</th>\n",
       "      <td>2022-10-01</td>\n",
       "      <td>475.18</td>\n",
       "      <td>416.58</td>\n",
       "      <td>680.08</td>\n",
       "      <td>896.33</td>\n",
       "      <td>810.79</td>\n",
       "      <td>564.51</td>\n",
       "      <td>1075.99</td>\n",
       "      <td>650.76</td>\n",
       "      <td>765.85</td>\n",
       "      <td>...</td>\n",
       "      <td>569.87</td>\n",
       "      <td>623.45</td>\n",
       "      <td>500.05</td>\n",
       "      <td>783.84</td>\n",
       "      <td>649.77</td>\n",
       "      <td>717.90</td>\n",
       "      <td>938.39</td>\n",
       "      <td>506.73</td>\n",
       "      <td>302.35</td>\n",
       "      <td>450.62</td>\n",
       "    </tr>\n",
       "    <tr>\n",
       "      <th>192</th>\n",
       "      <td>2023-01-01</td>\n",
       "      <td>481.20</td>\n",
       "      <td>424.70</td>\n",
       "      <td>672.86</td>\n",
       "      <td>892.69</td>\n",
       "      <td>811.18</td>\n",
       "      <td>571.32</td>\n",
       "      <td>1046.76</td>\n",
       "      <td>663.90</td>\n",
       "      <td>767.26</td>\n",
       "      <td>...</td>\n",
       "      <td>571.88</td>\n",
       "      <td>626.74</td>\n",
       "      <td>499.41</td>\n",
       "      <td>777.80</td>\n",
       "      <td>657.83</td>\n",
       "      <td>732.67</td>\n",
       "      <td>936.22</td>\n",
       "      <td>511.99</td>\n",
       "      <td>306.91</td>\n",
       "      <td>451.86</td>\n",
       "    </tr>\n",
       "    <tr>\n",
       "      <th>193</th>\n",
       "      <td>2023-04-01</td>\n",
       "      <td>488.98</td>\n",
       "      <td>434.88</td>\n",
       "      <td>685.70</td>\n",
       "      <td>914.96</td>\n",
       "      <td>832.20</td>\n",
       "      <td>599.74</td>\n",
       "      <td>1062.00</td>\n",
       "      <td>672.17</td>\n",
       "      <td>785.74</td>\n",
       "      <td>...</td>\n",
       "      <td>587.81</td>\n",
       "      <td>641.70</td>\n",
       "      <td>507.59</td>\n",
       "      <td>793.15</td>\n",
       "      <td>680.88</td>\n",
       "      <td>771.42</td>\n",
       "      <td>965.15</td>\n",
       "      <td>537.62</td>\n",
       "      <td>305.42</td>\n",
       "      <td>455.07</td>\n",
       "    </tr>\n",
       "  </tbody>\n",
       "</table>\n",
       "<p>194 rows × 51 columns</p>\n",
       "</div>"
      ],
      "text/plain": [
       "           DATE      AL      AR      AZ      CA      CO      CT       DC  \\\n",
       "0    1975-01-01   75.22   66.55   60.51   41.69   54.41   62.21    47.85   \n",
       "1    1975-04-01   72.22   60.23   59.82   42.75   54.85   62.72    47.60   \n",
       "2    1975-07-01   74.62   64.93   59.36   44.32   54.81   61.80    47.32   \n",
       "3    1975-10-01   71.70   62.81   56.24   45.76   55.00   61.81    54.69   \n",
       "4    1976-01-01   77.10   66.91   58.93   47.80   55.10   64.74    53.10   \n",
       "..          ...     ...     ...     ...     ...     ...     ...      ...   \n",
       "189  2022-04-01  460.45  402.61  693.14  922.93  835.95  555.13  1104.96   \n",
       "190  2022-07-01  474.78  416.73  702.91  917.43  827.46  565.42  1095.05   \n",
       "191  2022-10-01  475.18  416.58  680.08  896.33  810.79  564.51  1075.99   \n",
       "192  2023-01-01  481.20  424.70  672.86  892.69  811.18  571.32  1046.76   \n",
       "193  2023-04-01  488.98  434.88  685.70  914.96  832.20  599.74  1062.00   \n",
       "\n",
       "         DE      FL  ...      SD      TN      TX      UT      VA      VT  \\\n",
       "0     77.03   65.93  ...   74.98   68.01   55.82   55.15   69.75   77.37   \n",
       "1     89.61   83.46  ...   70.42   68.82   58.59   58.70   66.78   76.93   \n",
       "2    115.70   66.80  ...   65.00   67.75   56.15   55.17   67.53   67.12   \n",
       "3     71.67   68.20  ...   63.85   70.93   59.32   59.91   67.77   72.88   \n",
       "4     79.54   67.97  ...   62.85   70.30   58.46   61.80   69.37  117.03   \n",
       "..      ...     ...  ...     ...     ...     ...     ...     ...     ...   \n",
       "189  642.21  734.87  ...  555.62  603.15  492.95  813.04  641.55  695.62   \n",
       "190  645.59  766.55  ...  567.29  622.57  503.65  808.48  649.62  730.56   \n",
       "191  650.76  765.85  ...  569.87  623.45  500.05  783.84  649.77  717.90   \n",
       "192  663.90  767.26  ...  571.88  626.74  499.41  777.80  657.83  732.67   \n",
       "193  672.17  785.74  ...  587.81  641.70  507.59  793.15  680.88  771.42   \n",
       "\n",
       "         WA      WI      WV      WY  \n",
       "0     46.26   61.77   50.45   49.59  \n",
       "1     47.25   62.79   65.55   47.87  \n",
       "2     49.72   64.48   66.40   50.11  \n",
       "3     48.06   69.05   66.92   53.53  \n",
       "4     50.36   65.49   61.75   54.31  \n",
       "..      ...     ...     ...     ...  \n",
       "189  974.27  498.90  298.05  440.17  \n",
       "190  966.19  509.61  303.63  451.63  \n",
       "191  938.39  506.73  302.35  450.62  \n",
       "192  936.22  511.99  306.91  451.86  \n",
       "193  965.15  537.62  305.42  455.07  \n",
       "\n",
       "[194 rows x 51 columns]"
      ]
     },
     "execution_count": 56,
     "metadata": {},
     "output_type": "execute_result"
    }
   ],
   "source": [
    "state_HPI"
   ]
  },
  {
   "cell_type": "code",
   "execution_count": 58,
   "id": "353496df",
   "metadata": {},
   "outputs": [
    {
     "data": {
      "text/plain": [
       "0        MI\n",
       "1        GA\n",
       "2        IN\n",
       "3        MA\n",
       "4        CA\n",
       "         ..\n",
       "35103    OH\n",
       "35104    MD\n",
       "35105    IN\n",
       "35106    GA\n",
       "35107    MO\n",
       "Name: STATE, Length: 35108, dtype: object"
      ]
     },
     "execution_count": 58,
     "metadata": {},
     "output_type": "execute_result"
    }
   ],
   "source": [
    "data['STATE']"
   ]
  },
  {
   "cell_type": "code",
   "execution_count": 63,
   "id": "4e781ecc",
   "metadata": {},
   "outputs": [
    {
     "ename": "AttributeError",
     "evalue": "'str' object has no attribute 'astype'",
     "output_type": "error",
     "traceback": [
      "\u001b[1;31m---------------------------------------------------------------------------\u001b[0m",
      "\u001b[1;31mAttributeError\u001b[0m                            Traceback (most recent call last)",
      "Cell \u001b[1;32mIn[63], line 1\u001b[0m\n\u001b[1;32m----> 1\u001b[0m state_HPI\u001b[38;5;241m.\u001b[39mDATE[\u001b[38;5;241m0\u001b[39m]\u001b[38;5;241m.\u001b[39mastype\n",
      "\u001b[1;31mAttributeError\u001b[0m: 'str' object has no attribute 'astype'"
     ]
    }
   ],
   "source": [
    "HPI_lst = []\n",
    "for i in range(len(data)):\n",
    "    HPI_lst.append()\n",
    "    \n",
    "    "
   ]
  },
  {
   "cell_type": "code",
   "execution_count": 66,
   "id": "cb0abc4a",
   "metadata": {},
   "outputs": [
    {
     "data": {
      "text/plain": [
       "[1, 2]"
      ]
     },
     "execution_count": 66,
     "metadata": {},
     "output_type": "execute_result"
    }
   ],
   "source": [
    "state_HPI.loc[]"
   ]
  },
  {
   "cell_type": "code",
   "execution_count": 67,
   "id": "271b203b",
   "metadata": {},
   "outputs": [
    {
     "ename": "TypeError",
     "evalue": "'RangeIndex' object is not callable",
     "output_type": "error",
     "traceback": [
      "\u001b[1;31m---------------------------------------------------------------------------\u001b[0m",
      "\u001b[1;31mTypeError\u001b[0m                                 Traceback (most recent call last)",
      "Cell \u001b[1;32mIn[67], line 1\u001b[0m\n\u001b[1;32m----> 1\u001b[0m state_HPI[\u001b[38;5;124m'\u001b[39m\u001b[38;5;124mDATE\u001b[39m\u001b[38;5;124m'\u001b[39m]\u001b[38;5;241m.\u001b[39mindex(\u001b[38;5;124m'\u001b[39m\u001b[38;5;124m1975-01-01\u001b[39m\u001b[38;5;124m'\u001b[39m)\n",
      "\u001b[1;31mTypeError\u001b[0m: 'RangeIndex' object is not callable"
     ]
    }
   ],
   "source": [
    "state_HPI['DATE'].index('1975-01-01')"
   ]
  },
  {
   "cell_type": "code",
   "execution_count": 74,
   "id": "e5cf4c49",
   "metadata": {},
   "outputs": [
    {
     "ename": "ValueError",
     "evalue": "'2013-08-01' is not in list",
     "output_type": "error",
     "traceback": [
      "\u001b[1;31m---------------------------------------------------------------------------\u001b[0m",
      "\u001b[1;31mValueError\u001b[0m                                Traceback (most recent call last)",
      "Cell \u001b[1;32mIn[74], line 1\u001b[0m\n\u001b[1;32m----> 1\u001b[0m state_HPI[\u001b[38;5;124m'\u001b[39m\u001b[38;5;124mDATE\u001b[39m\u001b[38;5;124m'\u001b[39m]\u001b[38;5;241m.\u001b[39mtolist()\u001b[38;5;241m.\u001b[39mindex(data[\u001b[38;5;124m'\u001b[39m\u001b[38;5;124mZB_DTE\u001b[39m\u001b[38;5;124m'\u001b[39m][\u001b[38;5;241m0\u001b[39m])\n",
      "\u001b[1;31mValueError\u001b[0m: '2013-08-01' is not in list"
     ]
    }
   ],
   "source": [
    "state_HPI['DATE'].tolist().index(data['ZB_DTE'][0])"
   ]
  },
  {
   "cell_type": "code",
   "execution_count": 73,
   "id": "2bc477ef",
   "metadata": {},
   "outputs": [
    {
     "data": {
      "text/plain": [
       "'2013-08-01'"
      ]
     },
     "execution_count": 73,
     "metadata": {},
     "output_type": "execute_result"
    }
   ],
   "source": [
    "data['ZB_DTE'][0]"
   ]
  },
  {
   "cell_type": "code",
   "execution_count": null,
   "id": "01a39b14",
   "metadata": {},
   "outputs": [],
   "source": []
  }
 ],
 "metadata": {
  "kernelspec": {
   "display_name": "Python 3 (ipykernel)",
   "language": "python",
   "name": "python3"
  },
  "language_info": {
   "codemirror_mode": {
    "name": "ipython",
    "version": 3
   },
   "file_extension": ".py",
   "mimetype": "text/x-python",
   "name": "python",
   "nbconvert_exporter": "python",
   "pygments_lexer": "ipython3",
   "version": "3.11.4"
  }
 },
 "nbformat": 4,
 "nbformat_minor": 5
}
