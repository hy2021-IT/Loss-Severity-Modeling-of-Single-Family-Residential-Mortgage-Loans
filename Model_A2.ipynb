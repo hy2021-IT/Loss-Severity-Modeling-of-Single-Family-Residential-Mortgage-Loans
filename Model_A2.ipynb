{
 "cells": [
  {
   "cell_type": "code",
   "execution_count": 4,
   "id": "1e62049e",
   "metadata": {},
   "outputs": [],
   "source": [
    "import pandas as pd\n",
    "import numpy as np\n",
    "import statsmodels.api as sm\n",
    "\n",
    "import seaborn as sns                       #visualisation\n",
    "import matplotlib.pyplot as plt             #visualisation\n",
    "\n",
    "\n",
    "%matplotlib inline"
   ]
  },
  {
   "cell_type": "markdown",
   "id": "0c75c17e",
   "metadata": {},
   "source": [
    "# 1. Data Collection from defaulted loan"
   ]
  },
  {
   "cell_type": "code",
   "execution_count": 75,
   "id": "5b3d274f",
   "metadata": {
    "scrolled": true
   },
   "outputs": [
    {
     "name": "stdout",
     "output_type": "stream",
     "text": [
      "2003Q1 (17364, 67)\n",
      "2003Q2 (23921, 67)\n"
     ]
    },
    {
     "name": "stderr",
     "output_type": "stream",
     "text": [
      "C:\\Users\\prith\\AppData\\Local\\Temp\\ipykernel_5228\\3981084180.py:7: DtypeWarning: Columns (64) have mixed types. Specify dtype option on import or set low_memory=False.\n",
      "  data2 = pd.read_csv(\"../Data_files/\"+ year + quarter +\".csv\")\n"
     ]
    },
    {
     "name": "stdout",
     "output_type": "stream",
     "text": [
      "2003Q3 (27929, 67)\n",
      "2003Q4 (17857, 67)\n",
      "2004Q1 (12137, 67)\n",
      "2004Q2 (16300, 67)\n",
      "2004Q3 (12402, 67)\n",
      "2004Q4 (14121, 67)\n",
      "2005Q1 (12887, 67)\n",
      "2005Q2 (17228, 67)\n"
     ]
    },
    {
     "name": "stderr",
     "output_type": "stream",
     "text": [
      "C:\\Users\\prith\\AppData\\Local\\Temp\\ipykernel_5228\\3981084180.py:7: DtypeWarning: Columns (64) have mixed types. Specify dtype option on import or set low_memory=False.\n",
      "  data2 = pd.read_csv(\"../Data_files/\"+ year + quarter +\".csv\")\n"
     ]
    },
    {
     "name": "stdout",
     "output_type": "stream",
     "text": [
      "2005Q3 (26075, 67)\n",
      "2005Q4 (25542, 67)\n",
      "2006Q1 (19104, 67)\n",
      "2006Q2 (23000, 67)\n",
      "2006Q3 (21439, 67)\n",
      "2006Q4 (23838, 67)\n",
      "2007Q1 (21592, 67)\n",
      "2007Q2 (24627, 67)\n"
     ]
    },
    {
     "name": "stderr",
     "output_type": "stream",
     "text": [
      "C:\\Users\\prith\\AppData\\Local\\Temp\\ipykernel_5228\\3981084180.py:7: DtypeWarning: Columns (64) have mixed types. Specify dtype option on import or set low_memory=False.\n",
      "  data2 = pd.read_csv(\"../Data_files/\"+ year + quarter +\".csv\")\n"
     ]
    },
    {
     "name": "stdout",
     "output_type": "stream",
     "text": [
      "2007Q3 (26399, 67)\n",
      "2007Q4 (38510, 67)\n",
      "2008Q1 (28258, 67)\n",
      "2008Q2 (24050, 67)\n",
      "2008Q3 (17103, 67)\n",
      "2008Q4 (10973, 67)\n",
      "2009Q1 (7312, 67)\n",
      "2009Q2 (6107, 67)\n",
      "2009Q3 (4373, 67)\n",
      "2009Q4 (2769, 67)\n",
      "2010Q1 (2040, 67)\n",
      "2010Q2 (1732, 67)\n",
      "2010Q3 (1904, 67)\n",
      "2010Q4 (2116, 67)\n",
      "2011Q1 (1665, 67)\n",
      "2011Q2 (1165, 67)\n",
      "2011Q3 (1047, 67)\n",
      "2011Q4 (1185, 67)\n",
      "2012Q1 (1271, 67)\n",
      "2012Q2 (1049, 67)\n",
      "2012Q3 (992, 67)\n",
      "2012Q4 (1038, 67)\n",
      "2013Q1 (942, 67)\n",
      "2013Q2 (996, 67)\n",
      "2013Q3 (1226, 67)\n",
      "2013Q4 (1130, 67)\n",
      "2014Q1 (687, 67)\n",
      "2014Q2 (799, 67)\n",
      "2014Q3 (986, 67)\n",
      "2014Q4 (950, 67)\n",
      "2015Q1 (838, 67)\n",
      "2015Q2 (762, 67)\n",
      "2015Q3 (797, 67)\n",
      "2015Q4 (743, 67)\n",
      "2016Q1 (595, 67)\n",
      "2016Q2 (649, 67)\n",
      "2016Q3 (758, 67)\n",
      "2016Q4 (674, 67)\n",
      "2017Q1 (566, 68)\n",
      "2017Q2 (633, 68)\n",
      "2017Q3 (744, 68)\n",
      "2017Q4 (667, 68)\n"
     ]
    }
   ],
   "source": [
    "appended_data = []\n",
    "#change here to switch between before crisis and after crisis\n",
    "years = list(map(str, range(2003, 2018)))\n",
    "quarters = [ 'Q1', 'Q2', 'Q3', 'Q4']\n",
    "for year in years: \n",
    "    for quarter in quarters:\n",
    "        data2 = pd.read_csv(\"../Data_files/\"+ year + quarter +\".csv\")\n",
    "        print(year + quarter, data2.shape)\n",
    "        appended_data.append(data2)\n",
    "        \n",
    "data = pd.concat(appended_data)\n",
    "    \n",
    "# Some basic formating  \n",
    "data.reset_index(inplace = True)\n",
    "data.drop('index', axis=1, inplace=True)"
   ]
  },
  {
   "cell_type": "code",
   "execution_count": 76,
   "id": "125b2044",
   "metadata": {
    "scrolled": true
   },
   "outputs": [
    {
     "name": "stdout",
     "output_type": "stream",
     "text": [
      "SERVICER                                  556563\n",
      "CURR_RATE                                 538232\n",
      "LOAN_AGE                                  556563\n",
      "REM_MONTHS                                556563\n",
      "ADJ_REM_MONTHS                            556563\n",
      "MATR_DT                                   556563\n",
      "PMT_HISTORY                               556563\n",
      "MOD_FLAG                                  539667\n",
      "TOT_SCHD_PRNCPL                           538342\n",
      "NON_INTEREST_BEARING_UPB                  548857\n",
      "PRINCIPAL_FORGIVENESS_AMOUNT              548652\n",
      "SERV_IND                                  556563\n",
      "FORECLOSURE_PRINCIPAL_WRITE_OFF_AMOUNT    548387\n",
      "FORBEARANCE_INDICATOR                     538189\n",
      "ADR_TYPE                                  538189\n",
      "ADR_COUNT                                 555988\n",
      "ADR_UPB                                   555995\n",
      "PROPERTY_INSPECTION_WAIVER_INDICATOR      553953\n",
      "dtype: int64\n"
     ]
    }
   ],
   "source": [
    "# Removing all columns which contain more than 90% null values\n",
    "null_count = data.isnull().sum()\n",
    "null_columns = null_count[null_count > data.shape[0]*(0.9)]\n",
    "print(null_columns)\n",
    "remove_columns = list(set(null_columns.index) - set(['CURR_RATE', 'NON_INTEREST_BEARING_UPB']))\n",
    "data.drop(remove_columns , axis=1, inplace=True)"
   ]
  },
  {
   "cell_type": "code",
   "execution_count": 77,
   "id": "79368671",
   "metadata": {},
   "outputs": [
    {
     "name": "stdout",
     "output_type": "stream",
     "text": [
      "ORIG_DATE\n",
      "LAST_PAID_INSTALLMENT_DATE\n",
      "FORECLOSURE_DATE\n",
      "DISPOSITION_DATE\n",
      "FIRST_PAY\n",
      "ZB_DTE\n"
     ]
    }
   ],
   "source": [
    "date_cols = ['ORIG_DATE', 'LAST_PAID_INSTALLMENT_DATE', 'FORECLOSURE_DATE', 'DISPOSITION_DATE', 'FIRST_PAY', 'ZB_DTE']\n",
    "for date_col in date_cols:\n",
    "    print(date_col)\n",
    "    #data[date_col] = data[date_col].astype('Int64').astype(str)\n",
    "    data[date_col+'_m'] =  pd.to_numeric(data[date_col].astype('Int64').astype(str).str[:-4], errors='coerce')\n",
    "    data[date_col+'_y'] =  pd.to_numeric(data[date_col].astype('Int64').astype(str).str[-4:], errors='coerce') \n",
    "    \n",
    "# dropping the original date columns at the end of macroeconomic variables integration in Model_A2"
   ]
  },
  {
   "cell_type": "code",
   "execution_count": 78,
   "id": "dcf1a9d7",
   "metadata": {},
   "outputs": [],
   "source": [
    "date_colsF= ['ORIG_DATE_m', 'ORIG_DATE_y', 'LAST_PAID_INSTALLMENT_DATE_m',\n",
    "       'LAST_PAID_INSTALLMENT_DATE_y', 'FORECLOSURE_DATE_m',\n",
    "       'FORECLOSURE_DATE_y', 'DISPOSITION_DATE_m', 'DISPOSITION_DATE_y', \n",
    "      'FIRST_PAY_m', 'FIRST_PAY_y', 'ZB_DTE_m', 'ZB_DTE_y']\n",
    "\n",
    "for dt_col in date_colsF:\n",
    "    data[dt_col] = data[dt_col].astype('Int64')"
   ]
  },
  {
   "cell_type": "code",
   "execution_count": 79,
   "id": "187eb868",
   "metadata": {},
   "outputs": [],
   "source": [
    "# the columns CURR_RATE and NON_INTEREST_BEARING_UPB have high null value\n",
    "\n",
    "#The NON_INTEREST_BEARING_UPB can be made zero for Nan value\n",
    "#Substitute CURR_RATE with Origination_rate\n",
    "#Substituting Disposition_date with Zero_balance_effective_date\n",
    "data['NON_INTEREST_BEARING_UPB'] = data['NON_INTEREST_BEARING_UPB'].fillna(0)\n",
    "data['DISPOSITION_DATE_y'] = data['DISPOSITION_DATE_y'].fillna(data['FORECLOSURE_DATE_y'])"
   ]
  },
  {
   "cell_type": "code",
   "execution_count": 80,
   "id": "6b71cff2",
   "metadata": {},
   "outputs": [],
   "source": [
    "data['ACCRUED_INT'] =  (data['DISPOSITION_DATE_y'] * 12 + data['DISPOSITION_DATE_m']- \\\n",
    "                    data['LAST_PAID_INSTALLMENT_DATE_y'] * 12 - data['LAST_PAID_INSTALLMENT_DATE_m']) * \\\n",
    "                    (((data['ORIG_RATE'] / 100) - 0.0035) / 12) * (data['LAST_UPB'] - data['NON_INTEREST_BEARING_UPB'])\n",
    "data['ACCRUED_INT'] = data['ACCRUED_INT'].fillna(0)\n",
    "data['ACCRUED_INT'] = data['ACCRUED_INT'].apply(lambda x: x if x > 0 else 0)"
   ]
  },
  {
   "cell_type": "code",
   "execution_count": 81,
   "id": "2d230d1d",
   "metadata": {},
   "outputs": [
    {
     "data": {
      "text/plain": [
       "LAST_UPB                                           0\n",
       "FORECLOSURE_COSTS                              11990\n",
       "PROPERTY_PRESERVATION_AND_REPAIR_COSTS         61178\n",
       "ASSET_RECOVERY_COSTS                          109596\n",
       "MISCELLANEOUS_HOLDING_EXPENSES_AND_CREDITS     31506\n",
       "ASSOCIATED_TAXES_FOR_HOLDING_PROPERTY          40432\n",
       "NET_SALES_PROCEEDS                             11577\n",
       "CREDIT_ENHANCEMENT_PROCEEDS                   157398\n",
       "OTHER_FORECLOSURE_PROCEEDS                    109014\n",
       "Zero_Bal_Code                                      0\n",
       "dtype: int64"
      ]
     },
     "execution_count": 81,
     "metadata": {},
     "output_type": "execute_result"
    }
   ],
   "source": [
    "#Loss calculation\n",
    "loss_calculation_cols = ['LAST_UPB', 'FORECLOSURE_COSTS', 'PROPERTY_PRESERVATION_AND_REPAIR_COSTS', 'ASSET_RECOVERY_COSTS', \n",
    "               'MISCELLANEOUS_HOLDING_EXPENSES_AND_CREDITS', 'ASSOCIATED_TAXES_FOR_HOLDING_PROPERTY',\n",
    "     'NET_SALES_PROCEEDS', 'CREDIT_ENHANCEMENT_PROCEEDS', 'OTHER_FORECLOSURE_PROCEEDS', 'Zero_Bal_Code']\n",
    "data[loss_calculation_cols].isnull().sum()"
   ]
  },
  {
   "cell_type": "code",
   "execution_count": 82,
   "id": "54ce770e",
   "metadata": {},
   "outputs": [
    {
     "data": {
      "text/plain": [
       "<AxesSubplot:>"
      ]
     },
     "execution_count": 82,
     "metadata": {},
     "output_type": "execute_result"
    },
    {
     "data": {
      "image/png": "[encoded data removed]",
      "text/plain": [
       "<Figure size 640x480 with 1 Axes>"
      ]
     },
     "metadata": {},
     "output_type": "display_data"
    }
   ],
   "source": [
    "#Visualising last unpaid balance column\n",
    "data['LAST_UPB'].hist(bins=80)"
   ]
  },
  {
   "cell_type": "code",
   "execution_count": 83,
   "id": "3c468201",
   "metadata": {},
   "outputs": [],
   "source": [
    "# We are not considering the data having loss up to $100\n",
    "data = data[data['LAST_UPB']> 100.0]\n",
    "\n",
    "for col in loss_calculation_cols:\n",
    "    data[col].fillna(0, inplace=True)\n",
    "    \n",
    "data['LOSS'] = (data['LAST_UPB'] \\\n",
    "               +data['FORECLOSURE_COSTS']  \\\n",
    "               +data['PROPERTY_PRESERVATION_AND_REPAIR_COSTS'] \\\n",
    "               +data['ASSET_RECOVERY_COSTS']  \\\n",
    "               +data['MISCELLANEOUS_HOLDING_EXPENSES_AND_CREDITS']  \\\n",
    "               +data['ASSOCIATED_TAXES_FOR_HOLDING_PROPERTY']  \\\n",
    "                +data['ACCRUED_INT'] \\\n",
    "               -data['NET_SALES_PROCEEDS']  \\\n",
    "               -data['CREDIT_ENHANCEMENT_PROCEEDS'] \\\n",
    "               -data['OTHER_FORECLOSURE_PROCEEDS'])\n",
    "data['LOSS'] = data['LOSS'].round(2)"
   ]
  },
  {
   "cell_type": "code",
   "execution_count": 84,
   "id": "b4e198a1",
   "metadata": {},
   "outputs": [
    {
     "data": {
      "text/plain": [
       "<AxesSubplot:>"
      ]
     },
     "execution_count": 84,
     "metadata": {},
     "output_type": "execute_result"
    },
    {
     "data": {
      "image/png": "[encoded data removed]",
      "text/plain": [
       "<Figure size 640x480 with 1 Axes>"
      ]
     },
     "metadata": {},
     "output_type": "display_data"
    }
   ],
   "source": [
    "data['LOSS'].hist(bins=200)"
   ]
  },
  {
   "cell_type": "markdown",
   "id": "21d467ea",
   "metadata": {},
   "source": [
    "# 2. integrate the macroeconomic & state wise variables"
   ]
  },
  {
   "cell_type": "code",
   "execution_count": 85,
   "id": "91a305d2",
   "metadata": {},
   "outputs": [],
   "source": [
    "FHA30yr_data = pd.read_csv(\"./MacroEconomicToMerge/FHA30YearRate.csv\")\n",
    "FHA30yr_data.drop(\"DATE\", axis = 1, inplace=True)\n",
    "\n",
    "Unemployment_data = pd.read_csv(\"./MacroEconomicToMerge/UnemploymentRate.csv\", index_col=0)\n",
    "\n",
    "State_HPI = pd.read_csv(\"./MacroEconomicToMerge/State_HPI.csv\", index_col=0)\n",
    "State_HPI2 = pd.read_csv(\"./MacroEconomicToMerge/State_HPI.csv\", index_col=0)\n",
    "\n",
    "State_HPI = State_HPI.rename(columns = {'DATE' : 'ORIG_DATE', 'HPI' : 'Orig_HPI', 'State' : 'STATE'})\n",
    "State_HPI2 = State_HPI2.rename(columns = {'DATE' : 'DISPOSITION_DATE', 'HPI' : 'Disp_HPI', 'State' : 'STATE'})\n"
   ]
  },
  {
   "cell_type": "code",
   "execution_count": 86,
   "id": "439e0bf2",
   "metadata": {},
   "outputs": [],
   "source": [
    "data = data.merge(FHA30yr_data, on = 'ZB_DTE', how='left')\n",
    "\n",
    "Unemployment_data = Unemployment_data.rename({'DATE': 'ZB_DTE'}, axis = 1)\n",
    "data = data.merge(Unemployment_data, on = 'ZB_DTE', how='left')\n",
    "\n",
    "data = data.merge(State_HPI, on = ['ORIG_DATE', 'STATE'], how='left')\n",
    "data = data.merge(State_HPI2, on = ['DISPOSITION_DATE', 'STATE'], how='left')\n"
   ]
  },
  {
   "cell_type": "code",
   "execution_count": 87,
   "id": "17665aab",
   "metadata": {},
   "outputs": [],
   "source": [
    "data['MTM_LTV'] = data['LAST_UPB']/(data['ORIG_UPB']/data['OLTV']/data['Orig_HPI']*data['Disp_HPI'])\n"
   ]
  },
  {
   "cell_type": "code",
   "execution_count": 88,
   "id": "02d74730",
   "metadata": {},
   "outputs": [],
   "source": [
    "from MacroEconomicToMerge.state_foreclosure import method_of_foreclosure_and_time\n",
    "\n",
    "method_of_foreclosure_and_time = pd.DataFrame(method_of_foreclosure_and_time, columns=['STATE', 'method_of_foreclosurer', 'time_to_foreclose'])\n",
    "\n",
    "data = data.merge(method_of_foreclosure_and_time, on = 'STATE', how='left')"
   ]
  },
  {
   "cell_type": "code",
   "execution_count": 89,
   "id": "523d68c0",
   "metadata": {},
   "outputs": [],
   "source": [
    "#removing the unrequired date  columns here\n",
    "data.drop(date_cols, axis= 1, inplace=True)"
   ]
  },
  {
   "cell_type": "code",
   "execution_count": 90,
   "id": "358b31e3",
   "metadata": {},
   "outputs": [],
   "source": [
    "# Comment the first line after running this, Uncomment the second line for regaining checkpoint\n",
    "#data_check = data.copy(deep=True)\n",
    "#data = data_check.copy()"
   ]
  },
  {
   "cell_type": "code",
   "execution_count": null,
   "id": "d2d633d6",
   "metadata": {},
   "outputs": [],
   "source": []
  },
  {
   "cell_type": "markdown",
   "id": "f3a3f4ef",
   "metadata": {},
   "source": [
    "# 3. Final data formatting and selection of columns as predictors"
   ]
  },
  {
   "cell_type": "code",
   "execution_count": 91,
   "id": "aed9f677",
   "metadata": {},
   "outputs": [],
   "source": [
    "data.rename({'HIGH_BALANCE_LOAN_INDICATOR': 'HIGH_BAl',\n",
    "             'method_of_foreclosurer' : 'method_fore',\n",
    "             'FORECLOSURE_PRINCIPAL_WRITE_OFF_AMOUNT': 'principal_writeoff'\n",
    "            }, axis=1, inplace=True)"
   ]
  },
  {
   "cell_type": "code",
   "execution_count": 92,
   "id": "172dd722",
   "metadata": {},
   "outputs": [],
   "source": [
    "data = pd.get_dummies(data, columns=['PURPOSE', 'HIGH_BAl', 'method_fore'], drop_first=True)"
   ]
  },
  {
   "cell_type": "code",
   "execution_count": 93,
   "id": "e7e70beb",
   "metadata": {
    "scrolled": true
   },
   "outputs": [],
   "source": [
    "# ID is a non-predictor column, SELLER is too-much varialble right now\n",
    "# State column has been used by macroeconomic variable- method_of_foreclosurer\n",
    "unwanted_cols = set(loss_calculation_cols + ['LOAN_ID', 'SELLER', 'STATE']) - set(['LAST_UPB'])\n",
    "\n",
    "#new variable for data declared\n",
    "wdata = data.drop(unwanted_cols, axis = 1)"
   ]
  },
  {
   "cell_type": "code",
   "execution_count": 94,
   "id": "287a4b4f",
   "metadata": {},
   "outputs": [
    {
     "name": "stdout",
     "output_type": "stream",
     "text": [
      "CURR_RATE                          538216\n",
      "CSCORE_C                           375751\n",
      "MI_PCT                             388090\n",
      "IO                                  80365\n",
      "REPURCHASES_MAKE_WHOLE_PROCEEDS    193667\n",
      "MI_TYPE                            388090\n",
      "dtype: int64\n"
     ]
    }
   ],
   "source": [
    "# max amount of data we can loose = 10%\n",
    "max_loose = 0.1\n",
    "\n",
    "nulls_final = wdata.isnull().sum(axis = 0)\n",
    "tobe_removed = nulls_final[nulls_final > data.shape[0]*max_loose]\n",
    "print(tobe_removed)\n",
    "wdata.drop(list(tobe_removed.index), axis=1, inplace=True)"
   ]
  },
  {
   "cell_type": "code",
   "execution_count": 95,
   "id": "ef23058f",
   "metadata": {},
   "outputs": [
    {
     "data": {
      "text/plain": [
       "<AxesSubplot:>"
      ]
     },
     "execution_count": 95,
     "metadata": {},
     "output_type": "execute_result"
    },
    {
     "data": {
      "image/png": "[encoded data removed]",
      "text/plain": [
       "<Figure size 640x480 with 1 Axes>"
      ]
     },
     "metadata": {},
     "output_type": "display_data"
    }
   ],
   "source": [
    "wdata['Lossper_GD'] = (wdata['LOSS']/wdata['LAST_UPB'])*100\n",
    "wdata['Lossper_GD'].hist(bins=200)"
   ]
  },
  {
   "cell_type": "code",
   "execution_count": 96,
   "id": "42517f84",
   "metadata": {
    "scrolled": true
   },
   "outputs": [],
   "source": [
    "wdata.to_csv('CleanData.csv')"
   ]
  },
  {
   "cell_type": "markdown",
   "id": "3746fe8c",
   "metadata": {},
   "source": [
    "# OLS"
   ]
  },
  {
   "cell_type": "code",
   "execution_count": 97,
   "id": "30001ea1",
   "metadata": {},
   "outputs": [],
   "source": [
    "from math import log\n",
    "from sklearn.model_selection import train_test_split, cross_val_score, RepeatedKFold\n",
    "from sklearn.linear_model import LinearRegression\n",
    "from sklearn.metrics import r2_score, mean_squared_error\n",
    "from sklearn.preprocessing import StandardScaler\n",
    "import random\n",
    "\n",
    "random.seed(10)\n",
    "from pyearth import Earth"
   ]
  },
  {
   "cell_type": "code",
   "execution_count": 98,
   "id": "6596aaed",
   "metadata": {},
   "outputs": [
    {
     "name": "stderr",
     "output_type": "stream",
     "text": [
      "C:\\Users\\prith\\AppData\\Local\\Temp\\ipykernel_5228\\4233065074.py:2: FutureWarning: In a future version of pandas all arguments of DataFrame.dropna will be keyword-only.\n",
      "  wdata.dropna(0, inplace=True)\n"
     ]
    },
    {
     "name": "stdout",
     "output_type": "stream",
     "text": [
      "(526233, 54)\n"
     ]
    }
   ],
   "source": [
    "# important before starting regression\n",
    "wdata.dropna(0, inplace=True)\n",
    "print(wdata.shape)"
   ]
  },
  {
   "cell_type": "code",
   "execution_count": 99,
   "id": "bc4403b7",
   "metadata": {},
   "outputs": [
    {
     "data": {
      "text/plain": [
       "Index(['ACT_PERIOD', 'CHANNEL', 'ORIG_RATE', 'ORIG_UPB', 'CURRENT_UPB',\n",
       "       'ORIG_TERM', 'OLTV', 'OCLTV', 'NUM_BO', 'DTI', 'CSCORE_B', 'FIRST_FLAG',\n",
       "       'PROP', 'NO_UNITS', 'OCC_STAT', 'MSA', 'ZIP', 'PRODUCT', 'PPMT_FLG',\n",
       "       'DLQ_STATUS', 'LAST_UPB', 'NON_INTEREST_BEARING_UPB',\n",
       "       'HOMEREADY_PROGRAM_INDICATOR', 'RELOCATION_MORTGAGE_INDICATOR',\n",
       "       'HIGH_LOAN_TO_VALUE_HLTV_REFINANCE_OPTION_INDICATOR', 'RE_PROCS_FLAG',\n",
       "       'ORIG_DATE_m', 'ORIG_DATE_y', 'LAST_PAID_INSTALLMENT_DATE_m',\n",
       "       'LAST_PAID_INSTALLMENT_DATE_y', 'FORECLOSURE_DATE_m',\n",
       "       'FORECLOSURE_DATE_y', 'DISPOSITION_DATE_m', 'DISPOSITION_DATE_y',\n",
       "       'FIRST_PAY_m', 'FIRST_PAY_y', 'ZB_DTE_m', 'ZB_DTE_y', 'ACCRUED_INT',\n",
       "       'LOSS', 'FHA_Mean', 'UNEmpRate', 'Orig_HPI', 'Disp_HPI', 'MTM_LTV',\n",
       "       'time_to_foreclose', 'PURPOSE_P', 'PURPOSE_R', 'PURPOSE_U',\n",
       "       'HIGH_BAl_Y', 'method_fore_Judicial', 'method_fore_Power-of-Sale',\n",
       "       'method_fore_Strict Foreclosure', 'Lossper_GD'],\n",
       "      dtype='object')"
      ]
     },
     "execution_count": 99,
     "metadata": {},
     "output_type": "execute_result"
    }
   ],
   "source": [
    "wdata.columns"
   ]
  },
  {
   "cell_type": "markdown",
   "id": "d040d883",
   "metadata": {},
   "source": [
    "LOSS/LGD Prediction"
   ]
  },
  {
   "cell_type": "code",
   "execution_count": 100,
   "id": "e0005c11",
   "metadata": {},
   "outputs": [],
   "source": [
    "# Doing a random split now, \n",
    "#can be converted into time based split later\n",
    "#set.seed()\n",
    "train, evaluate = train_test_split(wdata, test_size=0.2)"
   ]
  },
  {
   "cell_type": "code",
   "execution_count": 106,
   "id": "9262030c",
   "metadata": {},
   "outputs": [],
   "source": [
    "#switch here between LOSS and Lossper_GD\n",
    "output = 'Lossper_GD'\n",
    "\n",
    "# loan age\n",
    "# zero balance one hot -encoded\n",
    "\n",
    "predictors= ['ORIG_RATE',  'ORIG_TERM', 'ORIG_UPB', 'OLTV', 'CSCORE_B','ORIG_DATE_m', 'ORIG_DATE_y',\n",
    "           'UNEmpRate', 'time_to_foreclose', 'PURPOSE_P',\n",
    "       'PURPOSE_R', 'method_fore_Judicial', 'OCLTV', 'DTI', 'MTM_LTV', 'Disp_HPI', \n",
    "       'method_fore_Power-of-Sale', 'method_fore_Strict Foreclosure',\n",
    "       'LAST_PAID_INSTALLMENT_DATE_m', 'LAST_PAID_INSTALLMENT_DATE_y',\n",
    "       'FORECLOSURE_DATE_m', 'FORECLOSURE_DATE_y', 'DISPOSITION_DATE_m',\n",
    "       'DISPOSITION_DATE_y']\n",
    "\n",
    "Y_train = train[output]\n",
    "#'HIGH_BAl_Y' - May not be present because it has unique value\n",
    "X_train = train[predictors]\n",
    "\n",
    "Y_eval = evaluate[output]\n",
    "X_eval = evaluate[predictors]"
   ]
  },
  {
   "cell_type": "code",
   "execution_count": 107,
   "id": "bd7e201a",
   "metadata": {},
   "outputs": [],
   "source": [
    "# calculate aic for regression\n",
    "def calculate_aic(n, mse, num_params):\n",
    " aic = n * log(mse) + 2 * num_params\n",
    " return aic\n",
    "# calculate bic for regression\n",
    "def calculate_bic(n, mse, num_params):\n",
    " bic = n * log(mse) + num_params * log(n)\n",
    " return bic"
   ]
  },
  {
   "cell_type": "code",
   "execution_count": 108,
   "id": "c8a62bdd",
   "metadata": {},
   "outputs": [],
   "source": [
    "X_train_ = sm.add_constant(X_train)\n",
    "model = sm.OLS(Y_train,X_train_.astype(float))\n",
    "results = model.fit()"
   ]
  },
  {
   "cell_type": "code",
   "execution_count": 109,
   "id": "ec5ecfe3",
   "metadata": {},
   "outputs": [
    {
     "data": {
      "text/html": [
       "<table class=\"simpletable\">\n",
       "<caption>OLS Regression Results</caption>\n",
       "<tr>\n",
       "  <th>Dep. Variable:</th>       <td>Lossper_GD</td>    <th>  R-squared:         </th>  <td>   0.273</td>  \n",
       "</tr>\n",
       "<tr>\n",
       "  <th>Model:</th>                   <td>OLS</td>       <th>  Adj. R-squared:    </th>  <td>   0.273</td>  \n",
       "</tr>\n",
       "<tr>\n",
       "  <th>Method:</th>             <td>Least Squares</td>  <th>  F-statistic:       </th>  <td>   6573.</td>  \n",
       "</tr>\n",
       "<tr>\n",
       "  <th>Date:</th>             <td>Wed, 29 Nov 2023</td> <th>  Prob (F-statistic):</th>   <td>  0.00</td>   \n",
       "</tr>\n",
       "<tr>\n",
       "  <th>Time:</th>                 <td>21:26:31</td>     <th>  Log-Likelihood:    </th> <td>-2.1033e+06</td>\n",
       "</tr>\n",
       "<tr>\n",
       "  <th>No. Observations:</th>      <td>420986</td>      <th>  AIC:               </th>  <td>4.207e+06</td> \n",
       "</tr>\n",
       "<tr>\n",
       "  <th>Df Residuals:</th>          <td>420961</td>      <th>  BIC:               </th>  <td>4.207e+06</td> \n",
       "</tr>\n",
       "<tr>\n",
       "  <th>Df Model:</th>              <td>    24</td>      <th>                     </th>      <td> </td>     \n",
       "</tr>\n",
       "<tr>\n",
       "  <th>Covariance Type:</th>      <td>nonrobust</td>    <th>                     </th>      <td> </td>     \n",
       "</tr>\n",
       "</table>\n",
       "<table class=\"simpletable\">\n",
       "<tr>\n",
       "                 <td></td>                   <th>coef</th>     <th>std err</th>      <th>t</th>      <th>P>|t|</th>  <th>[0.025</th>    <th>0.975]</th>  \n",
       "</tr>\n",
       "<tr>\n",
       "  <th>const</th>                          <td>-1906.2888</td> <td>   58.921</td> <td>  -32.353</td> <td> 0.000</td> <td>-2021.773</td> <td>-1790.805</td>\n",
       "</tr>\n",
       "<tr>\n",
       "  <th>ORIG_RATE</th>                      <td>    9.4914</td> <td>    0.094</td> <td>  101.228</td> <td> 0.000</td> <td>    9.308</td> <td>    9.675</td>\n",
       "</tr>\n",
       "<tr>\n",
       "  <th>ORIG_TERM</th>                      <td>   -0.0579</td> <td>    0.001</td> <td>  -45.414</td> <td> 0.000</td> <td>   -0.060</td> <td>   -0.055</td>\n",
       "</tr>\n",
       "<tr>\n",
       "  <th>ORIG_UPB</th>                       <td>   -0.0001</td> <td> 7.09e-07</td> <td> -168.308</td> <td> 0.000</td> <td>   -0.000</td> <td>   -0.000</td>\n",
       "</tr>\n",
       "<tr>\n",
       "  <th>OLTV</th>                           <td>   -0.5113</td> <td>    0.014</td> <td>  -36.887</td> <td> 0.000</td> <td>   -0.538</td> <td>   -0.484</td>\n",
       "</tr>\n",
       "<tr>\n",
       "  <th>CSCORE_B</th>                       <td>    0.0065</td> <td>    0.001</td> <td>    6.298</td> <td> 0.000</td> <td>    0.004</td> <td>    0.009</td>\n",
       "</tr>\n",
       "<tr>\n",
       "  <th>ORIG_DATE_m</th>                    <td>   -0.0980</td> <td>    0.016</td> <td>   -5.970</td> <td> 0.000</td> <td>   -0.130</td> <td>   -0.066</td>\n",
       "</tr>\n",
       "<tr>\n",
       "  <th>ORIG_DATE_y</th>                    <td>   -0.1216</td> <td>    0.028</td> <td>   -4.370</td> <td> 0.000</td> <td>   -0.176</td> <td>   -0.067</td>\n",
       "</tr>\n",
       "<tr>\n",
       "  <th>UNEmpRate</th>                      <td>    1.8376</td> <td>    0.039</td> <td>   46.771</td> <td> 0.000</td> <td>    1.761</td> <td>    1.915</td>\n",
       "</tr>\n",
       "<tr>\n",
       "  <th>time_to_foreclose</th>              <td>    0.0024</td> <td>    0.000</td> <td>    8.029</td> <td> 0.000</td> <td>    0.002</td> <td>    0.003</td>\n",
       "</tr>\n",
       "<tr>\n",
       "  <th>PURPOSE_P</th>                      <td>  -10.5848</td> <td>    0.147</td> <td>  -72.048</td> <td> 0.000</td> <td>  -10.873</td> <td>  -10.297</td>\n",
       "</tr>\n",
       "<tr>\n",
       "  <th>PURPOSE_R</th>                      <td>   -2.5002</td> <td>    0.145</td> <td>  -17.186</td> <td> 0.000</td> <td>   -2.785</td> <td>   -2.215</td>\n",
       "</tr>\n",
       "<tr>\n",
       "  <th>method_fore_Judicial</th>           <td>    0.2794</td> <td>    0.900</td> <td>    0.311</td> <td> 0.756</td> <td>   -1.484</td> <td>    2.043</td>\n",
       "</tr>\n",
       "<tr>\n",
       "  <th>OCLTV</th>                          <td>    0.1077</td> <td>    0.014</td> <td>    7.978</td> <td> 0.000</td> <td>    0.081</td> <td>    0.134</td>\n",
       "</tr>\n",
       "<tr>\n",
       "  <th>DTI</th>                            <td>   -0.0727</td> <td>    0.005</td> <td>  -15.147</td> <td> 0.000</td> <td>   -0.082</td> <td>   -0.063</td>\n",
       "</tr>\n",
       "<tr>\n",
       "  <th>MTM_LTV</th>                        <td>    0.4504</td> <td>    0.004</td> <td>  124.914</td> <td> 0.000</td> <td>    0.443</td> <td>    0.457</td>\n",
       "</tr>\n",
       "<tr>\n",
       "  <th>Disp_HPI</th>                       <td>    0.0062</td> <td>    0.001</td> <td>    7.974</td> <td> 0.000</td> <td>    0.005</td> <td>    0.008</td>\n",
       "</tr>\n",
       "<tr>\n",
       "  <th>method_fore_Power-of-Sale</th>      <td>   -4.5480</td> <td>    0.913</td> <td>   -4.982</td> <td> 0.000</td> <td>   -6.337</td> <td>   -2.759</td>\n",
       "</tr>\n",
       "<tr>\n",
       "  <th>method_fore_Strict Foreclosure</th> <td>    1.6618</td> <td>    1.032</td> <td>    1.610</td> <td> 0.107</td> <td>   -0.361</td> <td>    3.685</td>\n",
       "</tr>\n",
       "<tr>\n",
       "  <th>LAST_PAID_INSTALLMENT_DATE_m</th>   <td>   -0.6415</td> <td>    0.017</td> <td>  -38.021</td> <td> 0.000</td> <td>   -0.675</td> <td>   -0.608</td>\n",
       "</tr>\n",
       "<tr>\n",
       "  <th>LAST_PAID_INSTALLMENT_DATE_y</th>   <td>   -7.5877</td> <td>    0.051</td> <td> -147.858</td> <td> 0.000</td> <td>   -7.688</td> <td>   -7.487</td>\n",
       "</tr>\n",
       "<tr>\n",
       "  <th>FORECLOSURE_DATE_m</th>             <td>   -0.7745</td> <td>    0.020</td> <td>  -39.560</td> <td> 0.000</td> <td>   -0.813</td> <td>   -0.736</td>\n",
       "</tr>\n",
       "<tr>\n",
       "  <th>FORECLOSURE_DATE_y</th>             <td>   -8.4039</td> <td>    0.125</td> <td>  -67.485</td> <td> 0.000</td> <td>   -8.648</td> <td>   -8.160</td>\n",
       "</tr>\n",
       "<tr>\n",
       "  <th>DISPOSITION_DATE_m</th>             <td>    1.3653</td> <td>    0.019</td> <td>   70.405</td> <td> 0.000</td> <td>    1.327</td> <td>    1.403</td>\n",
       "</tr>\n",
       "<tr>\n",
       "  <th>DISPOSITION_DATE_y</th>             <td>   17.0576</td> <td>    0.110</td> <td>  154.409</td> <td> 0.000</td> <td>   16.841</td> <td>   17.274</td>\n",
       "</tr>\n",
       "</table>\n",
       "<table class=\"simpletable\">\n",
       "<tr>\n",
       "  <th>Omnibus:</th>       <td>981179.053</td> <th>  Durbin-Watson:     </th>     <td>   1.998</td>    \n",
       "</tr>\n",
       "<tr>\n",
       "  <th>Prob(Omnibus):</th>   <td> 0.000</td>   <th>  Jarque-Bera (JB):  </th> <td>134034194769.750</td>\n",
       "</tr>\n",
       "<tr>\n",
       "  <th>Skew:</th>            <td>21.944</td>   <th>  Prob(JB):          </th>     <td>    0.00</td>    \n",
       "</tr>\n",
       "<tr>\n",
       "  <th>Kurtosis:</th>       <td>2766.916</td>  <th>  Cond. No.          </th>     <td>2.09e+08</td>    \n",
       "</tr>\n",
       "</table><br/><br/>Notes:<br/>[1] Standard Errors assume that the covariance matrix of the errors is correctly specified.<br/>[2] The condition number is large, 2.09e+08. This might indicate that there are<br/>strong multicollinearity or other numerical problems."
      ],
      "text/plain": [
       "<class 'statsmodels.iolib.summary.Summary'>\n",
       "\"\"\"\n",
       "                            OLS Regression Results                            \n",
       "==============================================================================\n",
       "Dep. Variable:             Lossper_GD   R-squared:                       0.273\n",
       "Model:                            OLS   Adj. R-squared:                  0.273\n",
       "Method:                 Least Squares   F-statistic:                     6573.\n",
       "Date:                Wed, 29 Nov 2023   Prob (F-statistic):               0.00\n",
       "Time:                        21:26:31   Log-Likelihood:            -2.1033e+06\n",
       "No. Observations:              420986   AIC:                         4.207e+06\n",
       "Df Residuals:                  420961   BIC:                         4.207e+06\n",
       "Df Model:                          24                                         \n",
       "Covariance Type:            nonrobust                                         \n",
       "==================================================================================================\n",
       "                                     coef    std err          t      P>|t|      [0.025      0.975]\n",
       "--------------------------------------------------------------------------------------------------\n",
       "const                          -1906.2888     58.921    -32.353      0.000   -2021.773   -1790.805\n",
       "ORIG_RATE                          9.4914      0.094    101.228      0.000       9.308       9.675\n",
       "ORIG_TERM                         -0.0579      0.001    -45.414      0.000      -0.060      -0.055\n",
       "ORIG_UPB                          -0.0001   7.09e-07   -168.308      0.000      -0.000      -0.000\n",
       "OLTV                              -0.5113      0.014    -36.887      0.000      -0.538      -0.484\n",
       "CSCORE_B                           0.0065      0.001      6.298      0.000       0.004       0.009\n",
       "ORIG_DATE_m                       -0.0980      0.016     -5.970      0.000      -0.130      -0.066\n",
       "ORIG_DATE_y                       -0.1216      0.028     -4.370      0.000      -0.176      -0.067\n",
       "UNEmpRate                          1.8376      0.039     46.771      0.000       1.761       1.915\n",
       "time_to_foreclose                  0.0024      0.000      8.029      0.000       0.002       0.003\n",
       "PURPOSE_P                        -10.5848      0.147    -72.048      0.000     -10.873     -10.297\n",
       "PURPOSE_R                         -2.5002      0.145    -17.186      0.000      -2.785      -2.215\n",
       "method_fore_Judicial               0.2794      0.900      0.311      0.756      -1.484       2.043\n",
       "OCLTV                              0.1077      0.014      7.978      0.000       0.081       0.134\n",
       "DTI                               -0.0727      0.005    -15.147      0.000      -0.082      -0.063\n",
       "MTM_LTV                            0.4504      0.004    124.914      0.000       0.443       0.457\n",
       "Disp_HPI                           0.0062      0.001      7.974      0.000       0.005       0.008\n",
       "method_fore_Power-of-Sale         -4.5480      0.913     -4.982      0.000      -6.337      -2.759\n",
       "method_fore_Strict Foreclosure     1.6618      1.032      1.610      0.107      -0.361       3.685\n",
       "LAST_PAID_INSTALLMENT_DATE_m      -0.6415      0.017    -38.021      0.000      -0.675      -0.608\n",
       "LAST_PAID_INSTALLMENT_DATE_y      -7.5877      0.051   -147.858      0.000      -7.688      -7.487\n",
       "FORECLOSURE_DATE_m                -0.7745      0.020    -39.560      0.000      -0.813      -0.736\n",
       "FORECLOSURE_DATE_y                -8.4039      0.125    -67.485      0.000      -8.648      -8.160\n",
       "DISPOSITION_DATE_m                 1.3653      0.019     70.405      0.000       1.327       1.403\n",
       "DISPOSITION_DATE_y                17.0576      0.110    154.409      0.000      16.841      17.274\n",
       "==============================================================================\n",
       "Omnibus:                   981179.053   Durbin-Watson:                   1.998\n",
       "Prob(Omnibus):                  0.000   Jarque-Bera (JB):     134034194769.750\n",
       "Skew:                          21.944   Prob(JB):                         0.00\n",
       "Kurtosis:                    2766.916   Cond. No.                     2.09e+08\n",
       "==============================================================================\n",
       "\n",
       "Notes:\n",
       "[1] Standard Errors assume that the covariance matrix of the errors is correctly specified.\n",
       "[2] The condition number is large, 2.09e+08. This might indicate that there are\n",
       "strong multicollinearity or other numerical problems.\n",
       "\"\"\""
      ]
     },
     "execution_count": 109,
     "metadata": {},
     "output_type": "execute_result"
    }
   ],
   "source": [
    "#publish these\n",
    "results.summary()"
   ]
  },
  {
   "cell_type": "code",
   "execution_count": 73,
   "id": "d9e50008",
   "metadata": {},
   "outputs": [
    {
     "data": {
      "text/html": [
       "<style>#sk-container-id-2 {color: black;background-color: white;}#sk-container-id-2 pre{padding: 0;}#sk-container-id-2 div.sk-toggleable {background-color: white;}#sk-container-id-2 label.sk-toggleable__label {cursor: pointer;display: block;width: 100%;margin-bottom: 0;padding: 0.3em;box-sizing: border-box;text-align: center;}#sk-container-id-2 label.sk-toggleable__label-arrow:before {content: \"▸\";float: left;margin-right: 0.25em;color: #696969;}#sk-container-id-2 label.sk-toggleable__label-arrow:hover:before {color: black;}#sk-container-id-2 div.sk-estimator:hover label.sk-toggleable__label-arrow:before {color: black;}#sk-container-id-2 div.sk-toggleable__content {max-height: 0;max-width: 0;overflow: hidden;text-align: left;background-color: #f0f8ff;}#sk-container-id-2 div.sk-toggleable__content pre {margin: 0.2em;color: black;border-radius: 0.25em;background-color: #f0f8ff;}#sk-container-id-2 input.sk-toggleable__control:checked~div.sk-toggleable__content {max-height: 200px;max-width: 100%;overflow: auto;}#sk-container-id-2 input.sk-toggleable__control:checked~label.sk-toggleable__label-arrow:before {content: \"▾\";}#sk-container-id-2 div.sk-estimator input.sk-toggleable__control:checked~label.sk-toggleable__label {background-color: #d4ebff;}#sk-container-id-2 div.sk-label input.sk-toggleable__control:checked~label.sk-toggleable__label {background-color: #d4ebff;}#sk-container-id-2 input.sk-hidden--visually {border: 0;clip: rect(1px 1px 1px 1px);clip: rect(1px, 1px, 1px, 1px);height: 1px;margin: -1px;overflow: hidden;padding: 0;position: absolute;width: 1px;}#sk-container-id-2 div.sk-estimator {font-family: monospace;background-color: #f0f8ff;border: 1px dotted black;border-radius: 0.25em;box-sizing: border-box;margin-bottom: 0.5em;}#sk-container-id-2 div.sk-estimator:hover {background-color: #d4ebff;}#sk-container-id-2 div.sk-parallel-item::after {content: \"\";width: 100%;border-bottom: 1px solid gray;flex-grow: 1;}#sk-container-id-2 div.sk-label:hover label.sk-toggleable__label {background-color: #d4ebff;}#sk-container-id-2 div.sk-serial::before {content: \"\";position: absolute;border-left: 1px solid gray;box-sizing: border-box;top: 0;bottom: 0;left: 50%;z-index: 0;}#sk-container-id-2 div.sk-serial {display: flex;flex-direction: column;align-items: center;background-color: white;padding-right: 0.2em;padding-left: 0.2em;position: relative;}#sk-container-id-2 div.sk-item {position: relative;z-index: 1;}#sk-container-id-2 div.sk-parallel {display: flex;align-items: stretch;justify-content: center;background-color: white;position: relative;}#sk-container-id-2 div.sk-item::before, #sk-container-id-2 div.sk-parallel-item::before {content: \"\";position: absolute;border-left: 1px solid gray;box-sizing: border-box;top: 0;bottom: 0;left: 50%;z-index: -1;}#sk-container-id-2 div.sk-parallel-item {display: flex;flex-direction: column;z-index: 1;position: relative;background-color: white;}#sk-container-id-2 div.sk-parallel-item:first-child::after {align-self: flex-end;width: 50%;}#sk-container-id-2 div.sk-parallel-item:last-child::after {align-self: flex-start;width: 50%;}#sk-container-id-2 div.sk-parallel-item:only-child::after {width: 0;}#sk-container-id-2 div.sk-dashed-wrapped {border: 1px dashed gray;margin: 0 0.4em 0.5em 0.4em;box-sizing: border-box;padding-bottom: 0.4em;background-color: white;}#sk-container-id-2 div.sk-label label {font-family: monospace;font-weight: bold;display: inline-block;line-height: 1.2em;}#sk-container-id-2 div.sk-label-container {text-align: center;}#sk-container-id-2 div.sk-container {/* jupyter's `normalize.less` sets `[hidden] { display: none; }` but bootstrap.min.css set `[hidden] { display: none !important; }` so we also need the `!important` here to be able to override the default hidden behavior on the sphinx rendered scikit-learn.org. See: https://github.com/scikit-learn/scikit-learn/issues/21755 */display: inline-block !important;position: relative;}#sk-container-id-2 div.sk-text-repr-fallback {display: none;}</style><div id=\"sk-container-id-2\" class=\"sk-top-container\"><div class=\"sk-text-repr-fallback\"><pre>LinearRegression()</pre><b>In a Jupyter environment, please rerun this cell to show the HTML representation or trust the notebook. <br />On GitHub, the HTML representation is unable to render, please try loading this page with nbviewer.org.</b></div><div class=\"sk-container\" hidden><div class=\"sk-item\"><div class=\"sk-estimator sk-toggleable\"><input class=\"sk-toggleable__control sk-hidden--visually\" id=\"sk-estimator-id-2\" type=\"checkbox\" checked><label for=\"sk-estimator-id-2\" class=\"sk-toggleable__label sk-toggleable__label-arrow\">LinearRegression</label><div class=\"sk-toggleable__content\"><pre>LinearRegression()</pre></div></div></div></div></div>"
      ],
      "text/plain": [
       "LinearRegression()"
      ]
     },
     "execution_count": 73,
     "metadata": {},
     "output_type": "execute_result"
    }
   ],
   "source": [
    "# Sklearn learning and predictions on evaluation set\n",
    "OLreg = LinearRegression()\n",
    "OLreg.fit(X_train, Y_train)"
   ]
  },
  {
   "cell_type": "code",
   "execution_count": 74,
   "id": "b908f1f3",
   "metadata": {},
   "outputs": [
    {
     "name": "stdout",
     "output_type": "stream",
     "text": [
      "R^2 : 0.18037837489365416\n",
      "AIC 69537.26788771673\n"
     ]
    }
   ],
   "source": [
    "Y_pred = OLreg.predict(X_eval)\n",
    "print(\"R^2 :\", r2_score(Y_eval, Y_pred))\n",
    "mse = mean_squared_error(Y_eval, Y_pred)\n",
    "print(\"AIC\", calculate_aic(Y_eval.shape[0], mse, len(predictors)))"
   ]
  },
  {
   "cell_type": "code",
   "execution_count": 33,
   "id": "dbf984f7",
   "metadata": {},
   "outputs": [],
   "source": [
    "# Sklearn Pyearth learning and predictions \n",
    "OLsplines = Earth(max_terms = 90)\n",
    "OLsplines.fit(X_train, Y_train)"
   ]
  },
  {
   "cell_type": "code",
   "execution_count": 39,
   "id": "eaa0b292",
   "metadata": {},
   "outputs": [
    {
     "name": "stdout",
     "output_type": "stream",
     "text": [
      "Untrained Earth Model\n"
     ]
    }
   ],
   "source": [
    "#Print the model\n",
    "print(OLsplines.trace())\n",
    "print(OLsplines.summary())"
   ]
  },
  {
   "cell_type": "code",
   "execution_count": null,
   "id": "ae913f67",
   "metadata": {},
   "outputs": [],
   "source": [
    "Y_pred = OLsplines.predict(X_eval)\n",
    "print(\"R^2 :\", r2_score(Y_eval, Y_pred))"
   ]
  },
  {
   "cell_type": "code",
   "execution_count": null,
   "id": "515a72e5",
   "metadata": {},
   "outputs": [],
   "source": []
  }
 ],
 "metadata": {
  "kernelspec": {
   "display_name": "Python 3 (ipykernel)",
   "language": "python",
   "name": "python3"
  },
  "language_info": {
   "codemirror_mode": {
    "name": "ipython",
    "version": 3
   },
   "file_extension": ".py",
   "mimetype": "text/x-python",
   "name": "python",
   "nbconvert_exporter": "python",
   "pygments_lexer": "ipython3",
   "version": "3.9.12"
  }
 },
 "nbformat": 4,
 "nbformat_minor": 5
}
