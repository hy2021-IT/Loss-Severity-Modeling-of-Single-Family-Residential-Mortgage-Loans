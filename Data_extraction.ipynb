{
 "cells": [
  {
   "cell_type": "code",
   "execution_count": 55,
   "id": "f8233803",
   "metadata": {},
   "outputs": [],
   "source": [
    "import numpy as np\n",
    "import pandas as pd"
   ]
  },
  {
   "cell_type": "code",
   "execution_count": 56,
   "id": "b4c9d6e6",
   "metadata": {},
   "outputs": [
    {
     "data": {
      "text/plain": [
       "108"
      ]
     },
     "execution_count": 56,
     "metadata": {},
     "output_type": "execute_result"
    }
   ],
   "source": [
    "All_columns =[\"POOL_ID\", \"LOAN_ID\", \"ACT_PERIOD\", \"CHANNEL\", \"SELLER\", \"SERVICER\",\n",
    "                        \"MASTER_SERVICER\", \"ORIG_RATE\", \"CURR_RATE\", \"ORIG_UPB\", \"ISSUANCE_UPB\",\n",
    "                        \"CURRENT_UPB\", \"ORIG_TERM\", \"ORIG_DATE\", \"FIRST_PAY\", \"LOAN_AGE\",\n",
    "                        \"REM_MONTHS\", \"ADJ_REM_MONTHS\", \"MATR_DT\", \"OLTV\", \"OCLTV\",\n",
    "                        \"NUM_BO\", \"DTI\", \"CSCORE_B\", \"CSCORE_C\", \"FIRST_FLAG\", \"PURPOSE\",\n",
    "                        \"PROP\", \"NO_UNITS\", \"OCC_STAT\", \"STATE\", \"MSA\", \"ZIP\", \"MI_PCT\",\n",
    "                        \"PRODUCT\", \"PPMT_FLG\", \"IO\", \"FIRST_PAY_IO\", \"MNTHS_TO_AMTZ_IO\",\n",
    "                        \"DLQ_STATUS\", \"PMT_HISTORY\", \"MOD_FLAG\", \"MI_CANCEL_FLAG\", \"Zero_Bal_Code\",\n",
    "                        \"ZB_DTE\", \"LAST_UPB\", \"RPRCH_DTE\", \"CURR_SCHD_PRNCPL\", \"TOT_SCHD_PRNCPL\",\n",
    "                        \"UNSCHD_PRNCPL_CURR\", \"LAST_PAID_INSTALLMENT_DATE\", \"FORECLOSURE_DATE\",\n",
    "                        \"DISPOSITION_DATE\", \"FORECLOSURE_COSTS\", \"PROPERTY_PRESERVATION_AND_REPAIR_COSTS\",\n",
    "                        \"ASSET_RECOVERY_COSTS\", \"MISCELLANEOUS_HOLDING_EXPENSES_AND_CREDITS\",\n",
    "                        \"ASSOCIATED_TAXES_FOR_HOLDING_PROPERTY\", \"NET_SALES_PROCEEDS\",\n",
    "                        \"CREDIT_ENHANCEMENT_PROCEEDS\", \"REPURCHASES_MAKE_WHOLE_PROCEEDS\",\n",
    "                        \"OTHER_FORECLOSURE_PROCEEDS\", \"NON_INTEREST_BEARING_UPB\", \"PRINCIPAL_FORGIVENESS_AMOUNT\",\n",
    "                        \"ORIGINAL_LIST_START_DATE\", \"ORIGINAL_LIST_PRICE\", \"CURRENT_LIST_START_DATE\",\n",
    "                        \"CURRENT_LIST_PRICE\", \"ISSUE_SCOREB\", \"ISSUE_SCOREC\", \"CURR_SCOREB\",\n",
    "                        \"CURR_SCOREC\", \"MI_TYPE\", \"SERV_IND\", \"CURRENT_PERIOD_MODIFICATION_LOSS_AMOUNT\",\n",
    "                        \"CUMULATIVE_MODIFICATION_LOSS_AMOUNT\", \"CURRENT_PERIOD_CREDIT_EVENT_NET_GAIN_OR_LOSS\",\n",
    "                        \"CUMULATIVE_CREDIT_EVENT_NET_GAIN_OR_LOSS\", \"HOMEREADY_PROGRAM_INDICATOR\",\n",
    "                        \"FORECLOSURE_PRINCIPAL_WRITE_OFF_AMOUNT\", \"RELOCATION_MORTGAGE_INDICATOR\",\n",
    "                        \"ZERO_BALANCE_CODE_CHANGE_DATE\", \"LOAN_HOLDBACK_INDICATOR\", \"LOAN_HOLDBACK_EFFECTIVE_DATE\",\n",
    "                        \"DELINQUENT_ACCRUED_INTEREST\", \"PROPERTY_INSPECTION_WAIVER_INDICATOR\",\n",
    "                        \"HIGH_BALANCE_LOAN_INDICATOR\", \"ARM_5_YR_INDICATOR\", \"ARM_PRODUCT_TYPE\",\n",
    "                        \"MONTHS_UNTIL_FIRST_PAYMENT_RESET\", \"MONTHS_BETWEEN_SUBSEQUENT_PAYMENT_RESET\",\n",
    "                        \"INTEREST_RATE_CHANGE_DATE\", \"PAYMENT_CHANGE_DATE\", \"ARM_INDEX\",\n",
    "                        \"ARM_CAP_STRUCTURE\", \"INITIAL_INTEREST_RATE_CAP\", \"PERIODIC_INTEREST_RATE_CAP\",\n",
    "                        \"LIFETIME_INTEREST_RATE_CAP\", \"MARGIN\", \"BALLOON_INDICATOR\",\n",
    "                        \"PLAN_NUMBER\", \"FORBEARANCE_INDICATOR\", \"HIGH_LOAN_TO_VALUE_HLTV_REFINANCE_OPTION_INDICATOR\",\n",
    "                        \"DEAL_NAME\", \"RE_PROCS_FLAG\", \"ADR_TYPE\", \"ADR_COUNT\", \"ADR_UPB\"]\n",
    "\n",
    "len(All_columns)"
   ]
  },
  {
   "cell_type": "code",
   "execution_count": 83,
   "id": "19f7aace",
   "metadata": {},
   "outputs": [],
   "source": [
    "current_size = 1000000\n",
    "# generate 2015 , 2016 data as well\n",
    "chunks = pd.read_csv(\"Zip_files/2017Q1.zip\", compression='zip', sep = '|', \n",
    "                     header=None, names=All_columns, on_bad_lines='skip', \n",
    "                     chunksize = current_size)"
   ]
  },
  {
   "cell_type": "code",
   "execution_count": 84,
   "id": "46ecaf0a",
   "metadata": {},
   "outputs": [
    {
     "name": "stderr",
     "output_type": "stream",
     "text": [
      "C:\\Users\\prith\\AppData\\Local\\Temp\\ipykernel_18756\\996560739.py:1: DtypeWarning: Columns (78,105) have mixed types. Specify dtype option on import or set low_memory=False.\n",
      "  for chunk in chunks:\n"
     ]
    }
   ],
   "source": [
    "for chunk in chunks:\n",
    "    data = chunk\n",
    "    break"
   ]
  },
  {
   "cell_type": "code",
   "execution_count": 85,
   "id": "d8b6028b",
   "metadata": {
    "scrolled": true
   },
   "outputs": [
    {
     "name": "stdout",
     "output_type": "stream",
     "text": [
      "POOL_ID 1 1000000\n",
      "LOAN_ID 19546 0\n",
      "ACT_PERIOD 75 0\n",
      "CHANNEL 3 0\n",
      "SELLER 47 2\n",
      "SERVICER 44 12943\n",
      "MASTER_SERVICER 1 1000000\n",
      "ORIG_RATE 189 0\n",
      "CURR_RATE 190 12934\n",
      "ORIG_UPB 620 0\n",
      "ISSUANCE_UPB 1 1000000\n",
      "CURRENT_UPB 770214 0\n",
      "ORIG_TERM 68 0\n",
      "ORIG_DATE 17 0\n",
      "FIRST_PAY 15 0\n",
      "LOAN_AGE 93 12943\n",
      "REM_MONTHS 437 12943\n",
      "ADJ_REM_MONTHS 376 17232\n",
      "MATR_DT 197 12943\n",
      "OLTV 92 0\n",
      "OCLTV 100 0\n",
      "NUM_BO 5 0\n",
      "DTI 48 51\n",
      "CSCORE_B 212 342\n",
      "CSCORE_C 210 525330\n",
      "FIRST_FLAG 2 0\n",
      "PURPOSE 3 0\n",
      "PROP 5 0\n",
      "NO_UNITS 4 0\n",
      "OCC_STAT 3 0\n",
      "STATE 54 0\n",
      "MSA 389 0\n",
      "ZIP 836 0\n",
      "MI_PCT 9 753345\n",
      "PRODUCT 1 0\n",
      "PPMT_FLG 1 0\n",
      "IO 1 0\n",
      "FIRST_PAY_IO 1 1000000\n",
      "MNTHS_TO_AMTZ_IO 1 1000000\n",
      "DLQ_STATUS 51 0\n",
      "PMT_HISTORY 14732 676476\n",
      "MOD_FLAG 3 12935\n",
      "MI_CANCEL_FLAG 1 1000000\n",
      "Zero_Bal_Code 8 987057\n",
      "ZB_DTE 75 987057\n",
      "LAST_UPB 12733 987060\n",
      "RPRCH_DTE 1 1000000\n",
      "CURR_SCHD_PRNCPL 1 1000000\n",
      "TOT_SCHD_PRNCPL 130619 683078\n",
      "UNSCHD_PRNCPL_CURR 1 1000000\n",
      "LAST_PAID_INSTALLMENT_DATE 22 999977\n",
      "FORECLOSURE_DATE 18 999977\n",
      "DISPOSITION_DATE 17 999979\n",
      "FORECLOSURE_COSTS 22 999979\n",
      "PROPERTY_PRESERVATION_AND_REPAIR_COSTS 17 999979\n",
      "ASSET_RECOVERY_COSTS 7 999979\n",
      "MISCELLANEOUS_HOLDING_EXPENSES_AND_CREDITS 19 999979\n",
      "ASSOCIATED_TAXES_FOR_HOLDING_PROPERTY 18 999979\n",
      "NET_SALES_PROCEEDS 22 999979\n",
      "CREDIT_ENHANCEMENT_PROCEEDS 9 999979\n",
      "REPURCHASES_MAKE_WHOLE_PROCEEDS 2 999979\n",
      "OTHER_FORECLOSURE_PROCEEDS 12 999979\n",
      "NON_INTEREST_BEARING_UPB 27 995706\n",
      "PRINCIPAL_FORGIVENESS_AMOUNT 2 986924\n",
      "ORIGINAL_LIST_START_DATE 1 1000000\n",
      "ORIGINAL_LIST_PRICE 1 1000000\n",
      "CURRENT_LIST_START_DATE 1 1000000\n",
      "CURRENT_LIST_PRICE 1 1000000\n",
      "ISSUE_SCOREB 1 1000000\n",
      "ISSUE_SCOREC 1 1000000\n",
      "CURR_SCOREB 1 1000000\n",
      "CURR_SCOREC 1 1000000\n",
      "MI_TYPE 3 753345\n",
      "SERV_IND 3 12943\n",
      "CURRENT_PERIOD_MODIFICATION_LOSS_AMOUNT 1 1000000\n",
      "CUMULATIVE_MODIFICATION_LOSS_AMOUNT 1 1000000\n",
      "CURRENT_PERIOD_CREDIT_EVENT_NET_GAIN_OR_LOSS 1 1000000\n",
      "CUMULATIVE_CREDIT_EVENT_NET_GAIN_OR_LOSS 1 1000000\n",
      "HOMEREADY_PROGRAM_INDICATOR 4 0\n",
      "FORECLOSURE_PRINCIPAL_WRITE_OFF_AMOUNT 2 986924\n",
      "RELOCATION_MORTGAGE_INDICATOR 2 0\n",
      "ZERO_BALANCE_CODE_CHANGE_DATE 1 1000000\n",
      "LOAN_HOLDBACK_INDICATOR 1 1000000\n",
      "LOAN_HOLDBACK_EFFECTIVE_DATE 1 1000000\n",
      "DELINQUENT_ACCRUED_INTEREST 1 1000000\n",
      "PROPERTY_INSPECTION_WAIVER_INDICATOR 2 0\n",
      "HIGH_BALANCE_LOAN_INDICATOR 2 0\n",
      "ARM_5_YR_INDICATOR 1 1000000\n",
      "ARM_PRODUCT_TYPE 1 1000000\n",
      "MONTHS_UNTIL_FIRST_PAYMENT_RESET 1 1000000\n",
      "MONTHS_BETWEEN_SUBSEQUENT_PAYMENT_RESET 1 1000000\n",
      "INTEREST_RATE_CHANGE_DATE 1 1000000\n",
      "PAYMENT_CHANGE_DATE 1 1000000\n",
      "ARM_INDEX 1 1000000\n",
      "ARM_CAP_STRUCTURE 1 1000000\n",
      "INITIAL_INTEREST_RATE_CAP 1 1000000\n",
      "PERIODIC_INTEREST_RATE_CAP 1 1000000\n",
      "LIFETIME_INTEREST_RATE_CAP 1 1000000\n",
      "MARGIN 1 1000000\n",
      "BALLOON_INDICATOR 1 1000000\n",
      "PLAN_NUMBER 1 1000000\n",
      "FORBEARANCE_INDICATOR 6 668670\n",
      "HIGH_LOAN_TO_VALUE_HLTV_REFINANCE_OPTION_INDICATOR 1 0\n",
      "DEAL_NAME 1 1000000\n",
      "RE_PROCS_FLAG 3 987057\n",
      "ADR_TYPE 6 668670\n",
      "ADR_COUNT 4 989844\n",
      "ADR_UPB 571 989901\n"
     ]
    }
   ],
   "source": [
    "all_null_columns = []\n",
    "for column in All_columns:\n",
    "    print(column, len(data[column].unique()), end=' ')\n",
    "    nulls = data[column].isnull().sum()\n",
    "    if nulls==current_size:\n",
    "        all_null_columns.append(column)\n",
    "    print(nulls)"
   ]
  },
  {
   "cell_type": "code",
   "execution_count": 86,
   "id": "91696084",
   "metadata": {},
   "outputs": [],
   "source": [
    "data.drop(all_null_columns, axis=1, inplace = True)"
   ]
  },
  {
   "cell_type": "code",
   "execution_count": 87,
   "id": "2f2efd5f",
   "metadata": {},
   "outputs": [
    {
     "name": "stdout",
     "output_type": "stream",
     "text": [
      "(12943, 68)\n"
     ]
    }
   ],
   "source": [
    "d1 = data[data['Zero_Bal_Code'].notnull()]\n",
    "print(d1.shape)"
   ]
  },
  {
   "cell_type": "code",
   "execution_count": 89,
   "id": "90ef165f",
   "metadata": {
    "scrolled": true
   },
   "outputs": [],
   "source": [
    "need_zbc = [2.0,3.0,9.0,15.0]\n",
    "\n",
    "d1 = data[data['Zero_Bal_Code'].isin(need_zbc)]"
   ]
  },
  {
   "cell_type": "markdown",
   "id": "5f21d41a",
   "metadata": {},
   "source": [
    "#Loading all data"
   ]
  },
  {
   "cell_type": "code",
   "execution_count": 90,
   "id": "4953d0bf",
   "metadata": {},
   "outputs": [
    {
     "name": "stderr",
     "output_type": "stream",
     "text": [
      "C:\\Users\\prith\\AppData\\Local\\Temp\\ipykernel_18756\\2063453427.py:2: DtypeWarning: Columns (78,105) have mixed types. Specify dtype option on import or set low_memory=False.\n",
      "  for chunk in chunks:\n",
      "C:\\Users\\prith\\AppData\\Local\\Temp\\ipykernel_18756\\2063453427.py:7: FutureWarning: The frame.append method is deprecated and will be removed from pandas in a future version. Use pandas.concat instead.\n",
      "  d1 = d1.append(d2)\n"
     ]
    },
    {
     "name": "stdout",
     "output_type": "stream",
     "text": [
      "1 (23, 68)\n"
     ]
    },
    {
     "name": "stderr",
     "output_type": "stream",
     "text": [
      "C:\\Users\\prith\\AppData\\Local\\Temp\\ipykernel_18756\\2063453427.py:2: DtypeWarning: Columns (78,105) have mixed types. Specify dtype option on import or set low_memory=False.\n",
      "  for chunk in chunks:\n",
      "C:\\Users\\prith\\AppData\\Local\\Temp\\ipykernel_18756\\2063453427.py:7: FutureWarning: The frame.append method is deprecated and will be removed from pandas in a future version. Use pandas.concat instead.\n",
      "  d1 = d1.append(d2)\n"
     ]
    },
    {
     "name": "stdout",
     "output_type": "stream",
     "text": [
      "2 (18, 68)\n"
     ]
    },
    {
     "name": "stderr",
     "output_type": "stream",
     "text": [
      "C:\\Users\\prith\\AppData\\Local\\Temp\\ipykernel_18756\\2063453427.py:2: DtypeWarning: Columns (78,105) have mixed types. Specify dtype option on import or set low_memory=False.\n",
      "  for chunk in chunks:\n",
      "C:\\Users\\prith\\AppData\\Local\\Temp\\ipykernel_18756\\2063453427.py:7: FutureWarning: The frame.append method is deprecated and will be removed from pandas in a future version. Use pandas.concat instead.\n",
      "  d1 = d1.append(d2)\n"
     ]
    },
    {
     "name": "stdout",
     "output_type": "stream",
     "text": [
      "3 (20, 68)\n"
     ]
    },
    {
     "name": "stderr",
     "output_type": "stream",
     "text": [
      "C:\\Users\\prith\\AppData\\Local\\Temp\\ipykernel_18756\\2063453427.py:2: DtypeWarning: Columns (105) have mixed types. Specify dtype option on import or set low_memory=False.\n",
      "  for chunk in chunks:\n",
      "C:\\Users\\prith\\AppData\\Local\\Temp\\ipykernel_18756\\2063453427.py:7: FutureWarning: The frame.append method is deprecated and will be removed from pandas in a future version. Use pandas.concat instead.\n",
      "  d1 = d1.append(d2)\n"
     ]
    },
    {
     "name": "stdout",
     "output_type": "stream",
     "text": [
      "4 (26, 68)\n"
     ]
    },
    {
     "name": "stderr",
     "output_type": "stream",
     "text": [
      "C:\\Users\\prith\\AppData\\Local\\Temp\\ipykernel_18756\\2063453427.py:2: DtypeWarning: Columns (101,105) have mixed types. Specify dtype option on import or set low_memory=False.\n",
      "  for chunk in chunks:\n",
      "C:\\Users\\prith\\AppData\\Local\\Temp\\ipykernel_18756\\2063453427.py:7: FutureWarning: The frame.append method is deprecated and will be removed from pandas in a future version. Use pandas.concat instead.\n",
      "  d1 = d1.append(d2)\n"
     ]
    },
    {
     "name": "stdout",
     "output_type": "stream",
     "text": [
      "5 (22, 68)\n"
     ]
    },
    {
     "name": "stderr",
     "output_type": "stream",
     "text": [
      "C:\\Users\\prith\\AppData\\Local\\Temp\\ipykernel_18756\\2063453427.py:2: DtypeWarning: Columns (78,101,105) have mixed types. Specify dtype option on import or set low_memory=False.\n",
      "  for chunk in chunks:\n",
      "C:\\Users\\prith\\AppData\\Local\\Temp\\ipykernel_18756\\2063453427.py:7: FutureWarning: The frame.append method is deprecated and will be removed from pandas in a future version. Use pandas.concat instead.\n",
      "  d1 = d1.append(d2)\n"
     ]
    },
    {
     "name": "stdout",
     "output_type": "stream",
     "text": [
      "6 (22, 68)\n"
     ]
    },
    {
     "name": "stderr",
     "output_type": "stream",
     "text": [
      "C:\\Users\\prith\\AppData\\Local\\Temp\\ipykernel_18756\\2063453427.py:2: DtypeWarning: Columns (40,101,105) have mixed types. Specify dtype option on import or set low_memory=False.\n",
      "  for chunk in chunks:\n",
      "C:\\Users\\prith\\AppData\\Local\\Temp\\ipykernel_18756\\2063453427.py:7: FutureWarning: The frame.append method is deprecated and will be removed from pandas in a future version. Use pandas.concat instead.\n",
      "  d1 = d1.append(d2)\n"
     ]
    },
    {
     "name": "stdout",
     "output_type": "stream",
     "text": [
      "7 (23, 68)\n"
     ]
    },
    {
     "name": "stderr",
     "output_type": "stream",
     "text": [
      "C:\\Users\\prith\\AppData\\Local\\Temp\\ipykernel_18756\\2063453427.py:2: DtypeWarning: Columns (101,105) have mixed types. Specify dtype option on import or set low_memory=False.\n",
      "  for chunk in chunks:\n",
      "C:\\Users\\prith\\AppData\\Local\\Temp\\ipykernel_18756\\2063453427.py:7: FutureWarning: The frame.append method is deprecated and will be removed from pandas in a future version. Use pandas.concat instead.\n",
      "  d1 = d1.append(d2)\n"
     ]
    },
    {
     "name": "stdout",
     "output_type": "stream",
     "text": [
      "8 (27, 68)\n"
     ]
    },
    {
     "name": "stderr",
     "output_type": "stream",
     "text": [
      "C:\\Users\\prith\\AppData\\Local\\Temp\\ipykernel_18756\\2063453427.py:2: DtypeWarning: Columns (78,105) have mixed types. Specify dtype option on import or set low_memory=False.\n",
      "  for chunk in chunks:\n",
      "C:\\Users\\prith\\AppData\\Local\\Temp\\ipykernel_18756\\2063453427.py:7: FutureWarning: The frame.append method is deprecated and will be removed from pandas in a future version. Use pandas.concat instead.\n",
      "  d1 = d1.append(d2)\n"
     ]
    },
    {
     "name": "stdout",
     "output_type": "stream",
     "text": [
      "9 (22, 68)\n"
     ]
    },
    {
     "name": "stderr",
     "output_type": "stream",
     "text": [
      "C:\\Users\\prith\\AppData\\Local\\Temp\\ipykernel_18756\\2063453427.py:2: DtypeWarning: Columns (78,101,105) have mixed types. Specify dtype option on import or set low_memory=False.\n",
      "  for chunk in chunks:\n",
      "C:\\Users\\prith\\AppData\\Local\\Temp\\ipykernel_18756\\2063453427.py:7: FutureWarning: The frame.append method is deprecated and will be removed from pandas in a future version. Use pandas.concat instead.\n",
      "  d1 = d1.append(d2)\n"
     ]
    },
    {
     "name": "stdout",
     "output_type": "stream",
     "text": [
      "10 (22, 68)\n"
     ]
    },
    {
     "name": "stderr",
     "output_type": "stream",
     "text": [
      "C:\\Users\\prith\\AppData\\Local\\Temp\\ipykernel_18756\\2063453427.py:2: DtypeWarning: Columns (105) have mixed types. Specify dtype option on import or set low_memory=False.\n",
      "  for chunk in chunks:\n",
      "C:\\Users\\prith\\AppData\\Local\\Temp\\ipykernel_18756\\2063453427.py:7: FutureWarning: The frame.append method is deprecated and will be removed from pandas in a future version. Use pandas.concat instead.\n",
      "  d1 = d1.append(d2)\n"
     ]
    },
    {
     "name": "stdout",
     "output_type": "stream",
     "text": [
      "11 (17, 68)\n"
     ]
    },
    {
     "name": "stderr",
     "output_type": "stream",
     "text": [
      "C:\\Users\\prith\\AppData\\Local\\Temp\\ipykernel_18756\\2063453427.py:2: DtypeWarning: Columns (78) have mixed types. Specify dtype option on import or set low_memory=False.\n",
      "  for chunk in chunks:\n",
      "C:\\Users\\prith\\AppData\\Local\\Temp\\ipykernel_18756\\2063453427.py:7: FutureWarning: The frame.append method is deprecated and will be removed from pandas in a future version. Use pandas.concat instead.\n",
      "  d1 = d1.append(d2)\n"
     ]
    },
    {
     "name": "stdout",
     "output_type": "stream",
     "text": [
      "12 (28, 68)\n"
     ]
    },
    {
     "name": "stderr",
     "output_type": "stream",
     "text": [
      "C:\\Users\\prith\\AppData\\Local\\Temp\\ipykernel_18756\\2063453427.py:7: FutureWarning: The frame.append method is deprecated and will be removed from pandas in a future version. Use pandas.concat instead.\n",
      "  d1 = d1.append(d2)\n"
     ]
    },
    {
     "name": "stdout",
     "output_type": "stream",
     "text": [
      "13 (27, 68)\n"
     ]
    },
    {
     "name": "stderr",
     "output_type": "stream",
     "text": [
      "C:\\Users\\prith\\AppData\\Local\\Temp\\ipykernel_18756\\2063453427.py:2: DtypeWarning: Columns (78,105) have mixed types. Specify dtype option on import or set low_memory=False.\n",
      "  for chunk in chunks:\n",
      "C:\\Users\\prith\\AppData\\Local\\Temp\\ipykernel_18756\\2063453427.py:7: FutureWarning: The frame.append method is deprecated and will be removed from pandas in a future version. Use pandas.concat instead.\n",
      "  d1 = d1.append(d2)\n"
     ]
    },
    {
     "name": "stdout",
     "output_type": "stream",
     "text": [
      "14 (23, 68)\n"
     ]
    },
    {
     "name": "stderr",
     "output_type": "stream",
     "text": [
      "C:\\Users\\prith\\AppData\\Local\\Temp\\ipykernel_18756\\2063453427.py:2: DtypeWarning: Columns (78,105) have mixed types. Specify dtype option on import or set low_memory=False.\n",
      "  for chunk in chunks:\n",
      "C:\\Users\\prith\\AppData\\Local\\Temp\\ipykernel_18756\\2063453427.py:7: FutureWarning: The frame.append method is deprecated and will be removed from pandas in a future version. Use pandas.concat instead.\n",
      "  d1 = d1.append(d2)\n"
     ]
    },
    {
     "name": "stdout",
     "output_type": "stream",
     "text": [
      "15 (26, 68)\n"
     ]
    },
    {
     "name": "stderr",
     "output_type": "stream",
     "text": [
      "C:\\Users\\prith\\AppData\\Local\\Temp\\ipykernel_18756\\2063453427.py:2: DtypeWarning: Columns (78,105) have mixed types. Specify dtype option on import or set low_memory=False.\n",
      "  for chunk in chunks:\n",
      "C:\\Users\\prith\\AppData\\Local\\Temp\\ipykernel_18756\\2063453427.py:7: FutureWarning: The frame.append method is deprecated and will be removed from pandas in a future version. Use pandas.concat instead.\n",
      "  d1 = d1.append(d2)\n"
     ]
    },
    {
     "name": "stdout",
     "output_type": "stream",
     "text": [
      "16 (16, 68)\n"
     ]
    },
    {
     "name": "stderr",
     "output_type": "stream",
     "text": [
      "C:\\Users\\prith\\AppData\\Local\\Temp\\ipykernel_18756\\2063453427.py:2: DtypeWarning: Columns (40,101,105) have mixed types. Specify dtype option on import or set low_memory=False.\n",
      "  for chunk in chunks:\n",
      "C:\\Users\\prith\\AppData\\Local\\Temp\\ipykernel_18756\\2063453427.py:7: FutureWarning: The frame.append method is deprecated and will be removed from pandas in a future version. Use pandas.concat instead.\n",
      "  d1 = d1.append(d2)\n"
     ]
    },
    {
     "name": "stdout",
     "output_type": "stream",
     "text": [
      "17 (24, 68)\n"
     ]
    },
    {
     "name": "stderr",
     "output_type": "stream",
     "text": [
      "C:\\Users\\prith\\AppData\\Local\\Temp\\ipykernel_18756\\2063453427.py:2: DtypeWarning: Columns (40,101,105) have mixed types. Specify dtype option on import or set low_memory=False.\n",
      "  for chunk in chunks:\n",
      "C:\\Users\\prith\\AppData\\Local\\Temp\\ipykernel_18756\\2063453427.py:7: FutureWarning: The frame.append method is deprecated and will be removed from pandas in a future version. Use pandas.concat instead.\n",
      "  d1 = d1.append(d2)\n"
     ]
    },
    {
     "name": "stdout",
     "output_type": "stream",
     "text": [
      "18 (24, 68)\n"
     ]
    },
    {
     "name": "stderr",
     "output_type": "stream",
     "text": [
      "C:\\Users\\prith\\AppData\\Local\\Temp\\ipykernel_18756\\2063453427.py:7: FutureWarning: The frame.append method is deprecated and will be removed from pandas in a future version. Use pandas.concat instead.\n",
      "  d1 = d1.append(d2)\n"
     ]
    },
    {
     "name": "stdout",
     "output_type": "stream",
     "text": [
      "19 (21, 68)\n"
     ]
    },
    {
     "name": "stderr",
     "output_type": "stream",
     "text": [
      "C:\\Users\\prith\\AppData\\Local\\Temp\\ipykernel_18756\\2063453427.py:2: DtypeWarning: Columns (40,78,101,105) have mixed types. Specify dtype option on import or set low_memory=False.\n",
      "  for chunk in chunks:\n",
      "C:\\Users\\prith\\AppData\\Local\\Temp\\ipykernel_18756\\2063453427.py:7: FutureWarning: The frame.append method is deprecated and will be removed from pandas in a future version. Use pandas.concat instead.\n",
      "  d1 = d1.append(d2)\n"
     ]
    },
    {
     "name": "stdout",
     "output_type": "stream",
     "text": [
      "20 (24, 68)\n"
     ]
    },
    {
     "name": "stderr",
     "output_type": "stream",
     "text": [
      "C:\\Users\\prith\\AppData\\Local\\Temp\\ipykernel_18756\\2063453427.py:2: DtypeWarning: Columns (78,105) have mixed types. Specify dtype option on import or set low_memory=False.\n",
      "  for chunk in chunks:\n",
      "C:\\Users\\prith\\AppData\\Local\\Temp\\ipykernel_18756\\2063453427.py:7: FutureWarning: The frame.append method is deprecated and will be removed from pandas in a future version. Use pandas.concat instead.\n",
      "  d1 = d1.append(d2)\n"
     ]
    },
    {
     "name": "stdout",
     "output_type": "stream",
     "text": [
      "21 (23, 68)\n"
     ]
    },
    {
     "name": "stderr",
     "output_type": "stream",
     "text": [
      "C:\\Users\\prith\\AppData\\Local\\Temp\\ipykernel_18756\\2063453427.py:2: DtypeWarning: Columns (40,105) have mixed types. Specify dtype option on import or set low_memory=False.\n",
      "  for chunk in chunks:\n",
      "C:\\Users\\prith\\AppData\\Local\\Temp\\ipykernel_18756\\2063453427.py:7: FutureWarning: The frame.append method is deprecated and will be removed from pandas in a future version. Use pandas.concat instead.\n",
      "  d1 = d1.append(d2)\n"
     ]
    },
    {
     "name": "stdout",
     "output_type": "stream",
     "text": [
      "22 (19, 68)\n"
     ]
    },
    {
     "name": "stderr",
     "output_type": "stream",
     "text": [
      "C:\\Users\\prith\\AppData\\Local\\Temp\\ipykernel_18756\\2063453427.py:2: DtypeWarning: Columns (78,105) have mixed types. Specify dtype option on import or set low_memory=False.\n",
      "  for chunk in chunks:\n",
      "C:\\Users\\prith\\AppData\\Local\\Temp\\ipykernel_18756\\2063453427.py:7: FutureWarning: The frame.append method is deprecated and will be removed from pandas in a future version. Use pandas.concat instead.\n",
      "  d1 = d1.append(d2)\n"
     ]
    },
    {
     "name": "stdout",
     "output_type": "stream",
     "text": [
      "23 (26, 68)\n"
     ]
    },
    {
     "name": "stderr",
     "output_type": "stream",
     "text": [
      "C:\\Users\\prith\\AppData\\Local\\Temp\\ipykernel_18756\\2063453427.py:2: DtypeWarning: Columns (105) have mixed types. Specify dtype option on import or set low_memory=False.\n",
      "  for chunk in chunks:\n"
     ]
    },
    {
     "name": "stdout",
     "output_type": "stream",
     "text": [
      "24 (20, 68)\n"
     ]
    },
    {
     "name": "stderr",
     "output_type": "stream",
     "text": [
      "C:\\Users\\prith\\AppData\\Local\\Temp\\ipykernel_18756\\2063453427.py:7: FutureWarning: The frame.append method is deprecated and will be removed from pandas in a future version. Use pandas.concat instead.\n",
      "  d1 = d1.append(d2)\n"
     ]
    }
   ],
   "source": [
    "i = 1\n",
    "for chunk in chunks:\n",
    "    data2 = chunk\n",
    "    \n",
    "    data2.drop(all_null_columns, axis=1, inplace = True)\n",
    "    d2 = data2[data2['Zero_Bal_Code'].isin(need_zbc)]\n",
    "    d1 = d1.append(d2)\n",
    "    print(i, d2.shape)\n",
    "    i+=1"
   ]
  },
  {
   "cell_type": "code",
   "execution_count": 91,
   "id": "b0d11e32",
   "metadata": {},
   "outputs": [
    {
     "data": {
      "text/html": [
       "<div>\n",
       "<style scoped>\n",
       "    .dataframe tbody tr th:only-of-type {\n",
       "        vertical-align: middle;\n",
       "    }\n",
       "\n",
       "    .dataframe tbody tr th {\n",
       "        vertical-align: top;\n",
       "    }\n",
       "\n",
       "    .dataframe thead th {\n",
       "        text-align: right;\n",
       "    }\n",
       "</style>\n",
       "<table border=\"1\" class=\"dataframe\">\n",
       "  <thead>\n",
       "    <tr style=\"text-align: right;\">\n",
       "      <th></th>\n",
       "      <th>LOAN_ID</th>\n",
       "      <th>ACT_PERIOD</th>\n",
       "      <th>CHANNEL</th>\n",
       "      <th>SELLER</th>\n",
       "      <th>SERVICER</th>\n",
       "      <th>ORIG_RATE</th>\n",
       "      <th>CURR_RATE</th>\n",
       "      <th>ORIG_UPB</th>\n",
       "      <th>CURRENT_UPB</th>\n",
       "      <th>ORIG_TERM</th>\n",
       "      <th>...</th>\n",
       "      <th>FORECLOSURE_PRINCIPAL_WRITE_OFF_AMOUNT</th>\n",
       "      <th>RELOCATION_MORTGAGE_INDICATOR</th>\n",
       "      <th>PROPERTY_INSPECTION_WAIVER_INDICATOR</th>\n",
       "      <th>HIGH_BALANCE_LOAN_INDICATOR</th>\n",
       "      <th>FORBEARANCE_INDICATOR</th>\n",
       "      <th>HIGH_LOAN_TO_VALUE_HLTV_REFINANCE_OPTION_INDICATOR</th>\n",
       "      <th>RE_PROCS_FLAG</th>\n",
       "      <th>ADR_TYPE</th>\n",
       "      <th>ADR_COUNT</th>\n",
       "      <th>ADR_UPB</th>\n",
       "    </tr>\n",
       "  </thead>\n",
       "  <tbody>\n",
       "    <tr>\n",
       "      <th>24057100</th>\n",
       "      <td>968795215565</td>\n",
       "      <td>92022</td>\n",
       "      <td>C</td>\n",
       "      <td>AmeriHome Mortgage Company, LLC</td>\n",
       "      <td>NaN</td>\n",
       "      <td>3.875</td>\n",
       "      <td>3.875</td>\n",
       "      <td>250000.0</td>\n",
       "      <td>0.0</td>\n",
       "      <td>360</td>\n",
       "      <td>...</td>\n",
       "      <td>NaN</td>\n",
       "      <td>N</td>\n",
       "      <td>A</td>\n",
       "      <td>N</td>\n",
       "      <td>7</td>\n",
       "      <td>N</td>\n",
       "      <td>N</td>\n",
       "      <td>7</td>\n",
       "      <td>NaN</td>\n",
       "      <td>NaN</td>\n",
       "    </tr>\n",
       "    <tr>\n",
       "      <th>24067639</th>\n",
       "      <td>969154181551</td>\n",
       "      <td>12020</td>\n",
       "      <td>C</td>\n",
       "      <td>Other</td>\n",
       "      <td>NaN</td>\n",
       "      <td>3.875</td>\n",
       "      <td>NaN</td>\n",
       "      <td>222000.0</td>\n",
       "      <td>0.0</td>\n",
       "      <td>360</td>\n",
       "      <td>...</td>\n",
       "      <td>NaN</td>\n",
       "      <td>N</td>\n",
       "      <td>A</td>\n",
       "      <td>N</td>\n",
       "      <td>NaN</td>\n",
       "      <td>N</td>\n",
       "      <td>N</td>\n",
       "      <td>NaN</td>\n",
       "      <td>NaN</td>\n",
       "      <td>NaN</td>\n",
       "    </tr>\n",
       "    <tr>\n",
       "      <th>24087598</th>\n",
       "      <td>969805813581</td>\n",
       "      <td>32020</td>\n",
       "      <td>R</td>\n",
       "      <td>Loandepot.Com, Llc</td>\n",
       "      <td>NaN</td>\n",
       "      <td>5.125</td>\n",
       "      <td>NaN</td>\n",
       "      <td>60000.0</td>\n",
       "      <td>0.0</td>\n",
       "      <td>360</td>\n",
       "      <td>...</td>\n",
       "      <td>NaN</td>\n",
       "      <td>N</td>\n",
       "      <td>A</td>\n",
       "      <td>N</td>\n",
       "      <td>NaN</td>\n",
       "      <td>N</td>\n",
       "      <td>N</td>\n",
       "      <td>NaN</td>\n",
       "      <td>NaN</td>\n",
       "      <td>NaN</td>\n",
       "    </tr>\n",
       "    <tr>\n",
       "      <th>24168575</th>\n",
       "      <td>972663127957</td>\n",
       "      <td>112019</td>\n",
       "      <td>R</td>\n",
       "      <td>Quicken Loans Inc.</td>\n",
       "      <td>NaN</td>\n",
       "      <td>3.250</td>\n",
       "      <td>NaN</td>\n",
       "      <td>81000.0</td>\n",
       "      <td>0.0</td>\n",
       "      <td>180</td>\n",
       "      <td>...</td>\n",
       "      <td>NaN</td>\n",
       "      <td>N</td>\n",
       "      <td>A</td>\n",
       "      <td>N</td>\n",
       "      <td>NaN</td>\n",
       "      <td>N</td>\n",
       "      <td>N</td>\n",
       "      <td>NaN</td>\n",
       "      <td>NaN</td>\n",
       "      <td>NaN</td>\n",
       "    </tr>\n",
       "    <tr>\n",
       "      <th>24255812</th>\n",
       "      <td>975855490470</td>\n",
       "      <td>42021</td>\n",
       "      <td>R</td>\n",
       "      <td>JPMorgan Chase Bank, National Association</td>\n",
       "      <td>NaN</td>\n",
       "      <td>5.000</td>\n",
       "      <td>5.000</td>\n",
       "      <td>90000.0</td>\n",
       "      <td>0.0</td>\n",
       "      <td>360</td>\n",
       "      <td>...</td>\n",
       "      <td>NaN</td>\n",
       "      <td>N</td>\n",
       "      <td>A</td>\n",
       "      <td>N</td>\n",
       "      <td>7</td>\n",
       "      <td>N</td>\n",
       "      <td>N</td>\n",
       "      <td>7</td>\n",
       "      <td>NaN</td>\n",
       "      <td>NaN</td>\n",
       "    </tr>\n",
       "    <tr>\n",
       "      <th>24308142</th>\n",
       "      <td>977767510350</td>\n",
       "      <td>72018</td>\n",
       "      <td>R</td>\n",
       "      <td>Other</td>\n",
       "      <td>NaN</td>\n",
       "      <td>4.125</td>\n",
       "      <td>NaN</td>\n",
       "      <td>309000.0</td>\n",
       "      <td>0.0</td>\n",
       "      <td>360</td>\n",
       "      <td>...</td>\n",
       "      <td>NaN</td>\n",
       "      <td>N</td>\n",
       "      <td>A</td>\n",
       "      <td>N</td>\n",
       "      <td>NaN</td>\n",
       "      <td>N</td>\n",
       "      <td>N</td>\n",
       "      <td>NaN</td>\n",
       "      <td>NaN</td>\n",
       "      <td>NaN</td>\n",
       "    </tr>\n",
       "    <tr>\n",
       "      <th>24364193</th>\n",
       "      <td>979893223315</td>\n",
       "      <td>62022</td>\n",
       "      <td>C</td>\n",
       "      <td>Wells Fargo Bank, N.A.</td>\n",
       "      <td>NaN</td>\n",
       "      <td>3.875</td>\n",
       "      <td>3.875</td>\n",
       "      <td>416000.0</td>\n",
       "      <td>0.0</td>\n",
       "      <td>360</td>\n",
       "      <td>...</td>\n",
       "      <td>NaN</td>\n",
       "      <td>N</td>\n",
       "      <td>A</td>\n",
       "      <td>N</td>\n",
       "      <td>7</td>\n",
       "      <td>N</td>\n",
       "      <td>N</td>\n",
       "      <td>7</td>\n",
       "      <td>NaN</td>\n",
       "      <td>NaN</td>\n",
       "    </tr>\n",
       "    <tr>\n",
       "      <th>24408621</th>\n",
       "      <td>981498191226</td>\n",
       "      <td>92020</td>\n",
       "      <td>R</td>\n",
       "      <td>Other</td>\n",
       "      <td>NaN</td>\n",
       "      <td>5.125</td>\n",
       "      <td>5.125</td>\n",
       "      <td>57000.0</td>\n",
       "      <td>0.0</td>\n",
       "      <td>360</td>\n",
       "      <td>...</td>\n",
       "      <td>NaN</td>\n",
       "      <td>N</td>\n",
       "      <td>A</td>\n",
       "      <td>N</td>\n",
       "      <td>7</td>\n",
       "      <td>N</td>\n",
       "      <td>N</td>\n",
       "      <td>7</td>\n",
       "      <td>NaN</td>\n",
       "      <td>NaN</td>\n",
       "    </tr>\n",
       "    <tr>\n",
       "      <th>24478890</th>\n",
       "      <td>983928239841</td>\n",
       "      <td>12022</td>\n",
       "      <td>R</td>\n",
       "      <td>Wells Fargo Bank, N.A.</td>\n",
       "      <td>NaN</td>\n",
       "      <td>4.875</td>\n",
       "      <td>4.875</td>\n",
       "      <td>116000.0</td>\n",
       "      <td>0.0</td>\n",
       "      <td>360</td>\n",
       "      <td>...</td>\n",
       "      <td>NaN</td>\n",
       "      <td>N</td>\n",
       "      <td>A</td>\n",
       "      <td>N</td>\n",
       "      <td>7</td>\n",
       "      <td>N</td>\n",
       "      <td>N</td>\n",
       "      <td>7</td>\n",
       "      <td>NaN</td>\n",
       "      <td>NaN</td>\n",
       "    </tr>\n",
       "    <tr>\n",
       "      <th>24526218</th>\n",
       "      <td>985545932746</td>\n",
       "      <td>72019</td>\n",
       "      <td>C</td>\n",
       "      <td>Other</td>\n",
       "      <td>NaN</td>\n",
       "      <td>5.125</td>\n",
       "      <td>NaN</td>\n",
       "      <td>190000.0</td>\n",
       "      <td>0.0</td>\n",
       "      <td>360</td>\n",
       "      <td>...</td>\n",
       "      <td>NaN</td>\n",
       "      <td>N</td>\n",
       "      <td>A</td>\n",
       "      <td>N</td>\n",
       "      <td>NaN</td>\n",
       "      <td>N</td>\n",
       "      <td>N</td>\n",
       "      <td>NaN</td>\n",
       "      <td>NaN</td>\n",
       "      <td>NaN</td>\n",
       "    </tr>\n",
       "    <tr>\n",
       "      <th>24650161</th>\n",
       "      <td>990066511002</td>\n",
       "      <td>122021</td>\n",
       "      <td>R</td>\n",
       "      <td>Other</td>\n",
       "      <td>NaN</td>\n",
       "      <td>4.000</td>\n",
       "      <td>4.000</td>\n",
       "      <td>168000.0</td>\n",
       "      <td>0.0</td>\n",
       "      <td>360</td>\n",
       "      <td>...</td>\n",
       "      <td>NaN</td>\n",
       "      <td>N</td>\n",
       "      <td>A</td>\n",
       "      <td>N</td>\n",
       "      <td>7</td>\n",
       "      <td>N</td>\n",
       "      <td>N</td>\n",
       "      <td>7</td>\n",
       "      <td>NaN</td>\n",
       "      <td>NaN</td>\n",
       "    </tr>\n",
       "    <tr>\n",
       "      <th>24670254</th>\n",
       "      <td>990822142310</td>\n",
       "      <td>22019</td>\n",
       "      <td>C</td>\n",
       "      <td>Pmtt4</td>\n",
       "      <td>NaN</td>\n",
       "      <td>4.875</td>\n",
       "      <td>NaN</td>\n",
       "      <td>147000.0</td>\n",
       "      <td>0.0</td>\n",
       "      <td>360</td>\n",
       "      <td>...</td>\n",
       "      <td>NaN</td>\n",
       "      <td>N</td>\n",
       "      <td>A</td>\n",
       "      <td>N</td>\n",
       "      <td>NaN</td>\n",
       "      <td>N</td>\n",
       "      <td>N</td>\n",
       "      <td>NaN</td>\n",
       "      <td>NaN</td>\n",
       "      <td>NaN</td>\n",
       "    </tr>\n",
       "    <tr>\n",
       "      <th>24714843</th>\n",
       "      <td>992417459722</td>\n",
       "      <td>122019</td>\n",
       "      <td>B</td>\n",
       "      <td>Freedom Mortgage Corp.</td>\n",
       "      <td>NaN</td>\n",
       "      <td>4.750</td>\n",
       "      <td>NaN</td>\n",
       "      <td>94000.0</td>\n",
       "      <td>0.0</td>\n",
       "      <td>360</td>\n",
       "      <td>...</td>\n",
       "      <td>NaN</td>\n",
       "      <td>N</td>\n",
       "      <td>A</td>\n",
       "      <td>N</td>\n",
       "      <td>NaN</td>\n",
       "      <td>N</td>\n",
       "      <td>N</td>\n",
       "      <td>NaN</td>\n",
       "      <td>NaN</td>\n",
       "      <td>NaN</td>\n",
       "    </tr>\n",
       "    <tr>\n",
       "      <th>24743854</th>\n",
       "      <td>993479568879</td>\n",
       "      <td>112022</td>\n",
       "      <td>C</td>\n",
       "      <td>Wells Fargo Bank, N.A.</td>\n",
       "      <td>NaN</td>\n",
       "      <td>3.875</td>\n",
       "      <td>3.875</td>\n",
       "      <td>417000.0</td>\n",
       "      <td>0.0</td>\n",
       "      <td>360</td>\n",
       "      <td>...</td>\n",
       "      <td>0.0</td>\n",
       "      <td>N</td>\n",
       "      <td>A</td>\n",
       "      <td>N</td>\n",
       "      <td>7</td>\n",
       "      <td>N</td>\n",
       "      <td>N</td>\n",
       "      <td>C</td>\n",
       "      <td>1.0</td>\n",
       "      <td>6642.9</td>\n",
       "    </tr>\n",
       "    <tr>\n",
       "      <th>24765808</th>\n",
       "      <td>994286173574</td>\n",
       "      <td>112020</td>\n",
       "      <td>R</td>\n",
       "      <td>Quicken Loans, LLC</td>\n",
       "      <td>NaN</td>\n",
       "      <td>4.500</td>\n",
       "      <td>4.500</td>\n",
       "      <td>83000.0</td>\n",
       "      <td>0.0</td>\n",
       "      <td>360</td>\n",
       "      <td>...</td>\n",
       "      <td>NaN</td>\n",
       "      <td>N</td>\n",
       "      <td>A</td>\n",
       "      <td>N</td>\n",
       "      <td>7</td>\n",
       "      <td>N</td>\n",
       "      <td>N</td>\n",
       "      <td>7</td>\n",
       "      <td>NaN</td>\n",
       "      <td>NaN</td>\n",
       "    </tr>\n",
       "    <tr>\n",
       "      <th>24790076</th>\n",
       "      <td>995180707501</td>\n",
       "      <td>102019</td>\n",
       "      <td>R</td>\n",
       "      <td>Wells Fargo Bank, N.A.</td>\n",
       "      <td>NaN</td>\n",
       "      <td>3.875</td>\n",
       "      <td>NaN</td>\n",
       "      <td>415000.0</td>\n",
       "      <td>0.0</td>\n",
       "      <td>360</td>\n",
       "      <td>...</td>\n",
       "      <td>NaN</td>\n",
       "      <td>N</td>\n",
       "      <td>A</td>\n",
       "      <td>N</td>\n",
       "      <td>NaN</td>\n",
       "      <td>N</td>\n",
       "      <td>N</td>\n",
       "      <td>NaN</td>\n",
       "      <td>NaN</td>\n",
       "      <td>NaN</td>\n",
       "    </tr>\n",
       "    <tr>\n",
       "      <th>24813782</th>\n",
       "      <td>995987981783</td>\n",
       "      <td>32020</td>\n",
       "      <td>C</td>\n",
       "      <td>Other</td>\n",
       "      <td>NaN</td>\n",
       "      <td>4.125</td>\n",
       "      <td>NaN</td>\n",
       "      <td>80000.0</td>\n",
       "      <td>0.0</td>\n",
       "      <td>360</td>\n",
       "      <td>...</td>\n",
       "      <td>NaN</td>\n",
       "      <td>N</td>\n",
       "      <td>A</td>\n",
       "      <td>N</td>\n",
       "      <td>NaN</td>\n",
       "      <td>N</td>\n",
       "      <td>N</td>\n",
       "      <td>NaN</td>\n",
       "      <td>NaN</td>\n",
       "      <td>NaN</td>\n",
       "    </tr>\n",
       "    <tr>\n",
       "      <th>24864264</th>\n",
       "      <td>997900070360</td>\n",
       "      <td>12020</td>\n",
       "      <td>R</td>\n",
       "      <td>Quicken Loans Inc.</td>\n",
       "      <td>NaN</td>\n",
       "      <td>4.750</td>\n",
       "      <td>NaN</td>\n",
       "      <td>96000.0</td>\n",
       "      <td>0.0</td>\n",
       "      <td>360</td>\n",
       "      <td>...</td>\n",
       "      <td>NaN</td>\n",
       "      <td>N</td>\n",
       "      <td>A</td>\n",
       "      <td>N</td>\n",
       "      <td>NaN</td>\n",
       "      <td>N</td>\n",
       "      <td>N</td>\n",
       "      <td>NaN</td>\n",
       "      <td>NaN</td>\n",
       "      <td>NaN</td>\n",
       "    </tr>\n",
       "    <tr>\n",
       "      <th>24881516</th>\n",
       "      <td>998520440605</td>\n",
       "      <td>32023</td>\n",
       "      <td>R</td>\n",
       "      <td>Truist Bank (formerly SunTrust Bank)</td>\n",
       "      <td>NaN</td>\n",
       "      <td>3.490</td>\n",
       "      <td>3.490</td>\n",
       "      <td>129000.0</td>\n",
       "      <td>0.0</td>\n",
       "      <td>300</td>\n",
       "      <td>...</td>\n",
       "      <td>NaN</td>\n",
       "      <td>N</td>\n",
       "      <td>A</td>\n",
       "      <td>N</td>\n",
       "      <td>7</td>\n",
       "      <td>N</td>\n",
       "      <td>N</td>\n",
       "      <td>7</td>\n",
       "      <td>NaN</td>\n",
       "      <td>NaN</td>\n",
       "    </tr>\n",
       "    <tr>\n",
       "      <th>24921847</th>\n",
       "      <td>999945355679</td>\n",
       "      <td>112022</td>\n",
       "      <td>C</td>\n",
       "      <td>Wells Fargo Bank, N.A.</td>\n",
       "      <td>NaN</td>\n",
       "      <td>3.875</td>\n",
       "      <td>3.875</td>\n",
       "      <td>136000.0</td>\n",
       "      <td>0.0</td>\n",
       "      <td>360</td>\n",
       "      <td>...</td>\n",
       "      <td>0.0</td>\n",
       "      <td>N</td>\n",
       "      <td>A</td>\n",
       "      <td>N</td>\n",
       "      <td>7</td>\n",
       "      <td>N</td>\n",
       "      <td>N</td>\n",
       "      <td>7</td>\n",
       "      <td>NaN</td>\n",
       "      <td>NaN</td>\n",
       "    </tr>\n",
       "  </tbody>\n",
       "</table>\n",
       "<p>20 rows × 68 columns</p>\n",
       "</div>"
      ],
      "text/plain": [
       "               LOAN_ID  ACT_PERIOD CHANNEL  \\\n",
       "24057100  968795215565       92022       C   \n",
       "24067639  969154181551       12020       C   \n",
       "24087598  969805813581       32020       R   \n",
       "24168575  972663127957      112019       R   \n",
       "24255812  975855490470       42021       R   \n",
       "24308142  977767510350       72018       R   \n",
       "24364193  979893223315       62022       C   \n",
       "24408621  981498191226       92020       R   \n",
       "24478890  983928239841       12022       R   \n",
       "24526218  985545932746       72019       C   \n",
       "24650161  990066511002      122021       R   \n",
       "24670254  990822142310       22019       C   \n",
       "24714843  992417459722      122019       B   \n",
       "24743854  993479568879      112022       C   \n",
       "24765808  994286173574      112020       R   \n",
       "24790076  995180707501      102019       R   \n",
       "24813782  995987981783       32020       C   \n",
       "24864264  997900070360       12020       R   \n",
       "24881516  998520440605       32023       R   \n",
       "24921847  999945355679      112022       C   \n",
       "\n",
       "                                             SELLER SERVICER  ORIG_RATE  \\\n",
       "24057100            AmeriHome Mortgage Company, LLC      NaN      3.875   \n",
       "24067639                                      Other      NaN      3.875   \n",
       "24087598                         Loandepot.Com, Llc      NaN      5.125   \n",
       "24168575                         Quicken Loans Inc.      NaN      3.250   \n",
       "24255812  JPMorgan Chase Bank, National Association      NaN      5.000   \n",
       "24308142                                      Other      NaN      4.125   \n",
       "24364193                     Wells Fargo Bank, N.A.      NaN      3.875   \n",
       "24408621                                      Other      NaN      5.125   \n",
       "24478890                     Wells Fargo Bank, N.A.      NaN      4.875   \n",
       "24526218                                      Other      NaN      5.125   \n",
       "24650161                                      Other      NaN      4.000   \n",
       "24670254                                      Pmtt4      NaN      4.875   \n",
       "24714843                     Freedom Mortgage Corp.      NaN      4.750   \n",
       "24743854                     Wells Fargo Bank, N.A.      NaN      3.875   \n",
       "24765808                         Quicken Loans, LLC      NaN      4.500   \n",
       "24790076                     Wells Fargo Bank, N.A.      NaN      3.875   \n",
       "24813782                                      Other      NaN      4.125   \n",
       "24864264                         Quicken Loans Inc.      NaN      4.750   \n",
       "24881516       Truist Bank (formerly SunTrust Bank)      NaN      3.490   \n",
       "24921847                     Wells Fargo Bank, N.A.      NaN      3.875   \n",
       "\n",
       "          CURR_RATE  ORIG_UPB  CURRENT_UPB  ORIG_TERM  ...  \\\n",
       "24057100      3.875  250000.0          0.0        360  ...   \n",
       "24067639        NaN  222000.0          0.0        360  ...   \n",
       "24087598        NaN   60000.0          0.0        360  ...   \n",
       "24168575        NaN   81000.0          0.0        180  ...   \n",
       "24255812      5.000   90000.0          0.0        360  ...   \n",
       "24308142        NaN  309000.0          0.0        360  ...   \n",
       "24364193      3.875  416000.0          0.0        360  ...   \n",
       "24408621      5.125   57000.0          0.0        360  ...   \n",
       "24478890      4.875  116000.0          0.0        360  ...   \n",
       "24526218        NaN  190000.0          0.0        360  ...   \n",
       "24650161      4.000  168000.0          0.0        360  ...   \n",
       "24670254        NaN  147000.0          0.0        360  ...   \n",
       "24714843        NaN   94000.0          0.0        360  ...   \n",
       "24743854      3.875  417000.0          0.0        360  ...   \n",
       "24765808      4.500   83000.0          0.0        360  ...   \n",
       "24790076        NaN  415000.0          0.0        360  ...   \n",
       "24813782        NaN   80000.0          0.0        360  ...   \n",
       "24864264        NaN   96000.0          0.0        360  ...   \n",
       "24881516      3.490  129000.0          0.0        300  ...   \n",
       "24921847      3.875  136000.0          0.0        360  ...   \n",
       "\n",
       "          FORECLOSURE_PRINCIPAL_WRITE_OFF_AMOUNT  \\\n",
       "24057100                                     NaN   \n",
       "24067639                                     NaN   \n",
       "24087598                                     NaN   \n",
       "24168575                                     NaN   \n",
       "24255812                                     NaN   \n",
       "24308142                                     NaN   \n",
       "24364193                                     NaN   \n",
       "24408621                                     NaN   \n",
       "24478890                                     NaN   \n",
       "24526218                                     NaN   \n",
       "24650161                                     NaN   \n",
       "24670254                                     NaN   \n",
       "24714843                                     NaN   \n",
       "24743854                                     0.0   \n",
       "24765808                                     NaN   \n",
       "24790076                                     NaN   \n",
       "24813782                                     NaN   \n",
       "24864264                                     NaN   \n",
       "24881516                                     NaN   \n",
       "24921847                                     0.0   \n",
       "\n",
       "          RELOCATION_MORTGAGE_INDICATOR  PROPERTY_INSPECTION_WAIVER_INDICATOR  \\\n",
       "24057100                              N                                     A   \n",
       "24067639                              N                                     A   \n",
       "24087598                              N                                     A   \n",
       "24168575                              N                                     A   \n",
       "24255812                              N                                     A   \n",
       "24308142                              N                                     A   \n",
       "24364193                              N                                     A   \n",
       "24408621                              N                                     A   \n",
       "24478890                              N                                     A   \n",
       "24526218                              N                                     A   \n",
       "24650161                              N                                     A   \n",
       "24670254                              N                                     A   \n",
       "24714843                              N                                     A   \n",
       "24743854                              N                                     A   \n",
       "24765808                              N                                     A   \n",
       "24790076                              N                                     A   \n",
       "24813782                              N                                     A   \n",
       "24864264                              N                                     A   \n",
       "24881516                              N                                     A   \n",
       "24921847                              N                                     A   \n",
       "\n",
       "          HIGH_BALANCE_LOAN_INDICATOR  FORBEARANCE_INDICATOR  \\\n",
       "24057100                            N                      7   \n",
       "24067639                            N                    NaN   \n",
       "24087598                            N                    NaN   \n",
       "24168575                            N                    NaN   \n",
       "24255812                            N                      7   \n",
       "24308142                            N                    NaN   \n",
       "24364193                            N                      7   \n",
       "24408621                            N                      7   \n",
       "24478890                            N                      7   \n",
       "24526218                            N                    NaN   \n",
       "24650161                            N                      7   \n",
       "24670254                            N                    NaN   \n",
       "24714843                            N                    NaN   \n",
       "24743854                            N                      7   \n",
       "24765808                            N                      7   \n",
       "24790076                            N                    NaN   \n",
       "24813782                            N                    NaN   \n",
       "24864264                            N                    NaN   \n",
       "24881516                            N                      7   \n",
       "24921847                            N                      7   \n",
       "\n",
       "          HIGH_LOAN_TO_VALUE_HLTV_REFINANCE_OPTION_INDICATOR  RE_PROCS_FLAG  \\\n",
       "24057100                                                  N               N   \n",
       "24067639                                                  N               N   \n",
       "24087598                                                  N               N   \n",
       "24168575                                                  N               N   \n",
       "24255812                                                  N               N   \n",
       "24308142                                                  N               N   \n",
       "24364193                                                  N               N   \n",
       "24408621                                                  N               N   \n",
       "24478890                                                  N               N   \n",
       "24526218                                                  N               N   \n",
       "24650161                                                  N               N   \n",
       "24670254                                                  N               N   \n",
       "24714843                                                  N               N   \n",
       "24743854                                                  N               N   \n",
       "24765808                                                  N               N   \n",
       "24790076                                                  N               N   \n",
       "24813782                                                  N               N   \n",
       "24864264                                                  N               N   \n",
       "24881516                                                  N               N   \n",
       "24921847                                                  N               N   \n",
       "\n",
       "          ADR_TYPE  ADR_COUNT  ADR_UPB  \n",
       "24057100         7        NaN      NaN  \n",
       "24067639       NaN        NaN      NaN  \n",
       "24087598       NaN        NaN      NaN  \n",
       "24168575       NaN        NaN      NaN  \n",
       "24255812         7        NaN      NaN  \n",
       "24308142       NaN        NaN      NaN  \n",
       "24364193         7        NaN      NaN  \n",
       "24408621         7        NaN      NaN  \n",
       "24478890         7        NaN      NaN  \n",
       "24526218       NaN        NaN      NaN  \n",
       "24650161         7        NaN      NaN  \n",
       "24670254       NaN        NaN      NaN  \n",
       "24714843       NaN        NaN      NaN  \n",
       "24743854         C        1.0   6642.9  \n",
       "24765808         7        NaN      NaN  \n",
       "24790076       NaN        NaN      NaN  \n",
       "24813782       NaN        NaN      NaN  \n",
       "24864264       NaN        NaN      NaN  \n",
       "24881516         7        NaN      NaN  \n",
       "24921847         7        NaN      NaN  \n",
       "\n",
       "[20 rows x 68 columns]"
      ]
     },
     "execution_count": 91,
     "metadata": {},
     "output_type": "execute_result"
    }
   ],
   "source": [
    "d2"
   ]
  },
  {
   "cell_type": "code",
   "execution_count": 95,
   "id": "e02b2bc6",
   "metadata": {},
   "outputs": [
    {
     "data": {
      "text/plain": [
       "24057100     2.0\n",
       "24067639     9.0\n",
       "24087598     9.0\n",
       "24168575     9.0\n",
       "24255812     2.0\n",
       "24308142     3.0\n",
       "24364193     2.0\n",
       "24408621     9.0\n",
       "24478890     2.0\n",
       "24526218     2.0\n",
       "24650161     9.0\n",
       "24670254     9.0\n",
       "24714843     2.0\n",
       "24743854    15.0\n",
       "24765808     2.0\n",
       "24790076     2.0\n",
       "24813782     9.0\n",
       "24864264     9.0\n",
       "24881516     9.0\n",
       "24921847    15.0\n",
       "Name: Zero_Bal_Code, dtype: float64"
      ]
     },
     "execution_count": 95,
     "metadata": {},
     "output_type": "execute_result"
    }
   ],
   "source": [
    "d1['Zero_Bal_Code']"
   ]
  },
  {
   "cell_type": "code",
   "execution_count": 93,
   "id": "886d9805",
   "metadata": {},
   "outputs": [],
   "source": [
    "#d1.to_csv('2017Q1.csv', index=False)"
   ]
  },
  {
   "cell_type": "markdown",
   "id": "b99e5717",
   "metadata": {},
   "source": [
    "# data _lookup"
   ]
  },
  {
   "cell_type": "code",
   "execution_count": 14,
   "id": "4c755676",
   "metadata": {},
   "outputs": [
    {
     "data": {
      "text/plain": [
       "{1: 'POOL_ID',\n",
       " 2: 'LOAN_ID',\n",
       " 3: 'ACT_PERIOD',\n",
       " 4: 'CHANNEL',\n",
       " 5: 'SELLER',\n",
       " 6: 'SERVICER',\n",
       " 7: 'MASTER_SERVICER',\n",
       " 8: 'ORIG_RATE',\n",
       " 9: 'CURR_RATE',\n",
       " 10: 'ORIG_UPB',\n",
       " 11: 'ISSUANCE_UPB',\n",
       " 12: 'CURRENT_UPB',\n",
       " 13: 'ORIG_TERM',\n",
       " 14: 'ORIG_DATE',\n",
       " 15: 'FIRST_PAY',\n",
       " 16: 'LOAN_AGE',\n",
       " 17: 'REM_MONTHS',\n",
       " 18: 'ADJ_REM_MONTHS',\n",
       " 19: 'MATR_DT',\n",
       " 20: 'OLTV',\n",
       " 21: 'OCLTV',\n",
       " 22: 'NUM_BO',\n",
       " 23: 'DTI',\n",
       " 24: 'CSCORE_B',\n",
       " 25: 'CSCORE_C',\n",
       " 26: 'FIRST_FLAG',\n",
       " 27: 'PURPOSE',\n",
       " 28: 'PROP',\n",
       " 29: 'NO_UNITS',\n",
       " 30: 'OCC_STAT',\n",
       " 31: 'STATE',\n",
       " 32: 'MSA',\n",
       " 33: 'ZIP',\n",
       " 34: 'MI_PCT',\n",
       " 35: 'PRODUCT',\n",
       " 36: 'PPMT_FLG',\n",
       " 37: 'IO',\n",
       " 38: 'FIRST_PAY_IO',\n",
       " 39: 'MNTHS_TO_AMTZ_IO',\n",
       " 40: 'DLQ_STATUS',\n",
       " 41: 'PMT_HISTORY',\n",
       " 42: 'MOD_FLAG',\n",
       " 43: 'MI_CANCEL_FLAG',\n",
       " 44: 'Zero_Bal_Code',\n",
       " 45: 'ZB_DTE',\n",
       " 46: 'LAST_UPB',\n",
       " 47: 'RPRCH_DTE',\n",
       " 48: 'CURR_SCHD_PRNCPL',\n",
       " 49: 'TOT_SCHD_PRNCPL',\n",
       " 50: 'UNSCHD_PRNCPL_CURR',\n",
       " 51: 'LAST_PAID_INSTALLMENT_DATE',\n",
       " 52: 'FORECLOSURE_DATE',\n",
       " 53: 'DISPOSITION_DATE',\n",
       " 54: 'FORECLOSURE_COSTS',\n",
       " 55: 'PROPERTY_PRESERVATION_AND_REPAIR_COSTS',\n",
       " 56: 'ASSET_RECOVERY_COSTS',\n",
       " 57: 'MISCELLANEOUS_HOLDING_EXPENSES_AND_CREDITS',\n",
       " 58: 'ASSOCIATED_TAXES_FOR_HOLDING_PROPERTY',\n",
       " 59: 'NET_SALES_PROCEEDS',\n",
       " 60: 'CREDIT_ENHANCEMENT_PROCEEDS',\n",
       " 61: 'REPURCHASES_MAKE_WHOLE_PROCEEDS',\n",
       " 62: 'OTHER_FORECLOSURE_PROCEEDS',\n",
       " 63: 'NON_INTEREST_BEARING_UPB',\n",
       " 64: 'PRINCIPAL_FORGIVENESS_AMOUNT',\n",
       " 65: 'ORIGINAL_LIST_START_DATE',\n",
       " 66: 'ORIGINAL_LIST_PRICE',\n",
       " 67: 'CURRENT_LIST_START_DATE',\n",
       " 68: 'CURRENT_LIST_PRICE',\n",
       " 69: 'ISSUE_SCOREB',\n",
       " 70: 'ISSUE_SCOREC',\n",
       " 71: 'CURR_SCOREB',\n",
       " 72: 'CURR_SCOREC',\n",
       " 73: 'MI_TYPE',\n",
       " 74: 'SERV_IND',\n",
       " 75: 'CURRENT_PERIOD_MODIFICATION_LOSS_AMOUNT',\n",
       " 76: 'CUMULATIVE_MODIFICATION_LOSS_AMOUNT',\n",
       " 77: 'CURRENT_PERIOD_CREDIT_EVENT_NET_GAIN_OR_LOSS',\n",
       " 78: 'CUMULATIVE_CREDIT_EVENT_NET_GAIN_OR_LOSS',\n",
       " 79: 'HOMEREADY_PROGRAM_INDICATOR',\n",
       " 80: 'FORECLOSURE_PRINCIPAL_WRITE_OFF_AMOUNT',\n",
       " 81: 'RELOCATION_MORTGAGE_INDICATOR',\n",
       " 82: 'ZERO_BALANCE_CODE_CHANGE_DATE',\n",
       " 83: 'LOAN_HOLDBACK_INDICATOR',\n",
       " 84: 'LOAN_HOLDBACK_EFFECTIVE_DATE',\n",
       " 85: 'DELINQUENT_ACCRUED_INTEREST',\n",
       " 86: 'PROPERTY_INSPECTION_WAIVER_INDICATOR',\n",
       " 87: 'HIGH_BALANCE_LOAN_INDICATOR',\n",
       " 88: 'ARM_5_YR_INDICATOR',\n",
       " 89: 'ARM_PRODUCT_TYPE',\n",
       " 90: 'MONTHS_UNTIL_FIRST_PAYMENT_RESET',\n",
       " 91: 'MONTHS_BETWEEN_SUBSEQUENT_PAYMENT_RESET',\n",
       " 92: 'INTEREST_RATE_CHANGE_DATE',\n",
       " 93: 'PAYMENT_CHANGE_DATE',\n",
       " 94: 'ARM_INDEX',\n",
       " 95: 'ARM_CAP_STRUCTURE',\n",
       " 96: 'INITIAL_INTEREST_RATE_CAP',\n",
       " 97: 'PERIODIC_INTEREST_RATE_CAP',\n",
       " 98: 'LIFETIME_INTEREST_RATE_CAP',\n",
       " 99: 'MARGIN',\n",
       " 100: 'BALLOON_INDICATOR',\n",
       " 101: 'PLAN_NUMBER',\n",
       " 102: 'FORBEARANCE_INDICATOR',\n",
       " 103: 'HIGH_LOAN_TO_VALUE_HLTV_REFINANCE_OPTION_INDICATOR',\n",
       " 104: 'DEAL_NAME',\n",
       " 105: 'RE_PROCS_FLAG',\n",
       " 106: 'ADR_TYPE',\n",
       " 107: 'ADR_COUNT',\n",
       " 108: 'ADR_UPB'}"
      ]
     },
     "execution_count": 14,
     "metadata": {},
     "output_type": "execute_result"
    }
   ],
   "source": [
    "dict(zip(list(range(1, len(All_columns)+1)), All_columns))"
   ]
  },
  {
   "cell_type": "code",
   "execution_count": 49,
   "id": "86b04fed",
   "metadata": {
    "scrolled": true
   },
   "outputs": [
    {
     "data": {
      "text/plain": [
       "array([100010724683, 100013977474, 100015036345, ..., 135706030251,\n",
       "       135706324378, 135706645955], dtype=int64)"
      ]
     },
     "execution_count": 49,
     "metadata": {},
     "output_type": "execute_result"
    }
   ],
   "source": [
    "l1"
   ]
  },
  {
   "cell_type": "code",
   "execution_count": 77,
   "id": "3e98a563",
   "metadata": {},
   "outputs": [
    {
     "data": {
      "text/plain": [
       "array([nan,  1.])"
      ]
     },
     "execution_count": 77,
     "metadata": {},
     "output_type": "execute_result"
    }
   ],
   "source": [
    "data[data['LOAN_ID']==100007361597]['Zero_Bal_Code'].unique() #[['Zero_Bal_Code', 'DISPOSITION_DATE', 'LAST_PAID_INSTALLMENT_DATE', 'ZB_DTE']]"
   ]
  },
  {
   "cell_type": "code",
   "execution_count": 23,
   "id": "de5653ec",
   "metadata": {},
   "outputs": [],
   "source": [
    "\n",
    "chunks2 = pd.read_csv(\"Zip_files/2017Q4.zip\", compression='zip', sep = '|', \n",
    "                     header=None, names=All_columns, on_bad_lines='skip', \n",
    "                     chunksize = current_size)\n"
   ]
  },
  {
   "cell_type": "code",
   "execution_count": 24,
   "id": "1adbd1ee",
   "metadata": {},
   "outputs": [],
   "source": [
    "for chunk2 in chunks2:\n",
    "    data2 = chunk2\n",
    "    break"
   ]
  },
  {
   "cell_type": "code",
   "execution_count": 36,
   "id": "75c219d6",
   "metadata": {},
   "outputs": [],
   "source": [
    "l2 = data2['LOAN_ID'].unique()"
   ]
  },
  {
   "cell_type": "code",
   "execution_count": 40,
   "id": "2344b7e6",
   "metadata": {},
   "outputs": [
    {
     "data": {
      "text/plain": [
       "set()"
      ]
     },
     "execution_count": 40,
     "metadata": {},
     "output_type": "execute_result"
    }
   ],
   "source": [
    "set(l1).intersection(set(l2))"
   ]
  },
  {
   "cell_type": "code",
   "execution_count": 60,
   "id": "0b646ab0",
   "metadata": {},
   "outputs": [
    {
     "data": {
      "text/plain": [
       "['POOL_ID',\n",
       " 'MASTER_SERVICER',\n",
       " 'ISSUANCE_UPB',\n",
       " 'FIRST_PAY_IO',\n",
       " 'MNTHS_TO_AMTZ_IO',\n",
       " 'MI_CANCEL_FLAG',\n",
       " 'RPRCH_DTE',\n",
       " 'CURR_SCHD_PRNCPL',\n",
       " 'UNSCHD_PRNCPL_CURR',\n",
       " 'ORIGINAL_LIST_START_DATE',\n",
       " 'ORIGINAL_LIST_PRICE',\n",
       " 'CURRENT_LIST_START_DATE',\n",
       " 'CURRENT_LIST_PRICE',\n",
       " 'ISSUE_SCOREB',\n",
       " 'ISSUE_SCOREC',\n",
       " 'CURR_SCOREB',\n",
       " 'CURR_SCOREC',\n",
       " 'CURRENT_PERIOD_MODIFICATION_LOSS_AMOUNT',\n",
       " 'CUMULATIVE_MODIFICATION_LOSS_AMOUNT',\n",
       " 'CURRENT_PERIOD_CREDIT_EVENT_NET_GAIN_OR_LOSS',\n",
       " 'CUMULATIVE_CREDIT_EVENT_NET_GAIN_OR_LOSS',\n",
       " 'ZERO_BALANCE_CODE_CHANGE_DATE',\n",
       " 'LOAN_HOLDBACK_INDICATOR',\n",
       " 'LOAN_HOLDBACK_EFFECTIVE_DATE',\n",
       " 'DELINQUENT_ACCRUED_INTEREST',\n",
       " 'ARM_5_YR_INDICATOR',\n",
       " 'ARM_PRODUCT_TYPE',\n",
       " 'MONTHS_UNTIL_FIRST_PAYMENT_RESET',\n",
       " 'MONTHS_BETWEEN_SUBSEQUENT_PAYMENT_RESET',\n",
       " 'INTEREST_RATE_CHANGE_DATE',\n",
       " 'PAYMENT_CHANGE_DATE',\n",
       " 'ARM_INDEX',\n",
       " 'ARM_CAP_STRUCTURE',\n",
       " 'INITIAL_INTEREST_RATE_CAP',\n",
       " 'PERIODIC_INTEREST_RATE_CAP',\n",
       " 'LIFETIME_INTEREST_RATE_CAP',\n",
       " 'MARGIN',\n",
       " 'BALLOON_INDICATOR',\n",
       " 'PLAN_NUMBER',\n",
       " 'DEAL_NAME']"
      ]
     },
     "execution_count": 60,
     "metadata": {},
     "output_type": "execute_result"
    }
   ],
   "source": [
    "all_null_columns"
   ]
  },
  {
   "cell_type": "code",
   "execution_count": null,
   "id": "4bd55166",
   "metadata": {},
   "outputs": [],
   "source": []
  }
 ],
 "metadata": {
  "kernelspec": {
   "display_name": "Python 3 (ipykernel)",
   "language": "python",
   "name": "python3"
  },
  "language_info": {
   "codemirror_mode": {
    "name": "ipython",
    "version": 3
   },
   "file_extension": ".py",
   "mimetype": "text/x-python",
   "name": "python",
   "nbconvert_exporter": "python",
   "pygments_lexer": "ipython3",
   "version": "3.9.12"
  }
 },
 "nbformat": 4,
 "nbformat_minor": 5
}
